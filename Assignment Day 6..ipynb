{
 "cells": [
  {
   "cell_type": "code",
   "execution_count": 2,
   "metadata": {},
   "outputs": [
    {
     "name": "stdout",
     "output_type": "stream",
     "text": [
      "uc\n"
     ]
    }
   ],
   "source": [
    "# Question 1\n",
    "\n",
    "def companyname(email):\n",
    "    index_of_at = email.find('@')\n",
    "\n",
    "    return email[index_of_at+1:email.rfind('.')]\n",
    "z = companyname(\"rvalencu@uc.cl\")\n",
    "print(z)"
   ]
  },
  {
   "cell_type": "code",
   "execution_count": 3,
   "metadata": {},
   "outputs": [
    {
     "name": "stdout",
     "output_type": "stream",
     "text": [
      "Input comma separated sequence of wordsbig,little,dog,elephant,cat\n",
      "big,cat,dog,elephant,little\n"
     ]
    }
   ],
   "source": [
    "# Question 2\n",
    "\n",
    "items = input(\"Input comma separated sequence of words\")\n",
    "words = [word for word in items.split(\",\")]\n",
    "print(\",\".join(sorted(list(set(words)))))"
   ]
  },
  {
   "cell_type": "code",
   "execution_count": 7,
   "metadata": {},
   "outputs": [],
   "source": [
    "# Question 3 \"SET\"\n",
    "\n",
    "# A set is a collection which is unordered and unindexed. In Python, sets are written with curly brackets.\n",
    "# You can access items in a set with a loop, using for, or ask if a value is present in a set, using in.\n",
    "# Once a set is created, you cannot change its items, but you can add new items.\n"
   ]
  },
  {
   "cell_type": "code",
   "execution_count": 9,
   "metadata": {},
   "outputs": [
    {
     "name": "stdout",
     "output_type": "stream",
     "text": [
      "dogs\n",
      "elephants\n",
      "cats\n"
     ]
    }
   ],
   "source": [
    "set1 = {\"dogs\", \"cats\", \"elephants\"}\n",
    "\n",
    "for i in set1:\n",
    "  print(i)"
   ]
  },
  {
   "cell_type": "code",
   "execution_count": 10,
   "metadata": {},
   "outputs": [
    {
     "name": "stdout",
     "output_type": "stream",
     "text": [
      "True\n"
     ]
    }
   ],
   "source": [
    "print(\"dogs\" in set1)"
   ]
  },
  {
   "cell_type": "code",
   "execution_count": 11,
   "metadata": {},
   "outputs": [
    {
     "name": "stdout",
     "output_type": "stream",
     "text": [
      "{'dogs', 'elephants', 'wolves', 'cats'}\n"
     ]
    }
   ],
   "source": [
    "set1.add(\"wolves\")\n",
    "\n",
    "print(set1)"
   ]
  },
  {
   "cell_type": "code",
   "execution_count": 12,
   "metadata": {},
   "outputs": [
    {
     "name": "stdout",
     "output_type": "stream",
     "text": [
      "{'monkeys', 'cats', 'crocs', 'lions', 'wolves', 'dogs', 'elephants'}\n"
     ]
    }
   ],
   "source": [
    "set1.update([\"monkeys\", \"crocs\", \"lions\"])\n",
    "\n",
    "print(set1)"
   ]
  },
  {
   "cell_type": "code",
   "execution_count": 14,
   "metadata": {},
   "outputs": [
    {
     "name": "stdout",
     "output_type": "stream",
     "text": [
      "7\n"
     ]
    }
   ],
   "source": [
    "print(len(set1))"
   ]
  },
  {
   "cell_type": "code",
   "execution_count": 15,
   "metadata": {},
   "outputs": [
    {
     "name": "stdout",
     "output_type": "stream",
     "text": [
      "{'monkeys', 'cats', 'lions', 'wolves', 'dogs', 'elephants'}\n"
     ]
    }
   ],
   "source": [
    "set1.remove(\"crocs\")\n",
    "\n",
    "print(set1)"
   ]
  },
  {
   "cell_type": "code",
   "execution_count": 16,
   "metadata": {},
   "outputs": [
    {
     "name": "stdout",
     "output_type": "stream",
     "text": [
      "{'monkeys', 'lions', 'wolves', 'dogs', 'elephants'}\n"
     ]
    }
   ],
   "source": [
    "set1.discard(\"cats\")\n",
    "\n",
    "print(set1)"
   ]
  },
  {
   "cell_type": "code",
   "execution_count": 17,
   "metadata": {},
   "outputs": [
    {
     "name": "stdout",
     "output_type": "stream",
     "text": [
      "monkeys\n",
      "{'lions', 'wolves', 'dogs', 'elephants'}\n"
     ]
    }
   ],
   "source": [
    "x = set1.pop()\n",
    "\n",
    "print(x)\n",
    "\n",
    "print(set1)"
   ]
  },
  {
   "cell_type": "code",
   "execution_count": 18,
   "metadata": {},
   "outputs": [
    {
     "name": "stdout",
     "output_type": "stream",
     "text": [
      "set()\n"
     ]
    }
   ],
   "source": [
    "set1.clear()\n",
    "\n",
    "print(set1)"
   ]
  },
  {
   "cell_type": "code",
   "execution_count": 22,
   "metadata": {},
   "outputs": [
    {
     "name": "stdout",
     "output_type": "stream",
     "text": [
      "{1, 2, 'a', 'c', 3, 'b'}\n"
     ]
    }
   ],
   "source": [
    "set3 = {\"a\", \"b\" , \"c\"}\n",
    "set4 = {1, 2, 3}\n",
    "\n",
    "set5 = set3.union(set4)\n",
    "print(set5)"
   ]
  },
  {
   "cell_type": "code",
   "execution_count": 23,
   "metadata": {},
   "outputs": [
    {
     "name": "stdout",
     "output_type": "stream",
     "text": [
      "{1, 2, 'a', 'c', 3, 'b'}\n"
     ]
    }
   ],
   "source": [
    "set3.update(set4)\n",
    "print(set3)"
   ]
  },
  {
   "cell_type": "code",
   "execution_count": 40,
   "metadata": {},
   "outputs": [
    {
     "name": "stdout",
     "output_type": "stream",
     "text": [
      "list : [1, 2, 4, 5, 6]\n",
      "Missing elements : [0, 3]\n"
     ]
    }
   ],
   "source": [
    "# Question 4\n",
    "\n",
    "list = [1, 2, 4, 5, 6,] \n",
    "  \n",
    "print(\"list : \" + str(list))\n",
    "\n",
    "res = [m for m in range(max(list)+1) if m not in list] \n",
    "  \n",
    "print(\"Missing elements: \" + str(res))"
   ]
  },
  {
   "cell_type": "code",
   "execution_count": 70,
   "metadata": {},
   "outputs": [
    {
     "name": "stdout",
     "output_type": "stream",
     "text": [
      "list is : [2, 8, 4, 8, 6, 6, 9, 2]\n",
      "\n",
      "list after removing duplicates :[2, 8, 4, 6, 9]\n"
     ]
    }
   ],
   "source": [
    "# Question 5\n",
    "\n",
    "list = [2, 8, 4, 8, 6, 6, 9, 2] \n",
    "print (\"list is : \" +  str(list)) \n",
    "  \n",
    "z = [] \n",
    "for i in list: \n",
    "    if i not in z: \n",
    "        z.append(i) \n",
    "  \n",
    "  \n",
    "print (\"\\nlist after removing duplicates :\" + str(z))\n"
   ]
  },
  {
   "cell_type": "code",
   "execution_count": null,
   "metadata": {},
   "outputs": [],
   "source": []
  }
 ],
 "metadata": {
  "kernelspec": {
   "display_name": "Python 3",
   "language": "python",
   "name": "python3"
  },
  "language_info": {
   "codemirror_mode": {
    "name": "ipython",
    "version": 3
   },
   "file_extension": ".py",
   "mimetype": "text/x-python",
   "name": "python",
   "nbconvert_exporter": "python",
   "pygments_lexer": "ipython3",
   "version": "3.8.3"
  }
 },
 "nbformat": 4,
 "nbformat_minor": 4
}
