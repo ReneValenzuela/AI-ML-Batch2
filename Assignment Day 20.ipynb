{
 "cells": [
  {
   "cell_type": "code",
   "execution_count": 20,
   "metadata": {},
   "outputs": [],
   "source": [
    "import pandas as pd\n",
    "import matplotlib.pyplot as plt\n",
    "import seaborn as sns\n",
    "import statsmodels.api as sm\n",
    "from statsmodels.formula.api import ols\n",
    "from statsmodels.stats.multicomp import MultiComparison"
   ]
  },
  {
   "cell_type": "code",
   "execution_count": 6,
   "metadata": {},
   "outputs": [
    {
     "name": "stdout",
     "output_type": "stream",
     "text": [
      "Combined_score is: [5, 4, 4, 3, 9, 4, 4, 8, 7, 5, 1, 5, 9, 9, 8, 10, 4, 10]\n"
     ]
    }
   ],
   "source": [
    "Pat = [5, 4, 4, 3, 9, 4]\n",
    "Jack = [4, 8, 7, 5, 1, 5]\n",
    "Alex = [9, 9, 8, 10, 4, 10]\n",
    "combined_score = Pat + Jack + Alex\n",
    "print('Combined_score is:',combined_score)"
   ]
  },
  {
   "cell_type": "code",
   "execution_count": 12,
   "metadata": {},
   "outputs": [
    {
     "name": "stdout",
     "output_type": "stream",
     "text": [
      "   archer_names  score\n",
      "0           Pat      5\n",
      "1           Pat      4\n",
      "2           Pat      4\n",
      "3           Pat      3\n",
      "4           Pat      9\n",
      "5           Pat      4\n",
      "6          Jack      4\n",
      "7          Jack      8\n",
      "8          Jack      7\n",
      "9          Jack      5\n",
      "10         Jack      1\n",
      "11         Jack      5\n",
      "12         Alex      9\n",
      "13         Alex      9\n",
      "14         Alex      8\n",
      "15         Alex     10\n",
      "16         Alex      4\n",
      "17         Alex     10\n"
     ]
    }
   ],
   "source": [
    "archer_names = ((['Pat'] * len(Pat)) + (['Jack'] * len(Jack)) + (['Alex'] * len(Alex)))\n",
    "my_data = pd.DataFrame({'archer_names': archer_names, 'score': combined_score})\n",
    "print(my_data)"
   ]
  },
  {
   "cell_type": "code",
   "execution_count": 13,
   "metadata": {},
   "outputs": [
    {
     "name": "stdout",
     "output_type": "stream",
     "text": [
      "                 score\n",
      "archer_names          \n",
      "Alex          8.333333\n",
      "Jack          5.000000\n",
      "Pat           4.833333\n"
     ]
    }
   ],
   "source": [
    "print(my_data.groupby('archer_names').mean())"
   ]
  },
  {
   "cell_type": "code",
   "execution_count": 15,
   "metadata": {},
   "outputs": [
    {
     "name": "stdout",
     "output_type": "stream",
     "text": [
      "                df     sum_sq    mean_sq         F    PR(>F)\n",
      "archer_names   2.0  46.777778  23.388889  4.488273  0.029668\n",
      "Residual      15.0  78.166667   5.211111       NaN       NaN\n"
     ]
    }
   ],
   "source": [
    "linear_model = ols('score ~ archer_names', data=my_data).fit()\n",
    "table = sm.stats.anova_lm(linear_model)\n",
    "print(table)"
   ]
  },
  {
   "cell_type": "code",
   "execution_count": 16,
   "metadata": {},
   "outputs": [],
   "source": [
    "# p value(0,029) is < 0.05 significance. So, we reject Null hypothesis. All arches don't perform equally."
   ]
  },
  {
   "cell_type": "code",
   "execution_count": 17,
   "metadata": {},
   "outputs": [],
   "source": [
    "# Tukey's Method"
   ]
  },
  {
   "cell_type": "code",
   "execution_count": 21,
   "metadata": {},
   "outputs": [
    {
     "name": "stdout",
     "output_type": "stream",
     "text": [
      "AxesSubplot(0.125,0.125;0.775x0.755)\n",
      "AxesSubplot(0.125,0.125;0.775x0.755)\n"
     ]
    },
    {
     "data": {
      "image/png": "[encoded data removed]",
      "text/plain": [
       "<Figure size 720x360 with 1 Axes>"
      ]
     },
     "metadata": {
      "needs_background": "light"
     },
     "output_type": "display_data"
    },
    {
     "data": {
      "image/png": "[encoded data removed]",
      "text/plain": [
       "<Figure size 720x360 with 1 Axes>"
      ]
     },
     "metadata": {
      "needs_background": "light"
     },
     "output_type": "display_data"
    }
   ],
   "source": [
    "plt.figure(figsize= (10, 5))\n",
    "print(sns.boxplot(x='archer_names', y='score', data=my_data, hue='archer_names', linewidth=0.7, fliersize=4))\n",
    "plt.figure(figsize=(10, 5))\n",
    "print(sns.barplot(x='archer_names', y='score', data=my_data))"
   ]
  },
  {
   "cell_type": "code",
   "execution_count": 22,
   "metadata": {},
   "outputs": [
    {
     "name": "stdout",
     "output_type": "stream",
     "text": [
      "Multiple Comparison of Means - Tukey HSD, FWER=0.05\n",
      "===================================================\n",
      "group1 group2 meandiff p-adj   lower  upper  reject\n",
      "---------------------------------------------------\n",
      "  Alex   Jack  -3.3333 0.0568 -6.7554 0.0887  False\n",
      "  Alex    Pat     -3.5 0.0447  -6.922 -0.078   True\n",
      "  Jack    Pat  -0.1667    0.9 -3.5887 3.2554  False\n",
      "---------------------------------------------------\n"
     ]
    }
   ],
   "source": [
    "multi_comparison = MultiComparison(my_data['score'], my_data['archer_names'])\n",
    "multi_comparison_results = multi_comparison.tukeyhsd(alpha=0.05)\n",
    "print(multi_comparison_results.summary())"
   ]
  },
  {
   "cell_type": "code",
   "execution_count": 23,
   "metadata": {},
   "outputs": [
    {
     "name": "stdout",
     "output_type": "stream",
     "text": [
      "['Alex' 'Jack' 'Pat']\n"
     ]
    }
   ],
   "source": [
    "print(multi_comparison.groupsunique)"
   ]
  },
  {
   "cell_type": "code",
   "execution_count": null,
   "metadata": {},
   "outputs": [],
   "source": [
    "#Alex is the best archer if we look at the meandiffcolumn."
   ]
  }
 ],
 "metadata": {
  "kernelspec": {
   "display_name": "Python 3",
   "language": "python",
   "name": "python3"
  },
  "language_info": {
   "codemirror_mode": {
    "name": "ipython",
    "version": 3
   },
   "file_extension": ".py",
   "mimetype": "text/x-python",
   "name": "python",
   "nbconvert_exporter": "python",
   "pygments_lexer": "ipython3",
   "version": "3.8.3"
  }
 },
 "nbformat": 4,
 "nbformat_minor": 4
}
