{
 "cells": [
  {
   "cell_type": "code",
   "execution_count": 3,
   "metadata": {},
   "outputs": [
    {
     "ename": "FileNotFoundError",
     "evalue": "[Errno 2] No such file or directory: 'bcd.txt'",
     "output_type": "error",
     "traceback": [
      "\u001b[1;31m---------------------------------------------------------------------------\u001b[0m",
      "\u001b[1;31mFileNotFoundError\u001b[0m                         Traceback (most recent call last)",
      "\u001b[1;32m<ipython-input-3-8b30529f5923>\u001b[0m in \u001b[0;36m<module>\u001b[1;34m\u001b[0m\n\u001b[0;32m      2\u001b[0m \u001b[1;33m\u001b[0m\u001b[0m\n\u001b[0;32m      3\u001b[0m \u001b[1;31m# open file in read mode\u001b[0m\u001b[1;33m\u001b[0m\u001b[1;33m\u001b[0m\u001b[1;33m\u001b[0m\u001b[0m\n\u001b[1;32m----> 4\u001b[1;33m \u001b[0mfn\u001b[0m \u001b[1;33m=\u001b[0m \u001b[0mopen\u001b[0m\u001b[1;33m(\u001b[0m\u001b[1;34m'bcd.txt'\u001b[0m\u001b[1;33m,\u001b[0m \u001b[1;34m'r'\u001b[0m\u001b[1;33m)\u001b[0m\u001b[1;33m\u001b[0m\u001b[1;33m\u001b[0m\u001b[0m\n\u001b[0m\u001b[0;32m      5\u001b[0m \u001b[1;33m\u001b[0m\u001b[0m\n\u001b[0;32m      6\u001b[0m \u001b[1;31m# open other file in write mode\u001b[0m\u001b[1;33m\u001b[0m\u001b[1;33m\u001b[0m\u001b[1;33m\u001b[0m\u001b[0m\n",
      "\u001b[1;31mFileNotFoundError\u001b[0m: [Errno 2] No such file or directory: 'bcd.txt'"
     ]
    }
   ],
   "source": [
    "# Question 1\n",
    "\n",
    "# open file in read mode \n",
    "fn = open('bcd.txt', 'r') \n",
    "  \n",
    "# open other file in write mode \n",
    "fn1 = open('nfile.txt', 'w') \n",
    "  \n",
    "# read the content of the file line by line \n",
    "cont = fn.readlines() \n",
    "\n",
    "for i in range(0, len(cont)): \n",
    "     fn1.write(cont[i]) \n",
    "   \n",
    "  \n",
    "# close the file \n",
    "fn1.close() \n",
    "  \n",
    "# open file in read mode \n",
    "fn1 = open('nfile.txt', 'r') \n",
    "  \n",
    "# read the content of the file \n",
    "cont1 = fn1.read() \n",
    "  \n",
    "# print the content of the file \n",
    "print(cont1) \n",
    "  \n",
    "# close all files \n",
    "fn.close() \n",
    "fn1.close()\n"
   ]
  },
  {
   "cell_type": "code",
   "execution_count": 1,
   "metadata": {},
   "outputs": [
    {
     "name": "stdout",
     "output_type": "stream",
     "text": [
      "Minimum value is 300\n",
      "\n",
      "Maximum value is 500\n"
     ]
    }
   ],
   "source": [
    "# Question 2\n",
    "\n",
    "d1 = {'Iphone':500,'Samsung':400,'Alcatel':300}\n",
    "\n",
    "list = list(d1.values())\n",
    "\n",
    "list.sort()\n",
    "\n",
    "print('Minimum value is %s\\n\\nMaximum value is %s'%(list[0],list[-1]))"
   ]
  },
  {
   "cell_type": "code",
   "execution_count": 15,
   "metadata": {},
   "outputs": [
    {
     "ename": "SyntaxError",
     "evalue": "invalid syntax (<ipython-input-15-9da6e5769242>, line 11)",
     "output_type": "error",
     "traceback": [
      "\u001b[1;36m  File \u001b[1;32m\"<ipython-input-15-9da6e5769242>\"\u001b[1;36m, line \u001b[1;32m11\u001b[0m\n\u001b[1;33m    if(i % 2 ! = 0):\u001b[0m\n\u001b[1;37m             ^\u001b[0m\n\u001b[1;31mSyntaxError\u001b[0m\u001b[1;31m:\u001b[0m invalid syntax\n"
     ]
    }
   ],
   "source": [
    "# open file in read mode \n",
    "fn = open('bcd.txt', 'r') \n",
    "  \n",
    "# open other file in write mode \n",
    "fn1 = open('nfile.txt', 'w') \n",
    "  \n",
    "# read the content of the file line by line \n",
    "cont = fn.readlines() \n",
    "type(cont) \n",
    "for i in range(0, len(cont)): \n",
    "    if(i % 2 ! = 0): \n",
    "        fn1.write(cont[i]) \n",
    "    else: \n",
    "        pass\n",
    "  \n",
    "# close the file \n",
    "fn1.close() \n",
    "  \n",
    "# open file in read mode \n",
    "fn1 = open('nfile.txt', 'r') \n",
    "  \n",
    "# read the content of the file \n",
    "cont1 = fn1.read() \n",
    "  \n",
    "# print the content of the file \n",
    "print(cont1) \n",
    "  \n",
    "# close all files \n",
    "fn.close() \n",
    "fn1.close()"
   ]
  },
  {
   "cell_type": "code",
   "execution_count": null,
   "metadata": {},
   "outputs": [],
   "source": []
  },
  {
   "cell_type": "code",
   "execution_count": null,
   "metadata": {},
   "outputs": [],
   "source": []
  }
 ],
 "metadata": {
  "kernelspec": {
   "display_name": "Python 3",
   "language": "python",
   "name": "python3"
  },
  "language_info": {
   "codemirror_mode": {
    "name": "ipython",
    "version": 3
   },
   "file_extension": ".py",
   "mimetype": "text/x-python",
   "name": "python",
   "nbconvert_exporter": "python",
   "pygments_lexer": "ipython3",
   "version": "3.8.3"
  }
 },
 "nbformat": 4,
 "nbformat_minor": 4
}
