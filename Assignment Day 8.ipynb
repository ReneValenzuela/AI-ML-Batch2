{
 "cells": [
  {
   "cell_type": "markdown",
   "metadata": {},
   "source": [
    "# Question 1"
   ]
  },
  {
   "cell_type": "raw",
   "metadata": {},
   "source": [
    "map(), filter() and reduce() are built-in functions of Python.\n",
    "\n",
    "These functions enable the functional programming aspect of Python.\n",
    "\n",
    "In Functional Programming, the arguments passed are the only factors that decide upon the output.\n",
    "\n",
    "These functions can take any other function as a parameter and can be supplied to other functions as parameters as well.\n",
    "\n",
    "map()-\n",
    "It applies the given function to all iterables and returns a new list.\n",
    "\n",
    "SYNTAX:\n",
    "\n",
    "map(function, iterables)\n"
   ]
  },
  {
   "cell_type": "code",
   "execution_count": 1,
   "metadata": {},
   "outputs": [
    {
     "name": "stdout",
     "output_type": "stream",
     "text": [
      "125\n"
     ]
    }
   ],
   "source": [
    "def cube(a):\n",
    "    return a*a*a\n",
    "x= cube(5)\n",
    "print(x)"
   ]
  },
  {
   "cell_type": "code",
   "execution_count": 3,
   "metadata": {},
   "outputs": [
    {
     "name": "stdout",
     "output_type": "stream",
     "text": [
      "<map object at 0x0000000004DE1EB0>\n",
      "<class 'map'>\n",
      "[1, 8, 27, 64, 125]\n",
      "()\n",
      "set()\n"
     ]
    }
   ],
   "source": [
    "def cube(a):\n",
    "    return a*a*a\n",
    "x = map(cube,[1,2,3,4,5])\n",
    "print(x)\n",
    "print(type(x))\n",
    "print(list(x))\n",
    "print(tuple(x))\n",
    "print(set(x))"
   ]
  },
  {
   "cell_type": "code",
   "execution_count": 5,
   "metadata": {},
   "outputs": [
    {
     "name": "stdout",
     "output_type": "stream",
     "text": [
      "[3, 4, 5, 6]\n"
     ]
    }
   ],
   "source": [
    "def sum(a,b):\n",
    "    return a+b\n",
    "x = map(sum, [1,2,3,4], [2,2,2,2] )\n",
    "print(list(x))"
   ]
  },
  {
   "cell_type": "code",
   "execution_count": 8,
   "metadata": {},
   "outputs": [
    {
     "name": "stdout",
     "output_type": "stream",
     "text": [
      "[3, 4, 5, 6]\n"
     ]
    }
   ],
   "source": [
    "def sum(a,b):\n",
    "    return a+b\n",
    "print(list(map(sum, [1,2,3,4], [2,2,2,2] )))\n"
   ]
  },
  {
   "cell_type": "code",
   "execution_count": 9,
   "metadata": {},
   "outputs": [
    {
     "name": "stdout",
     "output_type": "stream",
     "text": [
      "[2, 3, 4, 5]\n"
     ]
    }
   ],
   "source": [
    "def sum(a,b):\n",
    "    return a+b\n",
    "print(list(map(sum, [ i for i in range(4)], (2,2,2,2,2) )))"
   ]
  },
  {
   "cell_type": "raw",
   "metadata": {},
   "source": [
    "Lambda functions\n",
    "\n",
    "Lambda expressions are nameless.\n",
    "\n",
    "We also call them as anonymous or nameless functions.\n",
    "\n",
    "They are generally provided as input to other functions.\n",
    "\n",
    "Lambda functions are single line functions. Therefore we have to provide the expression along with the function itself.\n",
    "\n",
    "Note: 'lambda' is not a name, it s a keyword.\n",
    "\n",
    "Use of lambda functions:\n",
    "\n",
    "Lambda functions are also called as throw away functions.\n",
    "\n",
    "Input/Output to other functions: They are also passed as inputs or returned as outputs of other higher-order functions.\n",
    "\n",
    "Reduce Code size: The body of lambda functions is written in a single line.\n",
    "\n",
    "SYNTAX:\n",
    "\n",
    "lambda arguments: expression"
   ]
  },
  {
   "cell_type": "code",
   "execution_count": 10,
   "metadata": {},
   "outputs": [
    {
     "data": {
      "text/plain": [
       "8"
      ]
     },
     "execution_count": 10,
     "metadata": {},
     "output_type": "execute_result"
    }
   ],
   "source": [
    "x = lambda a:a+a\n",
    "x(4)"
   ]
  },
  {
   "cell_type": "code",
   "execution_count": 13,
   "metadata": {},
   "outputs": [
    {
     "data": {
      "text/plain": [
       "21"
      ]
     },
     "execution_count": 13,
     "metadata": {},
     "output_type": "execute_result"
    }
   ],
   "source": [
    "def abc(x):\n",
    "    return lambda y: x*x+y\n",
    "t = abc(4)\n",
    "t(5)"
   ]
  },
  {
   "cell_type": "code",
   "execution_count": 15,
   "metadata": {},
   "outputs": [
    {
     "data": {
      "text/plain": [
       "15"
      ]
     },
     "execution_count": 15,
     "metadata": {},
     "output_type": "execute_result"
    }
   ],
   "source": [
    "z = lambda x,y: (x+y)*x+(x+5)*y\n",
    "z(1,2)"
   ]
  },
  {
   "cell_type": "code",
   "execution_count": 29,
   "metadata": {},
   "outputs": [],
   "source": [
    "l = [1, 2, 3, 4]"
   ]
  },
  {
   "cell_type": "code",
   "execution_count": 53,
   "metadata": {},
   "outputs": [
    {
     "name": "stdout",
     "output_type": "stream",
     "text": [
      "(4, 5, 6, 7)\n"
     ]
    }
   ],
   "source": [
    "x = map(lambda x: x+3,l)\n",
    "print(tuple(x))\n"
   ]
  },
  {
   "cell_type": "code",
   "execution_count": 54,
   "metadata": {},
   "outputs": [
    {
     "name": "stdout",
     "output_type": "stream",
     "text": [
      "<filter object at 0x00000000050085B0>\n",
      "(3, 4, 5)\n"
     ]
    }
   ],
   "source": [
    "def sqr(j):\n",
    "    if j>=3:\n",
    "        return j\n",
    "v = filter( sqr, [1,2,3,4,5] )\n",
    "print(v)\n",
    "print(tuple(v))"
   ]
  },
  {
   "cell_type": "code",
   "execution_count": 1,
   "metadata": {},
   "outputs": [
    {
     "name": "stdout",
     "output_type": "stream",
     "text": [
      "10\n"
     ]
    }
   ],
   "source": [
    "from functools import reduce\n",
    "def sqr(a,b):\n",
    "    return a+b\n",
    "x = reduce(sqr, [0,1,2,3,4])\n",
    "print(x)"
   ]
  },
  {
   "cell_type": "code",
   "execution_count": 46,
   "metadata": {},
   "outputs": [
    {
     "data": {
      "text/plain": [
       "10"
      ]
     },
     "execution_count": 46,
     "metadata": {},
     "output_type": "execute_result"
    }
   ],
   "source": [
    "reduce( lambda x,y: x+y , [0,1,2,3,4] )"
   ]
  },
  {
   "cell_type": "markdown",
   "metadata": {},
   "source": [
    "# Question 2"
   ]
  },
  {
   "cell_type": "code",
   "execution_count": null,
   "metadata": {},
   "outputs": [],
   "source": [
    "Python Classes and Objects\n",
    "\n",
    "Python is an object oriented programming language.\n",
    "\n",
    "A Class is like an object constructor.\n",
    "\n",
    "Object is anything in the real world that has some unique characteristics.It has state and behavior. eg: Mouse, keyboard, chair, table, etc\n",
    "\n",
    "Class is a collection of objects. It is a logical entity that has some specific attributes and methods. eg: If you have a student class, then it should contain an attribute and method viz name, standard, age, etc\n",
    "\n",
    "Inheritance means one object acquires properties and behavior of the parent object.\n",
    "\n",
    "The new class is known as the Derived class or Child class.\n",
    "\n",
    "And from which inherited the properties is called as Base class or Parent class.\n",
    "\n",
    "Inheritance provides reusability of the code.\n",
    "\n",
    "Polymorphism: one object many forms.\n",
    "\n",
    "Data Abstraction/Data Hiding\n",
    "\n",
    "Data Encapsulation/ Data Binding\n"
   ]
  },
  {
   "cell_type": "code",
   "execution_count": 4,
   "metadata": {},
   "outputs": [
    {
     "name": "stdout",
     "output_type": "stream",
     "text": [
      "Hello Python\n",
      "Hello Python\n"
     ]
    }
   ],
   "source": [
    "class abc:\n",
    "    def show(self):\n",
    "        print('Hello Python')\n",
    "s = abc()\n",
    "s.show()\n",
    "t = abc()\n",
    "t.show()"
   ]
  },
  {
   "cell_type": "code",
   "execution_count": 5,
   "metadata": {},
   "outputs": [],
   "source": [
    "#the argument is always named 'self'"
   ]
  },
  {
   "cell_type": "code",
   "execution_count": 6,
   "metadata": {},
   "outputs": [],
   "source": [
    "#Private Variables\n",
    "#They begin with double underscores __\n"
   ]
  },
  {
   "cell_type": "code",
   "execution_count": 9,
   "metadata": {},
   "outputs": [
    {
     "name": "stdout",
     "output_type": "stream",
     "text": [
      "2\n",
      "Hello\n"
     ]
    }
   ],
   "source": [
    "class abc:\n",
    "    y=2\n",
    "    __v=4\n",
    "    def show(self):\n",
    "        print('Hello')\n",
    "s = abc()\n",
    "print(s.y)\n",
    "s.show()"
   ]
  },
  {
   "cell_type": "code",
   "execution_count": 10,
   "metadata": {},
   "outputs": [],
   "source": [
    "#Instances as arguments\n",
    "#The class instance variables are always prefixed with reserved word 'self' and typically initialized in a constructor method named init"
   ]
  },
  {
   "cell_type": "code",
   "execution_count": 18,
   "metadata": {},
   "outputs": [
    {
     "name": "stdout",
     "output_type": "stream",
     "text": [
      "I am called\n",
      "I am ready\n",
      "Lets go ahead\n",
      "You are in show\n",
      "Bye from show\n"
     ]
    }
   ],
   "source": [
    "class xyz:\n",
    "    def __init__(self):\n",
    "        print(\"I am called\")\n",
    "        print(\"I am ready\")\n",
    "        print(\"Lets go ahead\")\n",
    "    def show(self):\n",
    "        print(\"You are in show\")\n",
    "        print(\"Bye from show\")\n",
    "s = xyz()\n",
    "s.show()"
   ]
  },
  {
   "cell_type": "code",
   "execution_count": 19,
   "metadata": {},
   "outputs": [
    {
     "name": "stdout",
     "output_type": "stream",
     "text": [
      "4\n",
      "5\n"
     ]
    }
   ],
   "source": [
    "class xyz:\n",
    "    def __init__(self,n):\n",
    "        self.n=n+1\n",
    "        print(n)\n",
    "        print(self.n)\n",
    "s = xyz(4)"
   ]
  },
  {
   "cell_type": "code",
   "execution_count": 21,
   "metadata": {},
   "outputs": [],
   "source": [
    "#Instances a return value"
   ]
  },
  {
   "cell_type": "code",
   "execution_count": 22,
   "metadata": {},
   "outputs": [
    {
     "name": "stdout",
     "output_type": "stream",
     "text": [
      "4 3\n",
      "4 3\n",
      "4 3\n",
      "99 88\n"
     ]
    }
   ],
   "source": [
    "class st:\n",
    "    def add(self,a,b):\n",
    "        a1=a\n",
    "        b1=b\n",
    "        print(a1,b1)\n",
    "        print(a,b)\n",
    "        a=99\n",
    "        b=88\n",
    "        print(a1,b1)\n",
    "        print(a,b)\n",
    "s=st()\n",
    "s.add(4,3)"
   ]
  },
  {
   "cell_type": "code",
   "execution_count": 24,
   "metadata": {},
   "outputs": [
    {
     "name": "stdout",
     "output_type": "stream",
     "text": [
      "4 3\n",
      "4 3\n",
      "4 3\n",
      "99 88\n",
      "555 666\n",
      "99 88\n"
     ]
    }
   ],
   "source": [
    "class st:\n",
    "    def add(self,a,b):\n",
    "        self.a=a\n",
    "        self.b=b\n",
    "        print(self.a,self.b)\n",
    "        print(a,b)\n",
    "        a=99\n",
    "        b=88\n",
    "        print(self.a,self.b)\n",
    "        print(a,b)\n",
    "        self.a=555\n",
    "        self.b=666\n",
    "        print(self.a,self.b)\n",
    "        print(a,b)\n",
    "s=st()\n",
    "s.add(4,3)"
   ]
  },
  {
   "cell_type": "code",
   "execution_count": 29,
   "metadata": {},
   "outputs": [
    {
     "ename": "IndentationError",
     "evalue": "expected an indented block (<ipython-input-29-e816751fcd6a>, line 3)",
     "output_type": "error",
     "traceback": [
      "\u001b[1;36m  File \u001b[1;32m\"<ipython-input-29-e816751fcd6a>\"\u001b[1;36m, line \u001b[1;32m3\u001b[0m\n\u001b[1;33m    self.a=a\u001b[0m\n\u001b[1;37m    ^\u001b[0m\n\u001b[1;31mIndentationError\u001b[0m\u001b[1;31m:\u001b[0m expected an indented block\n"
     ]
    }
   ],
   "source": [
    "class st:\n",
    "    def add(self,a,b):\n",
    "    self.a=a\n",
    "    self.b=b\n",
    "    return self.a+self.b\n",
    "s=st()\n",
    "s.add(4,3)"
   ]
  },
  {
   "cell_type": "code",
   "execution_count": 31,
   "metadata": {},
   "outputs": [
    {
     "name": "stdout",
     "output_type": "stream",
     "text": [
      "4\n",
      "3\n"
     ]
    }
   ],
   "source": [
    "class st:\n",
    "    def __init__(self,a,b):\n",
    "        self.a=a\n",
    "        self.b=b\n",
    "s=st(4,3)\n",
    "print(s.a)\n",
    "print(s.b)"
   ]
  },
  {
   "cell_type": "code",
   "execution_count": 32,
   "metadata": {},
   "outputs": [
    {
     "name": "stdout",
     "output_type": "stream",
     "text": [
      "Highest qualification:  Phd\n",
      "Stream:  CS and Engg\n"
     ]
    }
   ],
   "source": [
    "class st:\n",
    "    def __init__(self,a,b):\n",
    "        self.a=a\n",
    "        self.b=b\n",
    "s=st('Phd','CS and Engg')\n",
    "print(\"Highest qualification: \",s.a)\n",
    "print(\"Stream: \",s.b)"
   ]
  },
  {
   "cell_type": "code",
   "execution_count": 33,
   "metadata": {},
   "outputs": [],
   "source": [
    "#del()\n",
    "#To destroy an instance of the class which is no longer referenced"
   ]
  },
  {
   "cell_type": "code",
   "execution_count": 34,
   "metadata": {},
   "outputs": [
    {
     "name": "stdout",
     "output_type": "stream",
     "text": [
      "hello  Darshan\n",
      "hello  Python\n"
     ]
    }
   ],
   "source": [
    "class abc:\n",
    "    def __init__(self,n):\n",
    "        print(\"hello \",n)\n",
    "    def __del__(self):\n",
    "        print(\"Object deleted\")\n",
    "s1=abc(\"Darshan\")\n",
    "s2=abc(\"Python\")"
   ]
  },
  {
   "cell_type": "code",
   "execution_count": 35,
   "metadata": {},
   "outputs": [],
   "source": [
    "#Data Encapsulation\n",
    "# It is used to restrict access to methods and variables.\n",
    "# Data encapsulation prevents data to be modified by accident."
   ]
  },
  {
   "cell_type": "code",
   "execution_count": 38,
   "metadata": {},
   "outputs": [
    {
     "name": "stdout",
     "output_type": "stream",
     "text": [
      "Hello\n",
      "Darshan Ingle\n"
     ]
    }
   ],
   "source": [
    "class st:\n",
    "    def __init__(self):\n",
    "        self.__show1()\n",
    "    def show(self):\n",
    "        print(\"Darshan Ingle\")\n",
    "    def __show1(self):\n",
    "        print(\"Hello\")\n",
    "v=st()\n",
    "v.show()"
   ]
  },
  {
   "cell_type": "code",
   "execution_count": 39,
   "metadata": {},
   "outputs": [],
   "source": [
    "# Data Abstraction\n",
    "# Attributes not directly visible to the outsiders\n"
   ]
  },
  {
   "cell_type": "code",
   "execution_count": 41,
   "metadata": {},
   "outputs": [
    {
     "name": "stdout",
     "output_type": "stream",
     "text": [
      "1\n",
      "2\n",
      "3\n"
     ]
    }
   ],
   "source": [
    "class abc:\n",
    "    __p=0\n",
    "    def show(self):\n",
    "        self.__p=self.__p+1\n",
    "        print(self.__p)\n",
    "v=abc()\n",
    "v.show()\n",
    "v.show()\n",
    "v.show()"
   ]
  },
  {
   "cell_type": "code",
   "execution_count": 42,
   "metadata": {},
   "outputs": [],
   "source": [
    "# Polymorphism"
   ]
  },
  {
   "cell_type": "code",
   "execution_count": 43,
   "metadata": {},
   "outputs": [
    {
     "name": "stdout",
     "output_type": "stream",
     "text": [
      "s=  11\n",
      "s=  Darshan\n",
      "s=  2.546\n",
      "s=  (2+4j)\n"
     ]
    }
   ],
   "source": [
    "def show(s):\n",
    "    print(\"s= \",s)\n",
    "show(11)\n",
    "show(\"Darshan\")\n",
    "show(2.546)\n",
    "show(complex(2,4))"
   ]
  },
  {
   "cell_type": "code",
   "execution_count": null,
   "metadata": {},
   "outputs": [],
   "source": []
  }
 ],
 "metadata": {
  "kernelspec": {
   "display_name": "Python 3",
   "language": "python",
   "name": "python3"
  },
  "language_info": {
   "codemirror_mode": {
    "name": "ipython",
    "version": 3
   },
   "file_extension": ".py",
   "mimetype": "text/x-python",
   "name": "python",
   "nbconvert_exporter": "python",
   "pygments_lexer": "ipython3",
   "version": "3.8.3"
  }
 },
 "nbformat": 4,
 "nbformat_minor": 4
}
