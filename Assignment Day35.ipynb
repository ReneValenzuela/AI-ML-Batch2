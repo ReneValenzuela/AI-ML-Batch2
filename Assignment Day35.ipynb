{
 "cells": [
  {
   "cell_type": "code",
   "execution_count": 1,
   "metadata": {},
   "outputs": [],
   "source": [
    "import numpy as np\n",
    "import matplotlib.pyplot as plt\n",
    "import pandas as pd"
   ]
  },
  {
   "cell_type": "code",
   "execution_count": 2,
   "metadata": {},
   "outputs": [],
   "source": [
    "dataset = pd.read_csv('C:/Users/RVALENZUELA/Desktop/RVC 2020/RENE/X/MK Digital/LETS UP GRADE/Datasets/User_Data - Arindam Dev (1).csv')"
   ]
  },
  {
   "cell_type": "code",
   "execution_count": 4,
   "metadata": {},
   "outputs": [],
   "source": [
    "X = dataset.iloc[:, [0,3]].values\n",
    "y = dataset.iloc[:,4].values"
   ]
  },
  {
   "cell_type": "code",
   "execution_count": 5,
   "metadata": {},
   "outputs": [
    {
     "data": {
      "text/html": [
       "<div>\n",
       "<style scoped>\n",
       "    .dataframe tbody tr th:only-of-type {\n",
       "        vertical-align: middle;\n",
       "    }\n",
       "\n",
       "    .dataframe tbody tr th {\n",
       "        vertical-align: top;\n",
       "    }\n",
       "\n",
       "    .dataframe thead th {\n",
       "        text-align: right;\n",
       "    }\n",
       "</style>\n",
       "<table border=\"1\" class=\"dataframe\">\n",
       "  <thead>\n",
       "    <tr style=\"text-align: right;\">\n",
       "      <th></th>\n",
       "      <th>User ID</th>\n",
       "      <th>Gender</th>\n",
       "      <th>Age</th>\n",
       "      <th>EstimatedSalary</th>\n",
       "      <th>Purchased</th>\n",
       "    </tr>\n",
       "  </thead>\n",
       "  <tbody>\n",
       "    <tr>\n",
       "      <th>0</th>\n",
       "      <td>15624510</td>\n",
       "      <td>Male</td>\n",
       "      <td>19</td>\n",
       "      <td>19000</td>\n",
       "      <td>0</td>\n",
       "    </tr>\n",
       "    <tr>\n",
       "      <th>1</th>\n",
       "      <td>15810944</td>\n",
       "      <td>Male</td>\n",
       "      <td>35</td>\n",
       "      <td>20000</td>\n",
       "      <td>0</td>\n",
       "    </tr>\n",
       "    <tr>\n",
       "      <th>2</th>\n",
       "      <td>15668575</td>\n",
       "      <td>Female</td>\n",
       "      <td>26</td>\n",
       "      <td>43000</td>\n",
       "      <td>0</td>\n",
       "    </tr>\n",
       "    <tr>\n",
       "      <th>3</th>\n",
       "      <td>15603246</td>\n",
       "      <td>Female</td>\n",
       "      <td>27</td>\n",
       "      <td>57000</td>\n",
       "      <td>0</td>\n",
       "    </tr>\n",
       "    <tr>\n",
       "      <th>4</th>\n",
       "      <td>15804002</td>\n",
       "      <td>Male</td>\n",
       "      <td>19</td>\n",
       "      <td>76000</td>\n",
       "      <td>0</td>\n",
       "    </tr>\n",
       "  </tbody>\n",
       "</table>\n",
       "</div>"
      ],
      "text/plain": [
       "    User ID  Gender  Age  EstimatedSalary  Purchased\n",
       "0  15624510    Male   19            19000          0\n",
       "1  15810944    Male   35            20000          0\n",
       "2  15668575  Female   26            43000          0\n",
       "3  15603246  Female   27            57000          0\n",
       "4  15804002    Male   19            76000          0"
      ]
     },
     "execution_count": 5,
     "metadata": {},
     "output_type": "execute_result"
    }
   ],
   "source": [
    "dataset.head()"
   ]
  },
  {
   "cell_type": "code",
   "execution_count": 7,
   "metadata": {},
   "outputs": [],
   "source": [
    "from sklearn.model_selection import train_test_split\n",
    "X_train, X_test, y_train, y_test = train_test_split(X, y, test_size = 0.25,random_state=0) "
   ]
  },
  {
   "cell_type": "code",
   "execution_count": 11,
   "metadata": {},
   "outputs": [],
   "source": [
    "from sklearn.preprocessing import StandardScaler\n",
    "sc = StandardScaler()\n",
    "X_train = sc.fit_transform(X_train)\n",
    "X_test = sc.transform(X_test)"
   ]
  },
  {
   "cell_type": "code",
   "execution_count": 15,
   "metadata": {},
   "outputs": [
    {
     "data": {
      "text/plain": [
       "RandomForestClassifier(criterion='entropy', n_estimators=10)"
      ]
     },
     "execution_count": 15,
     "metadata": {},
     "output_type": "execute_result"
    }
   ],
   "source": [
    "from sklearn.ensemble import RandomForestClassifier\n",
    "classifier = RandomForestClassifier(n_estimators = 10, criterion = 'entropy')\n",
    "classifier.fit(X_train, y_train)"
   ]
  },
  {
   "cell_type": "code",
   "execution_count": 16,
   "metadata": {},
   "outputs": [
    {
     "data": {
      "text/plain": [
       "array([0, 0, 0, 0, 0, 0, 0, 1, 0, 0, 0, 0, 0, 0, 0, 0, 0, 0, 1, 0, 0, 1,\n",
       "       0, 1, 1, 1, 0, 0, 0, 0, 0, 0, 0, 0, 0, 0, 0, 0, 1, 0, 1, 0, 0, 0,\n",
       "       1, 0, 0, 1, 0, 0, 1, 1, 1, 1, 0, 0, 0, 1, 0, 1, 0, 0, 0, 1, 1, 0,\n",
       "       0, 0, 0, 0, 1, 0, 0, 0, 0, 0, 0, 0, 0, 1, 1, 0, 0, 1, 1, 0, 0, 1,\n",
       "       0, 0, 0, 1, 0, 0, 0, 1, 0, 1, 1, 1], dtype=int64)"
      ]
     },
     "execution_count": 16,
     "metadata": {},
     "output_type": "execute_result"
    }
   ],
   "source": [
    "y_pred = classifier.predict(X_test)\n",
    "y_pred"
   ]
  },
  {
   "cell_type": "code",
   "execution_count": 17,
   "metadata": {},
   "outputs": [
    {
     "data": {
      "text/plain": [
       "array([[58, 10],\n",
       "       [13, 19]], dtype=int64)"
      ]
     },
     "execution_count": 17,
     "metadata": {},
     "output_type": "execute_result"
    }
   ],
   "source": [
    "from sklearn.metrics import confusion_matrix\n",
    "cm = confusion_matrix(y_test, y_pred)\n",
    "cm"
   ]
  },
  {
   "cell_type": "code",
   "execution_count": 18,
   "metadata": {},
   "outputs": [
    {
     "name": "stdout",
     "output_type": "stream",
     "text": [
      "Accuracy:  0.77\n"
     ]
    }
   ],
   "source": [
    "from sklearn.metrics import accuracy_score\n",
    "print('Accuracy: ',accuracy_score(y_test,y_pred))"
   ]
  },
  {
   "cell_type": "code",
   "execution_count": 22,
   "metadata": {},
   "outputs": [
    {
     "name": "stdout",
     "output_type": "stream",
     "text": [
      "The Classification Reports is as follows...\n",
      "\n",
      "              precision    recall  f1-score   support\n",
      "\n",
      "           0       0.82      0.85      0.83        68\n",
      "           1       0.66      0.59      0.62        32\n",
      "\n",
      "    accuracy                           0.77       100\n",
      "   macro avg       0.74      0.72      0.73       100\n",
      "weighted avg       0.77      0.77      0.77       100\n",
      "\n"
     ]
    }
   ],
   "source": [
    "from sklearn.metrics import classification_report\n",
    "print('The Classification Reports is as follows...\\n')\n",
    "print(classification_report(y_test, y_pred))"
   ]
  },
  {
   "cell_type": "code",
   "execution_count": 24,
   "metadata": {},
   "outputs": [
    {
     "data": {
      "text/html": [
       "<div>\n",
       "<style scoped>\n",
       "    .dataframe tbody tr th:only-of-type {\n",
       "        vertical-align: middle;\n",
       "    }\n",
       "\n",
       "    .dataframe tbody tr th {\n",
       "        vertical-align: top;\n",
       "    }\n",
       "\n",
       "    .dataframe thead th {\n",
       "        text-align: right;\n",
       "    }\n",
       "</style>\n",
       "<table border=\"1\" class=\"dataframe\">\n",
       "  <thead>\n",
       "    <tr style=\"text-align: right;\">\n",
       "      <th></th>\n",
       "      <th>Real Values</th>\n",
       "      <th>Predicted Values</th>\n",
       "    </tr>\n",
       "  </thead>\n",
       "  <tbody>\n",
       "    <tr>\n",
       "      <th>0</th>\n",
       "      <td>0</td>\n",
       "      <td>0</td>\n",
       "    </tr>\n",
       "    <tr>\n",
       "      <th>1</th>\n",
       "      <td>0</td>\n",
       "      <td>0</td>\n",
       "    </tr>\n",
       "    <tr>\n",
       "      <th>2</th>\n",
       "      <td>0</td>\n",
       "      <td>0</td>\n",
       "    </tr>\n",
       "    <tr>\n",
       "      <th>3</th>\n",
       "      <td>0</td>\n",
       "      <td>0</td>\n",
       "    </tr>\n",
       "    <tr>\n",
       "      <th>4</th>\n",
       "      <td>0</td>\n",
       "      <td>0</td>\n",
       "    </tr>\n",
       "    <tr>\n",
       "      <th>...</th>\n",
       "      <td>...</td>\n",
       "      <td>...</td>\n",
       "    </tr>\n",
       "    <tr>\n",
       "      <th>95</th>\n",
       "      <td>1</td>\n",
       "      <td>1</td>\n",
       "    </tr>\n",
       "    <tr>\n",
       "      <th>96</th>\n",
       "      <td>0</td>\n",
       "      <td>0</td>\n",
       "    </tr>\n",
       "    <tr>\n",
       "      <th>97</th>\n",
       "      <td>1</td>\n",
       "      <td>1</td>\n",
       "    </tr>\n",
       "    <tr>\n",
       "      <th>98</th>\n",
       "      <td>1</td>\n",
       "      <td>1</td>\n",
       "    </tr>\n",
       "    <tr>\n",
       "      <th>99</th>\n",
       "      <td>1</td>\n",
       "      <td>1</td>\n",
       "    </tr>\n",
       "  </tbody>\n",
       "</table>\n",
       "<p>100 rows × 2 columns</p>\n",
       "</div>"
      ],
      "text/plain": [
       "    Real Values  Predicted Values\n",
       "0             0                 0\n",
       "1             0                 0\n",
       "2             0                 0\n",
       "3             0                 0\n",
       "4             0                 0\n",
       "..          ...               ...\n",
       "95            1                 1\n",
       "96            0                 0\n",
       "97            1                 1\n",
       "98            1                 1\n",
       "99            1                 1\n",
       "\n",
       "[100 rows x 2 columns]"
      ]
     },
     "execution_count": 24,
     "metadata": {},
     "output_type": "execute_result"
    }
   ],
   "source": [
    "df = pd.DataFrame({'Real Values':y_test.reshape(-1), 'Predicted Values':y_pred.reshape(-1)})\n",
    "df"
   ]
  },
  {
   "cell_type": "code",
   "execution_count": 25,
   "metadata": {},
   "outputs": [],
   "source": [
    "from sklearn.tree import DecisionTreeClassifier"
   ]
  },
  {
   "cell_type": "code",
   "execution_count": 26,
   "metadata": {},
   "outputs": [
    {
     "data": {
      "text/plain": [
       "DecisionTreeClassifier(criterion='entropy', random_state=0)"
      ]
     },
     "execution_count": 26,
     "metadata": {},
     "output_type": "execute_result"
    }
   ],
   "source": [
    "classifier = DecisionTreeClassifier(criterion='entropy', random_state=0)\n",
    "classifier.fit(X_train, y_train)"
   ]
  },
  {
   "cell_type": "code",
   "execution_count": 27,
   "metadata": {},
   "outputs": [
    {
     "data": {
      "text/plain": [
       "array([0, 0, 0, 0, 0, 0, 0, 1, 0, 0, 0, 0, 0, 0, 0, 0, 0, 0, 1, 0, 0, 1,\n",
       "       0, 1, 1, 1, 1, 0, 1, 0, 1, 0, 0, 0, 0, 1, 0, 0, 1, 0, 1, 0, 0, 0,\n",
       "       1, 0, 0, 0, 0, 0, 0, 1, 1, 1, 1, 0, 0, 1, 0, 1, 0, 0, 0, 1, 1, 0,\n",
       "       0, 0, 0, 0, 1, 0, 0, 1, 0, 0, 0, 0, 1, 0, 1, 0, 1, 0, 0, 0, 0, 1,\n",
       "       1, 0, 0, 1, 1, 0, 0, 1, 0, 1, 1, 1], dtype=int64)"
      ]
     },
     "execution_count": 27,
     "metadata": {},
     "output_type": "execute_result"
    }
   ],
   "source": [
    "y_pred = classifier.predict(X_test)\n",
    "y_pred"
   ]
  },
  {
   "cell_type": "code",
   "execution_count": 28,
   "metadata": {},
   "outputs": [
    {
     "data": {
      "text/plain": [
       "array([[53, 15],\n",
       "       [13, 19]], dtype=int64)"
      ]
     },
     "execution_count": 28,
     "metadata": {},
     "output_type": "execute_result"
    }
   ],
   "source": [
    "from sklearn.metrics import confusion_matrix\n",
    "cm = confusion_matrix(y_test, y_pred)\n",
    "cm"
   ]
  },
  {
   "cell_type": "code",
   "execution_count": 30,
   "metadata": {},
   "outputs": [
    {
     "name": "stdout",
     "output_type": "stream",
     "text": [
      "Accuracy Score:  0.72\n"
     ]
    }
   ],
   "source": [
    "from sklearn.metrics import accuracy_score\n",
    "print('Accuracy Score: ',accuracy_score(y_test, y_pred))"
   ]
  },
  {
   "cell_type": "code",
   "execution_count": 31,
   "metadata": {},
   "outputs": [
    {
     "name": "stdout",
     "output_type": "stream",
     "text": [
      "The Classification Report is as follows...\n",
      "\n",
      "              precision    recall  f1-score   support\n",
      "\n",
      "           0       0.80      0.78      0.79        68\n",
      "           1       0.56      0.59      0.58        32\n",
      "\n",
      "    accuracy                           0.72       100\n",
      "   macro avg       0.68      0.69      0.68       100\n",
      "weighted avg       0.72      0.72      0.72       100\n",
      "\n"
     ]
    }
   ],
   "source": [
    "from sklearn.metrics import classification_report\n",
    "print('The Classification Report is as follows...\\n')\n",
    "print(classification_report(y_test, y_pred))\n"
   ]
  },
  {
   "cell_type": "code",
   "execution_count": 33,
   "metadata": {},
   "outputs": [
    {
     "data": {
      "text/html": [
       "<div>\n",
       "<style scoped>\n",
       "    .dataframe tbody tr th:only-of-type {\n",
       "        vertical-align: middle;\n",
       "    }\n",
       "\n",
       "    .dataframe tbody tr th {\n",
       "        vertical-align: top;\n",
       "    }\n",
       "\n",
       "    .dataframe thead th {\n",
       "        text-align: right;\n",
       "    }\n",
       "</style>\n",
       "<table border=\"1\" class=\"dataframe\">\n",
       "  <thead>\n",
       "    <tr style=\"text-align: right;\">\n",
       "      <th></th>\n",
       "      <th>Real Values</th>\n",
       "      <th>Predicted Values</th>\n",
       "    </tr>\n",
       "  </thead>\n",
       "  <tbody>\n",
       "    <tr>\n",
       "      <th>0</th>\n",
       "      <td>0</td>\n",
       "      <td>0</td>\n",
       "    </tr>\n",
       "    <tr>\n",
       "      <th>1</th>\n",
       "      <td>0</td>\n",
       "      <td>0</td>\n",
       "    </tr>\n",
       "    <tr>\n",
       "      <th>2</th>\n",
       "      <td>0</td>\n",
       "      <td>0</td>\n",
       "    </tr>\n",
       "    <tr>\n",
       "      <th>3</th>\n",
       "      <td>0</td>\n",
       "      <td>0</td>\n",
       "    </tr>\n",
       "    <tr>\n",
       "      <th>4</th>\n",
       "      <td>0</td>\n",
       "      <td>0</td>\n",
       "    </tr>\n",
       "    <tr>\n",
       "      <th>...</th>\n",
       "      <td>...</td>\n",
       "      <td>...</td>\n",
       "    </tr>\n",
       "    <tr>\n",
       "      <th>95</th>\n",
       "      <td>1</td>\n",
       "      <td>1</td>\n",
       "    </tr>\n",
       "    <tr>\n",
       "      <th>96</th>\n",
       "      <td>0</td>\n",
       "      <td>0</td>\n",
       "    </tr>\n",
       "    <tr>\n",
       "      <th>97</th>\n",
       "      <td>1</td>\n",
       "      <td>1</td>\n",
       "    </tr>\n",
       "    <tr>\n",
       "      <th>98</th>\n",
       "      <td>1</td>\n",
       "      <td>1</td>\n",
       "    </tr>\n",
       "    <tr>\n",
       "      <th>99</th>\n",
       "      <td>1</td>\n",
       "      <td>1</td>\n",
       "    </tr>\n",
       "  </tbody>\n",
       "</table>\n",
       "<p>100 rows × 2 columns</p>\n",
       "</div>"
      ],
      "text/plain": [
       "    Real Values  Predicted Values\n",
       "0             0                 0\n",
       "1             0                 0\n",
       "2             0                 0\n",
       "3             0                 0\n",
       "4             0                 0\n",
       "..          ...               ...\n",
       "95            1                 1\n",
       "96            0                 0\n",
       "97            1                 1\n",
       "98            1                 1\n",
       "99            1                 1\n",
       "\n",
       "[100 rows x 2 columns]"
      ]
     },
     "execution_count": 33,
     "metadata": {},
     "output_type": "execute_result"
    }
   ],
   "source": [
    "df= pd.DataFrame({'Real Values': y_test.reshape(-1), 'Predicted Values': y_pred.reshape(-1)})\n",
    "df"
   ]
  },
  {
   "cell_type": "code",
   "execution_count": 35,
   "metadata": {},
   "outputs": [
    {
     "data": {
      "text/plain": [
       "[Text(214.83, 212.26285714285714, 'X[1] <= 0.606\\nentropy = 0.951\\nsamples = 300\\nvalue = [189, 111]'),\n",
       " Text(146.94, 201.90857142857143, 'X[1] <= -0.814\\nentropy = 0.787\\nsamples = 234\\nvalue = [179, 55]'),\n",
       " Text(74.4, 191.5542857142857, 'X[1] <= -1.452\\nentropy = 0.982\\nsamples = 69\\nvalue = [40, 29]'),\n",
       " Text(66.96000000000001, 181.2, 'entropy = 0.0\\nsamples = 13\\nvalue = [13, 0]'),\n",
       " Text(81.84, 181.2, 'X[0] <= -0.29\\nentropy = 0.999\\nsamples = 56\\nvalue = [27, 29]'),\n",
       " Text(52.080000000000005, 170.84571428571428, 'X[0] <= -1.252\\nentropy = 0.845\\nsamples = 22\\nvalue = [6, 16]'),\n",
       " Text(37.2, 160.49142857142857, 'X[1] <= -1.206\\nentropy = 0.863\\nsamples = 7\\nvalue = [5, 2]'),\n",
       " Text(29.76, 150.13714285714286, 'X[0] <= -1.334\\nentropy = 0.971\\nsamples = 5\\nvalue = [3, 2]'),\n",
       " Text(22.32, 139.78285714285715, 'X[0] <= -1.385\\nentropy = 0.811\\nsamples = 4\\nvalue = [3, 1]'),\n",
       " Text(14.88, 129.42857142857144, 'X[0] <= -1.459\\nentropy = 1.0\\nsamples = 2\\nvalue = [1, 1]'),\n",
       " Text(7.44, 119.07428571428571, 'entropy = 0.0\\nsamples = 1\\nvalue = [1, 0]'),\n",
       " Text(22.32, 119.07428571428571, 'entropy = 0.0\\nsamples = 1\\nvalue = [0, 1]'),\n",
       " Text(29.76, 129.42857142857144, 'entropy = 0.0\\nsamples = 2\\nvalue = [2, 0]'),\n",
       " Text(37.2, 139.78285714285715, 'entropy = 0.0\\nsamples = 1\\nvalue = [0, 1]'),\n",
       " Text(44.64, 150.13714285714286, 'entropy = 0.0\\nsamples = 2\\nvalue = [2, 0]'),\n",
       " Text(66.96000000000001, 160.49142857142857, 'X[1] <= -0.901\\nentropy = 0.353\\nsamples = 15\\nvalue = [1, 14]'),\n",
       " Text(59.52, 150.13714285714286, 'entropy = 0.0\\nsamples = 13\\nvalue = [0, 13]'),\n",
       " Text(74.4, 150.13714285714286, 'X[0] <= -0.914\\nentropy = 1.0\\nsamples = 2\\nvalue = [1, 1]'),\n",
       " Text(66.96000000000001, 139.78285714285715, 'entropy = 0.0\\nsamples = 1\\nvalue = [0, 1]'),\n",
       " Text(81.84, 139.78285714285715, 'entropy = 0.0\\nsamples = 1\\nvalue = [1, 0]'),\n",
       " Text(111.60000000000001, 170.84571428571428, 'X[1] <= -1.365\\nentropy = 0.96\\nsamples = 34\\nvalue = [21, 13]'),\n",
       " Text(104.16000000000001, 160.49142857142857, 'entropy = 0.0\\nsamples = 2\\nvalue = [2, 0]'),\n",
       " Text(119.04, 160.49142857142857, 'X[1] <= -1.322\\nentropy = 0.974\\nsamples = 32\\nvalue = [19, 13]'),\n",
       " Text(104.16000000000001, 150.13714285714286, 'X[0] <= -0.047\\nentropy = 0.811\\nsamples = 4\\nvalue = [1, 3]'),\n",
       " Text(96.72, 139.78285714285715, 'entropy = 0.0\\nsamples = 1\\nvalue = [1, 0]'),\n",
       " Text(111.60000000000001, 139.78285714285715, 'entropy = 0.0\\nsamples = 3\\nvalue = [0, 3]'),\n",
       " Text(133.92000000000002, 150.13714285714286, 'X[0] <= -0.218\\nentropy = 0.94\\nsamples = 28\\nvalue = [18, 10]'),\n",
       " Text(126.48, 139.78285714285715, 'entropy = 0.0\\nsamples = 1\\nvalue = [0, 1]'),\n",
       " Text(141.36, 139.78285714285715, 'X[1] <= -0.858\\nentropy = 0.918\\nsamples = 27\\nvalue = [18, 9]'),\n",
       " Text(133.92000000000002, 129.42857142857144, 'X[0] <= 1.585\\nentropy = 0.89\\nsamples = 26\\nvalue = [18, 8]'),\n",
       " Text(119.04, 119.07428571428571, 'X[1] <= -0.901\\nentropy = 0.828\\nsamples = 23\\nvalue = [17, 6]'),\n",
       " Text(111.60000000000001, 108.72, 'X[1] <= -1.177\\nentropy = 0.773\\nsamples = 22\\nvalue = [17, 5]'),\n",
       " Text(93.0, 98.36571428571429, 'X[0] <= 0.243\\nentropy = 0.946\\nsamples = 11\\nvalue = [7, 4]'),\n",
       " Text(78.12, 88.01142857142858, 'X[0] <= 0.144\\nentropy = 0.971\\nsamples = 5\\nvalue = [2, 3]'),\n",
       " Text(70.68, 77.65714285714284, 'X[1] <= -1.235\\nentropy = 0.918\\nsamples = 3\\nvalue = [2, 1]'),\n",
       " Text(63.24, 67.30285714285714, 'entropy = 0.0\\nsamples = 1\\nvalue = [0, 1]'),\n",
       " Text(78.12, 67.30285714285714, 'entropy = 0.0\\nsamples = 2\\nvalue = [2, 0]'),\n",
       " Text(85.56, 77.65714285714284, 'entropy = 0.0\\nsamples = 2\\nvalue = [0, 2]'),\n",
       " Text(107.88000000000001, 88.01142857142858, 'X[0] <= 0.542\\nentropy = 0.65\\nsamples = 6\\nvalue = [5, 1]'),\n",
       " Text(100.44000000000001, 77.65714285714284, 'entropy = 0.0\\nsamples = 3\\nvalue = [3, 0]'),\n",
       " Text(115.32000000000001, 77.65714285714284, 'X[0] <= 0.646\\nentropy = 0.918\\nsamples = 3\\nvalue = [2, 1]'),\n",
       " Text(107.88000000000001, 67.30285714285714, 'entropy = 0.0\\nsamples = 1\\nvalue = [0, 1]'),\n",
       " Text(122.76, 67.30285714285714, 'entropy = 0.0\\nsamples = 2\\nvalue = [2, 0]'),\n",
       " Text(130.20000000000002, 98.36571428571429, 'X[0] <= 0.946\\nentropy = 0.439\\nsamples = 11\\nvalue = [10, 1]'),\n",
       " Text(122.76, 88.01142857142858, 'entropy = 0.0\\nsamples = 8\\nvalue = [8, 0]'),\n",
       " Text(137.64000000000001, 88.01142857142858, 'X[1] <= -1.046\\nentropy = 0.918\\nsamples = 3\\nvalue = [2, 1]'),\n",
       " Text(130.20000000000002, 77.65714285714284, 'entropy = 0.0\\nsamples = 2\\nvalue = [2, 0]'),\n",
       " Text(145.08, 77.65714285714284, 'entropy = 0.0\\nsamples = 1\\nvalue = [0, 1]'),\n",
       " Text(126.48, 108.72, 'entropy = 0.0\\nsamples = 1\\nvalue = [0, 1]'),\n",
       " Text(148.8, 119.07428571428571, 'X[1] <= -0.974\\nentropy = 0.918\\nsamples = 3\\nvalue = [1, 2]'),\n",
       " Text(141.36, 108.72, 'entropy = 0.0\\nsamples = 2\\nvalue = [0, 2]'),\n",
       " Text(156.24, 108.72, 'entropy = 0.0\\nsamples = 1\\nvalue = [1, 0]'),\n",
       " Text(148.8, 129.42857142857144, 'entropy = 0.0\\nsamples = 1\\nvalue = [0, 1]'),\n",
       " Text(219.48000000000002, 191.5542857142857, 'X[1] <= 0.49\\nentropy = 0.628\\nsamples = 165\\nvalue = [139, 26]'),\n",
       " Text(193.44, 181.2, 'X[0] <= 1.231\\nentropy = 0.562\\nsamples = 152\\nvalue = [132, 20]'),\n",
       " Text(186.0, 170.84571428571428, 'X[0] <= -1.651\\nentropy = 0.611\\nsamples = 133\\nvalue = [113, 20]'),\n",
       " Text(171.12, 160.49142857142857, 'X[0] <= -1.659\\nentropy = 0.918\\nsamples = 3\\nvalue = [1, 2]'),\n",
       " Text(163.68, 150.13714285714286, 'entropy = 0.0\\nsamples = 1\\nvalue = [0, 1]'),\n",
       " Text(178.56, 150.13714285714286, 'X[0] <= -1.656\\nentropy = 1.0\\nsamples = 2\\nvalue = [1, 1]'),\n",
       " Text(171.12, 139.78285714285715, 'entropy = 0.0\\nsamples = 1\\nvalue = [1, 0]'),\n",
       " Text(186.0, 139.78285714285715, 'entropy = 0.0\\nsamples = 1\\nvalue = [0, 1]'),\n",
       " Text(200.88000000000002, 160.49142857142857, 'X[0] <= -1.38\\nentropy = 0.58\\nsamples = 130\\nvalue = [112, 18]'),\n",
       " Text(193.44, 150.13714285714286, 'entropy = 0.0\\nsamples = 15\\nvalue = [15, 0]'),\n",
       " Text(208.32000000000002, 150.13714285714286, 'X[0] <= -1.365\\nentropy = 0.626\\nsamples = 115\\nvalue = [97, 18]'),\n",
       " Text(200.88000000000002, 139.78285714285715, 'entropy = 0.0\\nsamples = 1\\nvalue = [0, 1]'),\n",
       " Text(215.76000000000002, 139.78285714285715, 'X[0] <= -1.139\\nentropy = 0.608\\nsamples = 114\\nvalue = [97, 17]'),\n",
       " Text(208.32000000000002, 129.42857142857144, 'entropy = 0.0\\nsamples = 12\\nvalue = [12, 0]'),\n",
       " Text(223.20000000000002, 129.42857142857144, 'X[0] <= -1.126\\nentropy = 0.65\\nsamples = 102\\nvalue = [85, 17]'),\n",
       " Text(215.76000000000002, 119.07428571428571, 'entropy = 0.0\\nsamples = 2\\nvalue = [0, 2]'),\n",
       " Text(230.64000000000001, 119.07428571428571, 'X[1] <= 0.288\\nentropy = 0.61\\nsamples = 100\\nvalue = [85, 15]'),\n",
       " Text(223.20000000000002, 108.72, 'X[1] <= 0.085\\nentropy = 0.663\\nsamples = 87\\nvalue = [72, 15]'),\n",
       " Text(189.72, 98.36571428571429, 'X[0] <= 0.632\\nentropy = 0.548\\nsamples = 71\\nvalue = [62, 9]'),\n",
       " Text(167.4, 88.01142857142858, 'X[0] <= -0.56\\nentropy = 0.318\\nsamples = 52\\nvalue = [49, 3]'),\n",
       " Text(159.96, 77.65714285714284, 'X[0] <= -0.892\\nentropy = 0.779\\nsamples = 13\\nvalue = [10, 3]'),\n",
       " Text(152.52, 67.30285714285714, 'entropy = 0.0\\nsamples = 6\\nvalue = [6, 0]'),\n",
       " Text(167.4, 67.30285714285714, 'X[0] <= -0.787\\nentropy = 0.985\\nsamples = 7\\nvalue = [4, 3]'),\n",
       " Text(159.96, 56.94857142857143, 'entropy = 0.0\\nsamples = 2\\nvalue = [0, 2]'),\n",
       " Text(174.84, 56.94857142857143, 'X[0] <= -0.65\\nentropy = 0.722\\nsamples = 5\\nvalue = [4, 1]'),\n",
       " Text(167.4, 46.59428571428572, 'entropy = 0.0\\nsamples = 4\\nvalue = [4, 0]'),\n",
       " Text(182.28, 46.59428571428572, 'entropy = 0.0\\nsamples = 1\\nvalue = [0, 1]'),\n",
       " Text(174.84, 77.65714285714284, 'entropy = 0.0\\nsamples = 39\\nvalue = [39, 0]'),\n",
       " Text(212.04000000000002, 88.01142857142858, 'X[1] <= -0.727\\nentropy = 0.9\\nsamples = 19\\nvalue = [13, 6]'),\n",
       " Text(204.60000000000002, 77.65714285714284, 'entropy = 0.0\\nsamples = 3\\nvalue = [3, 0]'),\n",
       " Text(219.48000000000002, 77.65714285714284, 'X[1] <= 0.027\\nentropy = 0.954\\nsamples = 16\\nvalue = [10, 6]'),\n",
       " Text(212.04000000000002, 67.30285714285714, 'X[1] <= -0.06\\nentropy = 0.996\\nsamples = 13\\nvalue = [7, 6]'),\n",
       " Text(204.60000000000002, 56.94857142857143, 'X[0] <= 0.815\\nentropy = 0.946\\nsamples = 11\\nvalue = [7, 4]'),\n",
       " Text(197.16, 46.59428571428572, 'entropy = 0.0\\nsamples = 2\\nvalue = [0, 2]'),\n",
       " Text(212.04000000000002, 46.59428571428572, 'X[0] <= 1.067\\nentropy = 0.764\\nsamples = 9\\nvalue = [7, 2]'),\n",
       " Text(204.60000000000002, 36.24000000000001, 'entropy = 0.0\\nsamples = 5\\nvalue = [5, 0]'),\n",
       " Text(219.48000000000002, 36.24000000000001, 'X[1] <= -0.51\\nentropy = 1.0\\nsamples = 4\\nvalue = [2, 2]'),\n",
       " Text(212.04000000000002, 25.8857142857143, 'entropy = 0.0\\nsamples = 1\\nvalue = [0, 1]'),\n",
       " Text(226.92000000000002, 25.8857142857143, 'X[1] <= -0.365\\nentropy = 0.918\\nsamples = 3\\nvalue = [2, 1]'),\n",
       " Text(219.48000000000002, 15.531428571428563, 'entropy = 0.0\\nsamples = 1\\nvalue = [1, 0]'),\n",
       " Text(234.36, 15.531428571428563, 'X[1] <= -0.205\\nentropy = 1.0\\nsamples = 2\\nvalue = [1, 1]'),\n",
       " Text(226.92000000000002, 5.177142857142854, 'entropy = 0.0\\nsamples = 1\\nvalue = [0, 1]'),\n",
       " Text(241.8, 5.177142857142854, 'entropy = 0.0\\nsamples = 1\\nvalue = [1, 0]'),\n",
       " Text(219.48000000000002, 56.94857142857143, 'entropy = 0.0\\nsamples = 2\\nvalue = [0, 2]'),\n",
       " Text(226.92000000000002, 67.30285714285714, 'entropy = 0.0\\nsamples = 3\\nvalue = [3, 0]'),\n",
       " Text(256.68, 98.36571428571429, 'X[0] <= -0.757\\nentropy = 0.954\\nsamples = 16\\nvalue = [10, 6]'),\n",
       " Text(249.24, 88.01142857142858, 'entropy = 0.0\\nsamples = 2\\nvalue = [2, 0]'),\n",
       " Text(264.12, 88.01142857142858, 'X[0] <= 0.643\\nentropy = 0.985\\nsamples = 14\\nvalue = [8, 6]'),\n",
       " Text(256.68, 77.65714285714284, 'X[1] <= 0.143\\nentropy = 1.0\\nsamples = 12\\nvalue = [6, 6]'),\n",
       " Text(241.8, 67.30285714285714, 'X[0] <= 0.021\\nentropy = 0.811\\nsamples = 4\\nvalue = [1, 3]'),\n",
       " Text(234.36, 56.94857142857143, 'entropy = 0.0\\nsamples = 2\\nvalue = [0, 2]'),\n",
       " Text(249.24, 56.94857142857143, 'X[0] <= 0.368\\nentropy = 1.0\\nsamples = 2\\nvalue = [1, 1]'),\n",
       " Text(241.8, 46.59428571428572, 'entropy = 0.0\\nsamples = 1\\nvalue = [1, 0]'),\n",
       " Text(256.68, 46.59428571428572, 'entropy = 0.0\\nsamples = 1\\nvalue = [0, 1]'),\n",
       " Text(271.56, 67.30285714285714, 'X[1] <= 0.172\\nentropy = 0.954\\nsamples = 8\\nvalue = [5, 3]'),\n",
       " Text(264.12, 56.94857142857143, 'entropy = 0.0\\nsamples = 2\\nvalue = [2, 0]'),\n",
       " Text(279.0, 56.94857142857143, 'X[0] <= -0.618\\nentropy = 1.0\\nsamples = 6\\nvalue = [3, 3]'),\n",
       " Text(271.56, 46.59428571428572, 'entropy = 0.0\\nsamples = 1\\nvalue = [0, 1]'),\n",
       " Text(286.44, 46.59428571428572, 'X[0] <= -0.137\\nentropy = 0.971\\nsamples = 5\\nvalue = [3, 2]'),\n",
       " Text(279.0, 36.24000000000001, 'entropy = 0.0\\nsamples = 2\\nvalue = [2, 0]'),\n",
       " Text(293.88, 36.24000000000001, 'X[0] <= 0.028\\nentropy = 0.918\\nsamples = 3\\nvalue = [1, 2]'),\n",
       " Text(286.44, 25.8857142857143, 'entropy = 0.0\\nsamples = 1\\nvalue = [0, 1]'),\n",
       " Text(301.32, 25.8857142857143, 'X[1] <= 0.215\\nentropy = 1.0\\nsamples = 2\\nvalue = [1, 1]'),\n",
       " Text(293.88, 15.531428571428563, 'entropy = 0.0\\nsamples = 1\\nvalue = [1, 0]'),\n",
       " Text(308.76, 15.531428571428563, 'entropy = 0.0\\nsamples = 1\\nvalue = [0, 1]'),\n",
       " Text(271.56, 77.65714285714284, 'entropy = 0.0\\nsamples = 2\\nvalue = [2, 0]'),\n",
       " Text(238.08, 108.72, 'entropy = 0.0\\nsamples = 13\\nvalue = [13, 0]'),\n",
       " Text(200.88000000000002, 170.84571428571428, 'entropy = 0.0\\nsamples = 19\\nvalue = [19, 0]'),\n",
       " Text(245.52, 181.2, 'X[0] <= -0.82\\nentropy = 0.996\\nsamples = 13\\nvalue = [7, 6]'),\n",
       " Text(238.08, 170.84571428571428, 'entropy = 0.0\\nsamples = 3\\nvalue = [0, 3]'),\n",
       " Text(252.96, 170.84571428571428, 'X[1] <= 0.548\\nentropy = 0.881\\nsamples = 10\\nvalue = [7, 3]'),\n",
       " Text(245.52, 160.49142857142857, 'X[0] <= 0.652\\nentropy = 0.971\\nsamples = 5\\nvalue = [2, 3]'),\n",
       " Text(238.08, 150.13714285714286, 'X[0] <= -0.272\\nentropy = 0.918\\nsamples = 3\\nvalue = [2, 1]'),\n",
       " Text(230.64000000000001, 139.78285714285715, 'entropy = 0.0\\nsamples = 1\\nvalue = [0, 1]'),\n",
       " Text(245.52, 139.78285714285715, 'entropy = 0.0\\nsamples = 2\\nvalue = [2, 0]'),\n",
       " Text(252.96, 150.13714285714286, 'entropy = 0.0\\nsamples = 2\\nvalue = [0, 2]'),\n",
       " Text(260.40000000000003, 160.49142857142857, 'entropy = 0.0\\nsamples = 5\\nvalue = [5, 0]'),\n",
       " Text(282.72, 201.90857142857143, 'X[0] <= -1.275\\nentropy = 0.614\\nsamples = 66\\nvalue = [10, 56]'),\n",
       " Text(275.28000000000003, 191.5542857142857, 'entropy = 0.0\\nsamples = 12\\nvalue = [0, 12]'),\n",
       " Text(290.16, 191.5542857142857, 'X[0] <= -0.655\\nentropy = 0.691\\nsamples = 54\\nvalue = [10, 44]'),\n",
       " Text(275.28000000000003, 181.2, 'X[1] <= 0.998\\nentropy = 0.722\\nsamples = 5\\nvalue = [4, 1]'),\n",
       " Text(267.84000000000003, 170.84571428571428, 'entropy = 0.0\\nsamples = 1\\nvalue = [0, 1]'),\n",
       " Text(282.72, 170.84571428571428, 'entropy = 0.0\\nsamples = 4\\nvalue = [4, 0]'),\n",
       " Text(305.04, 181.2, 'X[1] <= 1.853\\nentropy = 0.536\\nsamples = 49\\nvalue = [6, 43]'),\n",
       " Text(297.6, 170.84571428571428, 'X[0] <= 1.122\\nentropy = 0.709\\nsamples = 31\\nvalue = [6, 25]'),\n",
       " Text(275.28000000000003, 160.49142857142857, 'X[0] <= -0.122\\nentropy = 0.469\\nsamples = 20\\nvalue = [2, 18]'),\n",
       " Text(267.84000000000003, 150.13714285714286, 'X[0] <= -0.36\\nentropy = 0.764\\nsamples = 9\\nvalue = [2, 7]'),\n",
       " Text(260.40000000000003, 139.78285714285715, 'entropy = 0.0\\nsamples = 5\\nvalue = [0, 5]'),\n",
       " Text(275.28000000000003, 139.78285714285715, 'X[0] <= -0.348\\nentropy = 1.0\\nsamples = 4\\nvalue = [2, 2]'),\n",
       " Text(267.84000000000003, 129.42857142857144, 'entropy = 0.0\\nsamples = 1\\nvalue = [1, 0]'),\n",
       " Text(282.72, 129.42857142857144, 'X[1] <= 1.723\\nentropy = 0.918\\nsamples = 3\\nvalue = [1, 2]'),\n",
       " Text(275.28000000000003, 119.07428571428571, 'entropy = 0.0\\nsamples = 2\\nvalue = [0, 2]'),\n",
       " Text(290.16, 119.07428571428571, 'entropy = 0.0\\nsamples = 1\\nvalue = [1, 0]'),\n",
       " Text(282.72, 150.13714285714286, 'entropy = 0.0\\nsamples = 11\\nvalue = [0, 11]'),\n",
       " Text(319.92, 160.49142857142857, 'X[0] <= 1.457\\nentropy = 0.946\\nsamples = 11\\nvalue = [4, 7]'),\n",
       " Text(312.48, 150.13714285714286, 'X[0] <= 1.26\\nentropy = 0.722\\nsamples = 5\\nvalue = [4, 1]'),\n",
       " Text(305.04, 139.78285714285715, 'X[0] <= 1.192\\nentropy = 1.0\\nsamples = 2\\nvalue = [1, 1]'),\n",
       " Text(297.6, 129.42857142857144, 'entropy = 0.0\\nsamples = 1\\nvalue = [1, 0]'),\n",
       " Text(312.48, 129.42857142857144, 'entropy = 0.0\\nsamples = 1\\nvalue = [0, 1]'),\n",
       " Text(319.92, 139.78285714285715, 'entropy = 0.0\\nsamples = 3\\nvalue = [3, 0]'),\n",
       " Text(327.36, 150.13714285714286, 'entropy = 0.0\\nsamples = 6\\nvalue = [0, 6]'),\n",
       " Text(312.48, 170.84571428571428, 'entropy = 0.0\\nsamples = 18\\nvalue = [0, 18]')]"
      ]
     },
     "execution_count": 35,
     "metadata": {},
     "output_type": "execute_result"
    },
    {
     "data": {
      "image/png": "[encoded data removed]",
      "text/plain": [
       "<Figure size 432x288 with 1 Axes>"
      ]
     },
     "metadata": {
      "needs_background": "light"
     },
     "output_type": "display_data"
    }
   ],
   "source": [
    "from sklearn import tree\n",
    "tree.plot_tree(classifier)"
   ]
  },
  {
   "cell_type": "code",
   "execution_count": 36,
   "metadata": {},
   "outputs": [
    {
     "name": "stdout",
     "output_type": "stream",
     "text": [
      "|--- feature_1 <= 0.61\n",
      "|   |--- feature_1 <= -0.81\n",
      "|   |   |--- feature_1 <= -1.45\n",
      "|   |   |   |--- class: 0\n",
      "|   |   |--- feature_1 >  -1.45\n",
      "|   |   |   |--- feature_0 <= -0.29\n",
      "|   |   |   |   |--- feature_0 <= -1.25\n",
      "|   |   |   |   |   |--- feature_1 <= -1.21\n",
      "|   |   |   |   |   |   |--- feature_0 <= -1.33\n",
      "|   |   |   |   |   |   |   |--- feature_0 <= -1.38\n",
      "|   |   |   |   |   |   |   |   |--- feature_0 <= -1.46\n",
      "|   |   |   |   |   |   |   |   |   |--- class: 0\n",
      "|   |   |   |   |   |   |   |   |--- feature_0 >  -1.46\n",
      "|   |   |   |   |   |   |   |   |   |--- class: 1\n",
      "|   |   |   |   |   |   |   |--- feature_0 >  -1.38\n",
      "|   |   |   |   |   |   |   |   |--- class: 0\n",
      "|   |   |   |   |   |   |--- feature_0 >  -1.33\n",
      "|   |   |   |   |   |   |   |--- class: 1\n",
      "|   |   |   |   |   |--- feature_1 >  -1.21\n",
      "|   |   |   |   |   |   |--- class: 0\n",
      "|   |   |   |   |--- feature_0 >  -1.25\n",
      "|   |   |   |   |   |--- feature_1 <= -0.90\n",
      "|   |   |   |   |   |   |--- class: 1\n",
      "|   |   |   |   |   |--- feature_1 >  -0.90\n",
      "|   |   |   |   |   |   |--- feature_0 <= -0.91\n",
      "|   |   |   |   |   |   |   |--- class: 1\n",
      "|   |   |   |   |   |   |--- feature_0 >  -0.91\n",
      "|   |   |   |   |   |   |   |--- class: 0\n",
      "|   |   |   |--- feature_0 >  -0.29\n",
      "|   |   |   |   |--- feature_1 <= -1.37\n",
      "|   |   |   |   |   |--- class: 0\n",
      "|   |   |   |   |--- feature_1 >  -1.37\n",
      "|   |   |   |   |   |--- feature_1 <= -1.32\n",
      "|   |   |   |   |   |   |--- feature_0 <= -0.05\n",
      "|   |   |   |   |   |   |   |--- class: 0\n",
      "|   |   |   |   |   |   |--- feature_0 >  -0.05\n",
      "|   |   |   |   |   |   |   |--- class: 1\n",
      "|   |   |   |   |   |--- feature_1 >  -1.32\n",
      "|   |   |   |   |   |   |--- feature_0 <= -0.22\n",
      "|   |   |   |   |   |   |   |--- class: 1\n",
      "|   |   |   |   |   |   |--- feature_0 >  -0.22\n",
      "|   |   |   |   |   |   |   |--- feature_1 <= -0.86\n",
      "|   |   |   |   |   |   |   |   |--- feature_0 <= 1.59\n",
      "|   |   |   |   |   |   |   |   |   |--- feature_1 <= -0.90\n",
      "|   |   |   |   |   |   |   |   |   |   |--- feature_1 <= -1.18\n",
      "|   |   |   |   |   |   |   |   |   |   |   |--- truncated branch of depth 4\n",
      "|   |   |   |   |   |   |   |   |   |   |--- feature_1 >  -1.18\n",
      "|   |   |   |   |   |   |   |   |   |   |   |--- truncated branch of depth 3\n",
      "|   |   |   |   |   |   |   |   |   |--- feature_1 >  -0.90\n",
      "|   |   |   |   |   |   |   |   |   |   |--- class: 1\n",
      "|   |   |   |   |   |   |   |   |--- feature_0 >  1.59\n",
      "|   |   |   |   |   |   |   |   |   |--- feature_1 <= -0.97\n",
      "|   |   |   |   |   |   |   |   |   |   |--- class: 1\n",
      "|   |   |   |   |   |   |   |   |   |--- feature_1 >  -0.97\n",
      "|   |   |   |   |   |   |   |   |   |   |--- class: 0\n",
      "|   |   |   |   |   |   |   |--- feature_1 >  -0.86\n",
      "|   |   |   |   |   |   |   |   |--- class: 1\n",
      "|   |--- feature_1 >  -0.81\n",
      "|   |   |--- feature_1 <= 0.49\n",
      "|   |   |   |--- feature_0 <= 1.23\n",
      "|   |   |   |   |--- feature_0 <= -1.65\n",
      "|   |   |   |   |   |--- feature_0 <= -1.66\n",
      "|   |   |   |   |   |   |--- class: 1\n",
      "|   |   |   |   |   |--- feature_0 >  -1.66\n",
      "|   |   |   |   |   |   |--- feature_0 <= -1.66\n",
      "|   |   |   |   |   |   |   |--- class: 0\n",
      "|   |   |   |   |   |   |--- feature_0 >  -1.66\n",
      "|   |   |   |   |   |   |   |--- class: 1\n",
      "|   |   |   |   |--- feature_0 >  -1.65\n",
      "|   |   |   |   |   |--- feature_0 <= -1.38\n",
      "|   |   |   |   |   |   |--- class: 0\n",
      "|   |   |   |   |   |--- feature_0 >  -1.38\n",
      "|   |   |   |   |   |   |--- feature_0 <= -1.37\n",
      "|   |   |   |   |   |   |   |--- class: 1\n",
      "|   |   |   |   |   |   |--- feature_0 >  -1.37\n",
      "|   |   |   |   |   |   |   |--- feature_0 <= -1.14\n",
      "|   |   |   |   |   |   |   |   |--- class: 0\n",
      "|   |   |   |   |   |   |   |--- feature_0 >  -1.14\n",
      "|   |   |   |   |   |   |   |   |--- feature_0 <= -1.13\n",
      "|   |   |   |   |   |   |   |   |   |--- class: 1\n",
      "|   |   |   |   |   |   |   |   |--- feature_0 >  -1.13\n",
      "|   |   |   |   |   |   |   |   |   |--- feature_1 <= 0.29\n",
      "|   |   |   |   |   |   |   |   |   |   |--- feature_1 <= 0.08\n",
      "|   |   |   |   |   |   |   |   |   |   |   |--- truncated branch of depth 10\n",
      "|   |   |   |   |   |   |   |   |   |   |--- feature_1 >  0.08\n",
      "|   |   |   |   |   |   |   |   |   |   |   |--- truncated branch of depth 9\n",
      "|   |   |   |   |   |   |   |   |   |--- feature_1 >  0.29\n",
      "|   |   |   |   |   |   |   |   |   |   |--- class: 0\n",
      "|   |   |   |--- feature_0 >  1.23\n",
      "|   |   |   |   |--- class: 0\n",
      "|   |   |--- feature_1 >  0.49\n",
      "|   |   |   |--- feature_0 <= -0.82\n",
      "|   |   |   |   |--- class: 1\n",
      "|   |   |   |--- feature_0 >  -0.82\n",
      "|   |   |   |   |--- feature_1 <= 0.55\n",
      "|   |   |   |   |   |--- feature_0 <= 0.65\n",
      "|   |   |   |   |   |   |--- feature_0 <= -0.27\n",
      "|   |   |   |   |   |   |   |--- class: 1\n",
      "|   |   |   |   |   |   |--- feature_0 >  -0.27\n",
      "|   |   |   |   |   |   |   |--- class: 0\n",
      "|   |   |   |   |   |--- feature_0 >  0.65\n",
      "|   |   |   |   |   |   |--- class: 1\n",
      "|   |   |   |   |--- feature_1 >  0.55\n",
      "|   |   |   |   |   |--- class: 0\n",
      "|--- feature_1 >  0.61\n",
      "|   |--- feature_0 <= -1.27\n",
      "|   |   |--- class: 1\n",
      "|   |--- feature_0 >  -1.27\n",
      "|   |   |--- feature_0 <= -0.65\n",
      "|   |   |   |--- feature_1 <= 1.00\n",
      "|   |   |   |   |--- class: 1\n",
      "|   |   |   |--- feature_1 >  1.00\n",
      "|   |   |   |   |--- class: 0\n",
      "|   |   |--- feature_0 >  -0.65\n",
      "|   |   |   |--- feature_1 <= 1.85\n",
      "|   |   |   |   |--- feature_0 <= 1.12\n",
      "|   |   |   |   |   |--- feature_0 <= -0.12\n",
      "|   |   |   |   |   |   |--- feature_0 <= -0.36\n",
      "|   |   |   |   |   |   |   |--- class: 1\n",
      "|   |   |   |   |   |   |--- feature_0 >  -0.36\n",
      "|   |   |   |   |   |   |   |--- feature_0 <= -0.35\n",
      "|   |   |   |   |   |   |   |   |--- class: 0\n",
      "|   |   |   |   |   |   |   |--- feature_0 >  -0.35\n",
      "|   |   |   |   |   |   |   |   |--- feature_1 <= 1.72\n",
      "|   |   |   |   |   |   |   |   |   |--- class: 1\n",
      "|   |   |   |   |   |   |   |   |--- feature_1 >  1.72\n",
      "|   |   |   |   |   |   |   |   |   |--- class: 0\n",
      "|   |   |   |   |   |--- feature_0 >  -0.12\n",
      "|   |   |   |   |   |   |--- class: 1\n",
      "|   |   |   |   |--- feature_0 >  1.12\n",
      "|   |   |   |   |   |--- feature_0 <= 1.46\n",
      "|   |   |   |   |   |   |--- feature_0 <= 1.26\n",
      "|   |   |   |   |   |   |   |--- feature_0 <= 1.19\n",
      "|   |   |   |   |   |   |   |   |--- class: 0\n",
      "|   |   |   |   |   |   |   |--- feature_0 >  1.19\n",
      "|   |   |   |   |   |   |   |   |--- class: 1\n",
      "|   |   |   |   |   |   |--- feature_0 >  1.26\n",
      "|   |   |   |   |   |   |   |--- class: 0\n",
      "|   |   |   |   |   |--- feature_0 >  1.46\n",
      "|   |   |   |   |   |   |--- class: 1\n",
      "|   |   |   |--- feature_1 >  1.85\n",
      "|   |   |   |   |--- class: 1\n",
      "\n"
     ]
    }
   ],
   "source": [
    "text_representation = tree.export_text(classifier)\n",
    "print(text_representation)"
   ]
  },
  {
   "cell_type": "code",
   "execution_count": null,
   "metadata": {},
   "outputs": [],
   "source": []
  }
 ],
 "metadata": {
  "kernelspec": {
   "display_name": "Python 3",
   "language": "python",
   "name": "python3"
  },
  "language_info": {
   "codemirror_mode": {
    "name": "ipython",
    "version": 3
   },
   "file_extension": ".py",
   "mimetype": "text/x-python",
   "name": "python",
   "nbconvert_exporter": "python",
   "pygments_lexer": "ipython3",
   "version": "3.8.3"
  }
 },
 "nbformat": 4,
 "nbformat_minor": 4
}
