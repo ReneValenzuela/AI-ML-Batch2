{
  "nbformat": 4,
  "nbformat_minor": 0,
  "metadata": {
    "kernelspec": {
      "display_name": "Python 3",
      "language": "python",
      "name": "python3"
    },
    "language_info": {
      "codemirror_mode": {
        "name": "ipython",
        "version": 3
      },
      "file_extension": ".py",
      "mimetype": "text/x-python",
      "name": "python",
      "nbconvert_exporter": "python",
      "pygments_lexer": "ipython3",
      "version": "3.8.5"
    },
    "papermill": {
      "duration": 59.839304,
      "end_time": "2020-11-08T23:01:29.685598",
      "environment_variables": {},
      "exception": null,
      "input_path": "__notebook__.ipynb",
      "output_path": "__notebook__.ipynb",
      "parameters": {},
      "start_time": "2020-11-08T23:00:29.846294",
      "version": "2.1.0"
    },
    "colab": {
      "name": "LU_-_titanic-eda-tutorial-with-seaborn_-_Learners_15_Jan_2021.ipynb",
      "provenance": [],
      "include_colab_link": true
    }
  },
  "cells": [
    {
      "cell_type": "markdown",
      "metadata": {
        "id": "view-in-github",
        "colab_type": "text"
      },
      "source": [
        "<a href=\"https://colab.research.google.com/github/ReneValenzuela/AI-ML-Batch2/blob/master/LU___titanic_eda_tutorial_with_seaborn___Learners_15_Jan_2021.ipynb\" target=\"_parent\"><img src=\"https://colab.research.google.com/assets/colab-badge.svg\" alt=\"Open In Colab\"/></a>"
      ]
    },
    {
      "cell_type": "code",
      "metadata": {
        "id": "Ht8u8wiQ5jkz"
      },
      "source": [
        "# Jovian Commit Essentials\n",
        "# Please retain and execute this cell without modifying the contents for `jovian.commit` to work\n",
        "!pip install jovian --upgrade -q\n",
        "import jovian\n",
        "jovian.utils.colab.set_colab_file_id('1rX_n477leQfGbk70NBlAMc_azT-mjMxk')"
      ],
      "execution_count": null,
      "outputs": []
    },
    {
      "cell_type": "markdown",
      "metadata": {
        "papermill": {
          "duration": 0.089202,
          "end_time": "2020-11-08T23:00:35.075025",
          "exception": false,
          "start_time": "2020-11-08T23:00:34.985823",
          "status": "completed"
        },
        "tags": [],
        "id": "KjaGOT4x5jlZ"
      },
      "source": [
        "![MA_00079563_yvu84f.jpg](attachment:MA_00079563_yvu84f.jpg)"
      ]
    },
    {
      "cell_type": "markdown",
      "metadata": {
        "papermill": {
          "duration": 0.09103,
          "end_time": "2020-11-08T23:00:35.442027",
          "exception": false,
          "start_time": "2020-11-08T23:00:35.350997",
          "status": "completed"
        },
        "tags": [],
        "id": "2g83fpwD5jlZ"
      },
      "source": [
        "# 1. Introduction"
      ]
    },
    {
      "cell_type": "markdown",
      "metadata": {
        "papermill": {
          "duration": 0.094026,
          "end_time": "2020-11-08T23:00:35.629797",
          "exception": false,
          "start_time": "2020-11-08T23:00:35.535771",
          "status": "completed"
        },
        "tags": [],
        "id": "ERTBmV9M5jla"
      },
      "source": [
        "# 2. Domain information\n",
        "[Titanic](https://en.wikipedia.org/wiki/Sinking_of_the_RMS_Titanic) was a British passenger liner operated by the White Star Line. Titanic was on its way from Southampton to New York City when it sank in the North Atlantic Ocean in the early morning hours of **15 April 1912** after Titanic collided with an iceberg. The ship carried **2224** people, considering passengers and crew aboard,**1514** of them died.  \n",
        "\n",
        "Titanic carried 16 wooden lifeboats and four collapsibles, which could accommodate 1,178 people, only one-third of Titanic's total capacity (and 53% of real number of passengers). At the time, lifeboats were intended to ferry survivors from a sinking ship to a rescuing ship—not keep afloat the whole population or power them to shore. If the SS Californian would responded to Titanic's distress calls, the lifeboats may have been adequate to ferry the passengers to safety as planned, but it didn't happen and the only way to survive were to get on the lifeboat.\n",
        "\n",
        "The main question of the competition is **“what sorts of people were more likely to survive?”**"
      ]
    },
    {
      "cell_type": "markdown",
      "metadata": {
        "papermill": {
          "duration": 0.085728,
          "end_time": "2020-11-08T23:00:35.799483",
          "exception": false,
          "start_time": "2020-11-08T23:00:35.713755",
          "status": "completed"
        },
        "tags": [],
        "id": "2EC2eAE65jlb"
      },
      "source": [
        "# 3. Loading libraries: \n",
        "\n",
        "List of libraries I am using in this kernel:\n",
        "* pandas - offers data structures and operations for manipulating numerical tables and time series. (imported as pd) [Documentation](https://pandas.pydata.org/)\n",
        "* seaborn - data visualization library based on matplotlib. [Documentation](https://seaborn.pydata.org/)\n",
        "* matplotlib.pyplot - to create some visualizations (imported as plt) [Documentation](https://matplotlib.org/tutorials/introductory/pyplot.html)\n",
        "* numpy - The fundamental package for scientific computing with Python. [Documentation](https://numpy.org/)"
      ]
    },
    {
      "cell_type": "code",
      "metadata": {
        "_kg_hide-input": true,
        "execution": {
          "iopub.execute_input": "2020-11-08T23:00:35.979862Z",
          "iopub.status.busy": "2020-11-08T23:00:35.978914Z",
          "iopub.status.idle": "2020-11-08T23:00:37.059399Z",
          "shell.execute_reply": "2020-11-08T23:00:37.058591Z"
        },
        "papermill": {
          "duration": 1.172774,
          "end_time": "2020-11-08T23:00:37.059556",
          "exception": false,
          "start_time": "2020-11-08T23:00:35.886782",
          "status": "completed"
        },
        "tags": [],
        "id": "bAKwNKS85jld"
      },
      "source": [
        "import warnings\n",
        "warnings.simplefilter('ignore')\n",
        "import pandas as pd\n",
        "import seaborn as sns\n",
        "import matplotlib.pyplot as plt\n",
        "import numpy as np"
      ],
      "execution_count": null,
      "outputs": []
    },
    {
      "cell_type": "markdown",
      "metadata": {
        "papermill": {
          "duration": 0.087093,
          "end_time": "2020-11-08T23:00:37.234103",
          "exception": false,
          "start_time": "2020-11-08T23:00:37.147010",
          "status": "completed"
        },
        "tags": [],
        "id": "EaIpSvJ-5jle"
      },
      "source": [
        "# 4. Loading data\n",
        "As input information I have two CSV files:\n",
        "\n",
        "* **train.csv** - training part of the dataset, contains labels and information about passengers.\n",
        "* **test.csv** - testing part of the dataset, doesn't contain labels.\n",
        "\n",
        "In this notebook I will use all available information (train + test datasets) to perform exploratory data analysis.  \n",
        "\n",
        "1. First, load both csv files into two DataFrames, using pandas read_csv method and check the shape of the loaded data:"
      ]
    },
    {
      "cell_type": "code",
      "metadata": {
        "_kg_hide-input": true,
        "execution": {
          "iopub.execute_input": "2020-11-08T23:00:37.414458Z",
          "iopub.status.busy": "2020-11-08T23:00:37.413675Z",
          "iopub.status.idle": "2020-11-08T23:00:37.436167Z",
          "shell.execute_reply": "2020-11-08T23:00:37.435465Z"
        },
        "papermill": {
          "duration": 0.115389,
          "end_time": "2020-11-08T23:00:37.436305",
          "exception": false,
          "start_time": "2020-11-08T23:00:37.320916",
          "status": "completed"
        },
        "tags": [],
        "id": "6XxzH6F75jle",
        "outputId": "75f0e6a6-442a-430f-c453-8ba9b0cc485c"
      },
      "source": [
        "train_data = pd.read_csv('train.csv')\n",
        "# train_data = pd.read_csv('https://raw.githubusercontent.com/ingledarshan/Data-Science-Advanced-Datasets/main/train.csv')\n",
        "test_data = pd.read_csv('test.csv')\n",
        "# test_data = pd.read_csv('https://raw.githubusercontent.com/ingledarshan/Data-Science-Advanced-Datasets/main/test.csv')\n",
        "print(\"Train shape:\",train_data.shape)\n",
        "print(\"Test shape:\",test_data.shape)"
      ],
      "execution_count": null,
      "outputs": [
        {
          "output_type": "stream",
          "text": [
            "Train shape: (891, 12)\n",
            "Test shape: (418, 11)\n"
          ],
          "name": "stdout"
        }
      ]
    },
    {
      "cell_type": "code",
      "metadata": {
        "id": "881-zeOH5jlk",
        "outputId": "73061ab4-4cb7-4fb2-a4cf-47a18197e209"
      },
      "source": [
        "train_data.head()"
      ],
      "execution_count": null,
      "outputs": [
        {
          "output_type": "execute_result",
          "data": {
            "text/html": [
              "<div>\n",
              "<style scoped>\n",
              "    .dataframe tbody tr th:only-of-type {\n",
              "        vertical-align: middle;\n",
              "    }\n",
              "\n",
              "    .dataframe tbody tr th {\n",
              "        vertical-align: top;\n",
              "    }\n",
              "\n",
              "    .dataframe thead th {\n",
              "        text-align: right;\n",
              "    }\n",
              "</style>\n",
              "<table border=\"1\" class=\"dataframe\">\n",
              "  <thead>\n",
              "    <tr style=\"text-align: right;\">\n",
              "      <th></th>\n",
              "      <th>PassengerId</th>\n",
              "      <th>Survived</th>\n",
              "      <th>Pclass</th>\n",
              "      <th>Name</th>\n",
              "      <th>Sex</th>\n",
              "      <th>Age</th>\n",
              "      <th>SibSp</th>\n",
              "      <th>Parch</th>\n",
              "      <th>Ticket</th>\n",
              "      <th>Fare</th>\n",
              "      <th>Cabin</th>\n",
              "      <th>Embarked</th>\n",
              "    </tr>\n",
              "  </thead>\n",
              "  <tbody>\n",
              "    <tr>\n",
              "      <th>0</th>\n",
              "      <td>1</td>\n",
              "      <td>0</td>\n",
              "      <td>3</td>\n",
              "      <td>Braund, Mr. Owen Harris</td>\n",
              "      <td>male</td>\n",
              "      <td>22.0</td>\n",
              "      <td>1</td>\n",
              "      <td>0</td>\n",
              "      <td>A/5 21171</td>\n",
              "      <td>7.2500</td>\n",
              "      <td>NaN</td>\n",
              "      <td>S</td>\n",
              "    </tr>\n",
              "    <tr>\n",
              "      <th>1</th>\n",
              "      <td>2</td>\n",
              "      <td>1</td>\n",
              "      <td>1</td>\n",
              "      <td>Cumings, Mrs. John Bradley (Florence Briggs Th...</td>\n",
              "      <td>female</td>\n",
              "      <td>38.0</td>\n",
              "      <td>1</td>\n",
              "      <td>0</td>\n",
              "      <td>PC 17599</td>\n",
              "      <td>71.2833</td>\n",
              "      <td>C85</td>\n",
              "      <td>C</td>\n",
              "    </tr>\n",
              "    <tr>\n",
              "      <th>2</th>\n",
              "      <td>3</td>\n",
              "      <td>1</td>\n",
              "      <td>3</td>\n",
              "      <td>Heikkinen, Miss. Laina</td>\n",
              "      <td>female</td>\n",
              "      <td>26.0</td>\n",
              "      <td>0</td>\n",
              "      <td>0</td>\n",
              "      <td>STON/O2. 3101282</td>\n",
              "      <td>7.9250</td>\n",
              "      <td>NaN</td>\n",
              "      <td>S</td>\n",
              "    </tr>\n",
              "    <tr>\n",
              "      <th>3</th>\n",
              "      <td>4</td>\n",
              "      <td>1</td>\n",
              "      <td>1</td>\n",
              "      <td>Futrelle, Mrs. Jacques Heath (Lily May Peel)</td>\n",
              "      <td>female</td>\n",
              "      <td>35.0</td>\n",
              "      <td>1</td>\n",
              "      <td>0</td>\n",
              "      <td>113803</td>\n",
              "      <td>53.1000</td>\n",
              "      <td>C123</td>\n",
              "      <td>S</td>\n",
              "    </tr>\n",
              "    <tr>\n",
              "      <th>4</th>\n",
              "      <td>5</td>\n",
              "      <td>0</td>\n",
              "      <td>3</td>\n",
              "      <td>Allen, Mr. William Henry</td>\n",
              "      <td>male</td>\n",
              "      <td>35.0</td>\n",
              "      <td>0</td>\n",
              "      <td>0</td>\n",
              "      <td>373450</td>\n",
              "      <td>8.0500</td>\n",
              "      <td>NaN</td>\n",
              "      <td>S</td>\n",
              "    </tr>\n",
              "  </tbody>\n",
              "</table>\n",
              "</div>"
            ],
            "text/plain": [
              "   PassengerId  Survived  Pclass  \\\n",
              "0            1         0       3   \n",
              "1            2         1       1   \n",
              "2            3         1       3   \n",
              "3            4         1       1   \n",
              "4            5         0       3   \n",
              "\n",
              "                                                Name     Sex   Age  SibSp  \\\n",
              "0                            Braund, Mr. Owen Harris    male  22.0      1   \n",
              "1  Cumings, Mrs. John Bradley (Florence Briggs Th...  female  38.0      1   \n",
              "2                             Heikkinen, Miss. Laina  female  26.0      0   \n",
              "3       Futrelle, Mrs. Jacques Heath (Lily May Peel)  female  35.0      1   \n",
              "4                           Allen, Mr. William Henry    male  35.0      0   \n",
              "\n",
              "   Parch            Ticket     Fare Cabin Embarked  \n",
              "0      0         A/5 21171   7.2500   NaN        S  \n",
              "1      0          PC 17599  71.2833   C85        C  \n",
              "2      0  STON/O2. 3101282   7.9250   NaN        S  \n",
              "3      0            113803  53.1000  C123        S  \n",
              "4      0            373450   8.0500   NaN        S  "
            ]
          },
          "metadata": {
            "tags": []
          },
          "execution_count": 3
        }
      ]
    },
    {
      "cell_type": "code",
      "metadata": {
        "id": "SGkRAW725jlk",
        "outputId": "6aa47664-b9f0-4eb2-d615-a6df6e416c81"
      },
      "source": [
        "test_data.head()"
      ],
      "execution_count": null,
      "outputs": [
        {
          "output_type": "execute_result",
          "data": {
            "text/html": [
              "<div>\n",
              "<style scoped>\n",
              "    .dataframe tbody tr th:only-of-type {\n",
              "        vertical-align: middle;\n",
              "    }\n",
              "\n",
              "    .dataframe tbody tr th {\n",
              "        vertical-align: top;\n",
              "    }\n",
              "\n",
              "    .dataframe thead th {\n",
              "        text-align: right;\n",
              "    }\n",
              "</style>\n",
              "<table border=\"1\" class=\"dataframe\">\n",
              "  <thead>\n",
              "    <tr style=\"text-align: right;\">\n",
              "      <th></th>\n",
              "      <th>PassengerId</th>\n",
              "      <th>Pclass</th>\n",
              "      <th>Name</th>\n",
              "      <th>Sex</th>\n",
              "      <th>Age</th>\n",
              "      <th>SibSp</th>\n",
              "      <th>Parch</th>\n",
              "      <th>Ticket</th>\n",
              "      <th>Fare</th>\n",
              "      <th>Cabin</th>\n",
              "      <th>Embarked</th>\n",
              "    </tr>\n",
              "  </thead>\n",
              "  <tbody>\n",
              "    <tr>\n",
              "      <th>0</th>\n",
              "      <td>892</td>\n",
              "      <td>3</td>\n",
              "      <td>Kelly, Mr. James</td>\n",
              "      <td>male</td>\n",
              "      <td>34.5</td>\n",
              "      <td>0</td>\n",
              "      <td>0</td>\n",
              "      <td>330911</td>\n",
              "      <td>7.8292</td>\n",
              "      <td>NaN</td>\n",
              "      <td>Q</td>\n",
              "    </tr>\n",
              "    <tr>\n",
              "      <th>1</th>\n",
              "      <td>893</td>\n",
              "      <td>3</td>\n",
              "      <td>Wilkes, Mrs. James (Ellen Needs)</td>\n",
              "      <td>female</td>\n",
              "      <td>47.0</td>\n",
              "      <td>1</td>\n",
              "      <td>0</td>\n",
              "      <td>363272</td>\n",
              "      <td>7.0000</td>\n",
              "      <td>NaN</td>\n",
              "      <td>S</td>\n",
              "    </tr>\n",
              "    <tr>\n",
              "      <th>2</th>\n",
              "      <td>894</td>\n",
              "      <td>2</td>\n",
              "      <td>Myles, Mr. Thomas Francis</td>\n",
              "      <td>male</td>\n",
              "      <td>62.0</td>\n",
              "      <td>0</td>\n",
              "      <td>0</td>\n",
              "      <td>240276</td>\n",
              "      <td>9.6875</td>\n",
              "      <td>NaN</td>\n",
              "      <td>Q</td>\n",
              "    </tr>\n",
              "    <tr>\n",
              "      <th>3</th>\n",
              "      <td>895</td>\n",
              "      <td>3</td>\n",
              "      <td>Wirz, Mr. Albert</td>\n",
              "      <td>male</td>\n",
              "      <td>27.0</td>\n",
              "      <td>0</td>\n",
              "      <td>0</td>\n",
              "      <td>315154</td>\n",
              "      <td>8.6625</td>\n",
              "      <td>NaN</td>\n",
              "      <td>S</td>\n",
              "    </tr>\n",
              "    <tr>\n",
              "      <th>4</th>\n",
              "      <td>896</td>\n",
              "      <td>3</td>\n",
              "      <td>Hirvonen, Mrs. Alexander (Helga E Lindqvist)</td>\n",
              "      <td>female</td>\n",
              "      <td>22.0</td>\n",
              "      <td>1</td>\n",
              "      <td>1</td>\n",
              "      <td>3101298</td>\n",
              "      <td>12.2875</td>\n",
              "      <td>NaN</td>\n",
              "      <td>S</td>\n",
              "    </tr>\n",
              "  </tbody>\n",
              "</table>\n",
              "</div>"
            ],
            "text/plain": [
              "   PassengerId  Pclass                                          Name     Sex  \\\n",
              "0          892       3                              Kelly, Mr. James    male   \n",
              "1          893       3              Wilkes, Mrs. James (Ellen Needs)  female   \n",
              "2          894       2                     Myles, Mr. Thomas Francis    male   \n",
              "3          895       3                              Wirz, Mr. Albert    male   \n",
              "4          896       3  Hirvonen, Mrs. Alexander (Helga E Lindqvist)  female   \n",
              "\n",
              "    Age  SibSp  Parch   Ticket     Fare Cabin Embarked  \n",
              "0  34.5      0      0   330911   7.8292   NaN        Q  \n",
              "1  47.0      1      0   363272   7.0000   NaN        S  \n",
              "2  62.0      0      0   240276   9.6875   NaN        Q  \n",
              "3  27.0      0      0   315154   8.6625   NaN        S  \n",
              "4  22.0      1      1  3101298  12.2875   NaN        S  "
            ]
          },
          "metadata": {
            "tags": []
          },
          "execution_count": 4
        }
      ]
    },
    {
      "cell_type": "code",
      "metadata": {
        "_kg_hide-input": true,
        "execution": {
          "iopub.execute_input": "2020-11-08T23:00:37.802149Z",
          "iopub.status.busy": "2020-11-08T23:00:37.787552Z",
          "iopub.status.idle": "2020-11-08T23:00:37.829416Z",
          "shell.execute_reply": "2020-11-08T23:00:37.828586Z"
        },
        "papermill": {
          "duration": 0.135779,
          "end_time": "2020-11-08T23:00:37.829566",
          "exception": false,
          "start_time": "2020-11-08T23:00:37.693787",
          "status": "completed"
        },
        "tags": [],
        "id": "i5olcRFp5jll",
        "outputId": "0dfe65c5-f018-475c-b425-106c31712c8a"
      },
      "source": [
        "all_data = pd.concat([train_data, test_data])\n",
        "print(\"All data shape:\",all_data.shape)\n",
        "\n",
        "all_data.head()"
      ],
      "execution_count": null,
      "outputs": [
        {
          "output_type": "stream",
          "text": [
            "All data shape: (1309, 12)\n"
          ],
          "name": "stdout"
        },
        {
          "output_type": "execute_result",
          "data": {
            "text/html": [
              "<div>\n",
              "<style scoped>\n",
              "    .dataframe tbody tr th:only-of-type {\n",
              "        vertical-align: middle;\n",
              "    }\n",
              "\n",
              "    .dataframe tbody tr th {\n",
              "        vertical-align: top;\n",
              "    }\n",
              "\n",
              "    .dataframe thead th {\n",
              "        text-align: right;\n",
              "    }\n",
              "</style>\n",
              "<table border=\"1\" class=\"dataframe\">\n",
              "  <thead>\n",
              "    <tr style=\"text-align: right;\">\n",
              "      <th></th>\n",
              "      <th>PassengerId</th>\n",
              "      <th>Survived</th>\n",
              "      <th>Pclass</th>\n",
              "      <th>Name</th>\n",
              "      <th>Sex</th>\n",
              "      <th>Age</th>\n",
              "      <th>SibSp</th>\n",
              "      <th>Parch</th>\n",
              "      <th>Ticket</th>\n",
              "      <th>Fare</th>\n",
              "      <th>Cabin</th>\n",
              "      <th>Embarked</th>\n",
              "    </tr>\n",
              "  </thead>\n",
              "  <tbody>\n",
              "    <tr>\n",
              "      <th>0</th>\n",
              "      <td>1</td>\n",
              "      <td>0.0</td>\n",
              "      <td>3</td>\n",
              "      <td>Braund, Mr. Owen Harris</td>\n",
              "      <td>male</td>\n",
              "      <td>22.0</td>\n",
              "      <td>1</td>\n",
              "      <td>0</td>\n",
              "      <td>A/5 21171</td>\n",
              "      <td>7.2500</td>\n",
              "      <td>NaN</td>\n",
              "      <td>S</td>\n",
              "    </tr>\n",
              "    <tr>\n",
              "      <th>1</th>\n",
              "      <td>2</td>\n",
              "      <td>1.0</td>\n",
              "      <td>1</td>\n",
              "      <td>Cumings, Mrs. John Bradley (Florence Briggs Th...</td>\n",
              "      <td>female</td>\n",
              "      <td>38.0</td>\n",
              "      <td>1</td>\n",
              "      <td>0</td>\n",
              "      <td>PC 17599</td>\n",
              "      <td>71.2833</td>\n",
              "      <td>C85</td>\n",
              "      <td>C</td>\n",
              "    </tr>\n",
              "    <tr>\n",
              "      <th>2</th>\n",
              "      <td>3</td>\n",
              "      <td>1.0</td>\n",
              "      <td>3</td>\n",
              "      <td>Heikkinen, Miss. Laina</td>\n",
              "      <td>female</td>\n",
              "      <td>26.0</td>\n",
              "      <td>0</td>\n",
              "      <td>0</td>\n",
              "      <td>STON/O2. 3101282</td>\n",
              "      <td>7.9250</td>\n",
              "      <td>NaN</td>\n",
              "      <td>S</td>\n",
              "    </tr>\n",
              "    <tr>\n",
              "      <th>3</th>\n",
              "      <td>4</td>\n",
              "      <td>1.0</td>\n",
              "      <td>1</td>\n",
              "      <td>Futrelle, Mrs. Jacques Heath (Lily May Peel)</td>\n",
              "      <td>female</td>\n",
              "      <td>35.0</td>\n",
              "      <td>1</td>\n",
              "      <td>0</td>\n",
              "      <td>113803</td>\n",
              "      <td>53.1000</td>\n",
              "      <td>C123</td>\n",
              "      <td>S</td>\n",
              "    </tr>\n",
              "    <tr>\n",
              "      <th>4</th>\n",
              "      <td>5</td>\n",
              "      <td>0.0</td>\n",
              "      <td>3</td>\n",
              "      <td>Allen, Mr. William Henry</td>\n",
              "      <td>male</td>\n",
              "      <td>35.0</td>\n",
              "      <td>0</td>\n",
              "      <td>0</td>\n",
              "      <td>373450</td>\n",
              "      <td>8.0500</td>\n",
              "      <td>NaN</td>\n",
              "      <td>S</td>\n",
              "    </tr>\n",
              "  </tbody>\n",
              "</table>\n",
              "</div>"
            ],
            "text/plain": [
              "   PassengerId  Survived  Pclass  \\\n",
              "0            1       0.0       3   \n",
              "1            2       1.0       1   \n",
              "2            3       1.0       3   \n",
              "3            4       1.0       1   \n",
              "4            5       0.0       3   \n",
              "\n",
              "                                                Name     Sex   Age  SibSp  \\\n",
              "0                            Braund, Mr. Owen Harris    male  22.0      1   \n",
              "1  Cumings, Mrs. John Bradley (Florence Briggs Th...  female  38.0      1   \n",
              "2                             Heikkinen, Miss. Laina  female  26.0      0   \n",
              "3       Futrelle, Mrs. Jacques Heath (Lily May Peel)  female  35.0      1   \n",
              "4                           Allen, Mr. William Henry    male  35.0      0   \n",
              "\n",
              "   Parch            Ticket     Fare Cabin Embarked  \n",
              "0      0         A/5 21171   7.2500   NaN        S  \n",
              "1      0          PC 17599  71.2833   C85        C  \n",
              "2      0  STON/O2. 3101282   7.9250   NaN        S  \n",
              "3      0            113803  53.1000  C123        S  \n",
              "4      0            373450   8.0500   NaN        S  "
            ]
          },
          "metadata": {
            "tags": []
          },
          "execution_count": 6
        }
      ]
    },
    {
      "cell_type": "markdown",
      "metadata": {
        "papermill": {
          "duration": 0.089472,
          "end_time": "2020-11-08T23:00:38.182085",
          "exception": false,
          "start_time": "2020-11-08T23:00:38.092613",
          "status": "completed"
        },
        "tags": [],
        "id": "LULacfeC5jlm"
      },
      "source": [
        "# 5. First look: variables, NAs \n",
        "## 5.1 Variables\n",
        "From the data overview of the competition, we have a description of each variable:\n",
        "* PassengerId - unique identifier\n",
        "* Survived:\n",
        "        0 = No\n",
        "        1 = Yes\n",
        "* Pclass: Ticket class\n",
        "        1 = 1st, Upper\n",
        "        2 = 2nd, Middle\n",
        "        3 = 3rd, Lower\n",
        "* Name: full name with a title\n",
        "* Sex: gender\n",
        "* Age: Age is fractional if less than 1. If the age is estimated, is it in the form of xx.5\n",
        "* Sibsp: Number of siblings / spouses aboard the Titanic. The dataset defines family relations in this way:\n",
        "        Sibling = brother, sister, stepbrother, stepsister\n",
        "        Spouse = husband, wife (mistresses and fiancés were ignored)\n",
        "* Parch: Number of parents / children aboard the Titanic. The dataset defines family relations in this way:\n",
        "        Parent = mother, father\n",
        "        Child = daughter, son, stepdaughter, stepson\n",
        "        Some children travelled only with a nanny, therefore parch=0 for them.\n",
        "* Ticket: Ticket number.\n",
        "* Fare: Passenger fare.\n",
        "* Cabin: Cabin number.\n",
        "* Embarked: Port of Embarkation:\n",
        "        C = Cherbourg\n",
        "        Q = Queenstown\n",
        "        S = Southampton"
      ]
    },
    {
      "cell_type": "markdown",
      "metadata": {
        "papermill": {
          "duration": 0.089612,
          "end_time": "2020-11-08T23:00:38.362925",
          "exception": false,
          "start_time": "2020-11-08T23:00:38.273313",
          "status": "completed"
        },
        "tags": [],
        "id": "QAKC6H5v5jln"
      },
      "source": [
        "## 5.2 Types of the variables"
      ]
    },
    {
      "cell_type": "markdown",
      "metadata": {
        "papermill": {
          "duration": 0.084871,
          "end_time": "2020-11-08T23:00:38.533582",
          "exception": false,
          "start_time": "2020-11-08T23:00:38.448711",
          "status": "completed"
        },
        "tags": [],
        "id": "Neu2o9it5jln"
      },
      "source": [
        "Data types, non-null values count:"
      ]
    },
    {
      "cell_type": "code",
      "metadata": {
        "_kg_hide-input": true,
        "execution": {
          "iopub.execute_input": "2020-11-08T23:00:38.725758Z",
          "iopub.status.busy": "2020-11-08T23:00:38.713448Z",
          "iopub.status.idle": "2020-11-08T23:00:38.729796Z",
          "shell.execute_reply": "2020-11-08T23:00:38.730343Z"
        },
        "papermill": {
          "duration": 0.109756,
          "end_time": "2020-11-08T23:00:38.730534",
          "exception": false,
          "start_time": "2020-11-08T23:00:38.620778",
          "status": "completed"
        },
        "tags": [],
        "id": "L30oLZPR5jlo",
        "outputId": "7045d8ea-8f83-41bb-ac62-73ea29d4c960"
      },
      "source": [
        "all_data.info()"
      ],
      "execution_count": null,
      "outputs": [
        {
          "output_type": "stream",
          "text": [
            "<class 'pandas.core.frame.DataFrame'>\n",
            "Int64Index: 1309 entries, 0 to 417\n",
            "Data columns (total 12 columns):\n",
            " #   Column       Non-Null Count  Dtype  \n",
            "---  ------       --------------  -----  \n",
            " 0   PassengerId  1309 non-null   int64  \n",
            " 1   Survived     891 non-null    float64\n",
            " 2   Pclass       1309 non-null   int64  \n",
            " 3   Name         1309 non-null   object \n",
            " 4   Sex          1309 non-null   object \n",
            " 5   Age          1046 non-null   float64\n",
            " 6   SibSp        1309 non-null   int64  \n",
            " 7   Parch        1309 non-null   int64  \n",
            " 8   Ticket       1309 non-null   object \n",
            " 9   Fare         1308 non-null   float64\n",
            " 10  Cabin        295 non-null    object \n",
            " 11  Embarked     1307 non-null   object \n",
            "dtypes: float64(3), int64(4), object(5)\n",
            "memory usage: 172.9+ KB\n"
          ],
          "name": "stdout"
        }
      ]
    },
    {
      "cell_type": "markdown",
      "metadata": {
        "papermill": {
          "duration": 0.085811,
          "end_time": "2020-11-08T23:00:38.904714",
          "exception": false,
          "start_time": "2020-11-08T23:00:38.818903",
          "status": "completed"
        },
        "tags": [],
        "id": "ckeZccCa5jlo"
      },
      "source": [
        "Age and Fare are continuous numeric variables.  \n",
        "Pclass is integer, but in fact it is categorical variable, represented by 3 numbers.  \n",
        "After previous manipulations, Survived variable has type 'float', it's not correct, since it's categorical variable too, but it will not influence my EDA process, so I will let it be float for now.\n"
      ]
    },
    {
      "cell_type": "markdown",
      "metadata": {
        "papermill": {
          "duration": 0.086248,
          "end_time": "2020-11-08T23:00:39.078555",
          "exception": false,
          "start_time": "2020-11-08T23:00:38.992307",
          "status": "completed"
        },
        "tags": [],
        "id": "VTZlKoNB5jlp"
      },
      "source": [
        "## 5.3 Check data for NA\n",
        "To check the dataset for NAs I am using **isna()** dataframe function, which returns a boolean same-sized object indicating if the values are NA and then I am calculating the number of True values for each variable.   \n",
        "NA values for each dataframe (train, test, all) presented in the table below:"
      ]
    },
    {
      "cell_type": "code",
      "metadata": {
        "_kg_hide-input": true,
        "execution": {
          "iopub.execute_input": "2020-11-08T23:00:39.277085Z",
          "iopub.status.busy": "2020-11-08T23:00:39.272440Z",
          "iopub.status.idle": "2020-11-08T23:00:39.282858Z",
          "shell.execute_reply": "2020-11-08T23:00:39.282053Z"
        },
        "papermill": {
          "duration": 0.116596,
          "end_time": "2020-11-08T23:00:39.283001",
          "exception": false,
          "start_time": "2020-11-08T23:00:39.166405",
          "status": "completed"
        },
        "tags": [],
        "id": "VKoIJ6Ry5jlp",
        "outputId": "65115748-8e11-492a-c295-3f12b86b67fe"
      },
      "source": [
        "# check data for NA values\n",
        "all_data_NA = all_data.isna().sum()\n",
        "train_NA = train_data.isna().sum()\n",
        "test_NA = test_data.isna().sum()\n",
        "\n",
        "pd.concat([train_NA, test_NA, all_data_NA], axis=1, sort = False, keys = ['Train NA', 'Test NA', 'All NA'])"
      ],
      "execution_count": null,
      "outputs": [
        {
          "output_type": "execute_result",
          "data": {
            "text/html": [
              "<div>\n",
              "<style scoped>\n",
              "    .dataframe tbody tr th:only-of-type {\n",
              "        vertical-align: middle;\n",
              "    }\n",
              "\n",
              "    .dataframe tbody tr th {\n",
              "        vertical-align: top;\n",
              "    }\n",
              "\n",
              "    .dataframe thead th {\n",
              "        text-align: right;\n",
              "    }\n",
              "</style>\n",
              "<table border=\"1\" class=\"dataframe\">\n",
              "  <thead>\n",
              "    <tr style=\"text-align: right;\">\n",
              "      <th></th>\n",
              "      <th>Train NA</th>\n",
              "      <th>Test NA</th>\n",
              "      <th>All NA</th>\n",
              "    </tr>\n",
              "  </thead>\n",
              "  <tbody>\n",
              "    <tr>\n",
              "      <th>PassengerId</th>\n",
              "      <td>0</td>\n",
              "      <td>0.0</td>\n",
              "      <td>0</td>\n",
              "    </tr>\n",
              "    <tr>\n",
              "      <th>Survived</th>\n",
              "      <td>0</td>\n",
              "      <td>NaN</td>\n",
              "      <td>418</td>\n",
              "    </tr>\n",
              "    <tr>\n",
              "      <th>Pclass</th>\n",
              "      <td>0</td>\n",
              "      <td>0.0</td>\n",
              "      <td>0</td>\n",
              "    </tr>\n",
              "    <tr>\n",
              "      <th>Name</th>\n",
              "      <td>0</td>\n",
              "      <td>0.0</td>\n",
              "      <td>0</td>\n",
              "    </tr>\n",
              "    <tr>\n",
              "      <th>Sex</th>\n",
              "      <td>0</td>\n",
              "      <td>0.0</td>\n",
              "      <td>0</td>\n",
              "    </tr>\n",
              "    <tr>\n",
              "      <th>Age</th>\n",
              "      <td>177</td>\n",
              "      <td>86.0</td>\n",
              "      <td>263</td>\n",
              "    </tr>\n",
              "    <tr>\n",
              "      <th>SibSp</th>\n",
              "      <td>0</td>\n",
              "      <td>0.0</td>\n",
              "      <td>0</td>\n",
              "    </tr>\n",
              "    <tr>\n",
              "      <th>Parch</th>\n",
              "      <td>0</td>\n",
              "      <td>0.0</td>\n",
              "      <td>0</td>\n",
              "    </tr>\n",
              "    <tr>\n",
              "      <th>Ticket</th>\n",
              "      <td>0</td>\n",
              "      <td>0.0</td>\n",
              "      <td>0</td>\n",
              "    </tr>\n",
              "    <tr>\n",
              "      <th>Fare</th>\n",
              "      <td>0</td>\n",
              "      <td>1.0</td>\n",
              "      <td>1</td>\n",
              "    </tr>\n",
              "    <tr>\n",
              "      <th>Cabin</th>\n",
              "      <td>687</td>\n",
              "      <td>327.0</td>\n",
              "      <td>1014</td>\n",
              "    </tr>\n",
              "    <tr>\n",
              "      <th>Embarked</th>\n",
              "      <td>2</td>\n",
              "      <td>0.0</td>\n",
              "      <td>2</td>\n",
              "    </tr>\n",
              "  </tbody>\n",
              "</table>\n",
              "</div>"
            ],
            "text/plain": [
              "             Train NA  Test NA  All NA\n",
              "PassengerId         0      0.0       0\n",
              "Survived            0      NaN     418\n",
              "Pclass              0      0.0       0\n",
              "Name                0      0.0       0\n",
              "Sex                 0      0.0       0\n",
              "Age               177     86.0     263\n",
              "SibSp               0      0.0       0\n",
              "Parch               0      0.0       0\n",
              "Ticket              0      0.0       0\n",
              "Fare                0      1.0       1\n",
              "Cabin             687    327.0    1014\n",
              "Embarked            2      0.0       2"
            ]
          },
          "metadata": {
            "tags": []
          },
          "execution_count": 9
        }
      ]
    },
    {
      "cell_type": "markdown",
      "metadata": {
        "papermill": {
          "duration": 0.088024,
          "end_time": "2020-11-08T23:00:39.636133",
          "exception": false,
          "start_time": "2020-11-08T23:00:39.548109",
          "status": "completed"
        },
        "tags": [],
        "id": "0YGpTGnJ5jlr"
      },
      "source": [
        "# 6. Exploring the data"
      ]
    },
    {
      "cell_type": "markdown",
      "metadata": {
        "papermill": {
          "duration": 0.087829,
          "end_time": "2020-11-08T23:00:39.812294",
          "exception": false,
          "start_time": "2020-11-08T23:00:39.724465",
          "status": "completed"
        },
        "tags": [],
        "id": "TBWNdKu15jlt"
      },
      "source": [
        "## 6.1 Survivals - target value\n",
        "Let's calculate and visualise distribution of our target variable - 'Survived'.  \n",
        "A countplot of seaborn module is a very useful way to show the counts of observations in each category.  \n",
        "Since we have target only for the training part, these numbers don't include all passengers."
      ]
    },
    {
      "cell_type": "code",
      "metadata": {
        "_kg_hide-input": true,
        "execution": {
          "iopub.execute_input": "2020-11-08T23:00:40.003537Z",
          "iopub.status.busy": "2020-11-08T23:00:40.001362Z",
          "iopub.status.idle": "2020-11-08T23:00:40.234239Z",
          "shell.execute_reply": "2020-11-08T23:00:40.233291Z"
        },
        "papermill": {
          "duration": 0.332229,
          "end_time": "2020-11-08T23:00:40.234444",
          "exception": false,
          "start_time": "2020-11-08T23:00:39.902215",
          "status": "completed"
        },
        "tags": [],
        "id": "sB8heKKL5jlt",
        "outputId": "35446570-c54a-4430-e462-2ed098091c6b"
      },
      "source": [
        "# set size of the plot\n",
        "plt.figure(figsize=(6, 4.5)) \n",
        "\n",
        "# countplot shows the counts of observations in each categorical bin using bars.\n",
        "# x - name of the categorical variable\n",
        "ax = sns.countplot(x = 'Survived', data = all_data, palette=[\"#3f3e6fd1\", \"#85c6a9\"])\n",
        "\n",
        "# set the current tick locations and labels of the x-axis.\n",
        "plt.xticks( np.arange(2), ['drowned', 'survived'] )\n",
        "# set title\n",
        "plt.title('Overall survival (training dataset)',fontsize= 14)\n",
        "# set x label\n",
        "plt.xlabel('Passenger status after the tragedy')\n",
        "# set y label\n",
        "plt.ylabel('Number of passengers')\n",
        "\n",
        "# Calculate passenger count for each category\n",
        "labels = (all_data['Survived'].value_counts())\n",
        "for i,v in enumerate(labels):\n",
        "    ax.text(i, v-40, str(v), horizontalalignment='center', size=14, color='w', fontweight='bold')\n",
        "    \n",
        "plt.show();"
      ],
      "execution_count": null,
      "outputs": [
        {
          "output_type": "display_data",
          "data": {
            "image/png": "[encoded data removed]",
            "text/plain": [
              "<Figure size 432x324 with 1 Axes>"
            ]
          },
          "metadata": {
            "tags": [],
            "needs_background": "light"
          }
        }
      ]
    },
    {
      "cell_type": "code",
      "metadata": {
        "id": "pRVywfuI5jlu",
        "outputId": "be54088b-5061-4594-d7d6-9c1370c67a1b"
      },
      "source": [
        "(all_data['Survived'].value_counts())"
      ],
      "execution_count": null,
      "outputs": [
        {
          "output_type": "execute_result",
          "data": {
            "text/plain": [
              "0.0    549\n",
              "1.0    342\n",
              "Name: Survived, dtype: int64"
            ]
          },
          "metadata": {
            "tags": []
          },
          "execution_count": 11
        }
      ]
    },
    {
      "cell_type": "code",
      "metadata": {
        "execution": {
          "iopub.execute_input": "2020-11-08T23:00:40.462545Z",
          "iopub.status.busy": "2020-11-08T23:00:40.461701Z",
          "iopub.status.idle": "2020-11-08T23:00:40.490470Z",
          "shell.execute_reply": "2020-11-08T23:00:40.489744Z"
        },
        "papermill": {
          "duration": 0.142812,
          "end_time": "2020-11-08T23:00:40.490626",
          "exception": false,
          "start_time": "2020-11-08T23:00:40.347814",
          "status": "completed"
        },
        "tags": [],
        "id": "GzH2Ye-K5jlw",
        "outputId": "5d9ed08c-8115-4e76-a641-167e12f8873a"
      },
      "source": [
        "all_data['Survived'].value_counts(normalize = True)"
      ],
      "execution_count": null,
      "outputs": [
        {
          "output_type": "execute_result",
          "data": {
            "text/plain": [
              "0.0    0.616162\n",
              "1.0    0.383838\n",
              "Name: Survived, dtype: float64"
            ]
          },
          "metadata": {
            "tags": []
          },
          "execution_count": 22
        }
      ]
    },
    {
      "cell_type": "markdown",
      "metadata": {
        "id": "aXcsdQTT5jly"
      },
      "source": [
        "We have 891 passengers in our train data.\n",
        "\n",
        "549 i.e. 61.61% of them drowned.\n",
        "\n",
        "342 i.e. 38.38% of them Survived."
      ]
    },
    {
      "cell_type": "markdown",
      "metadata": {
        "papermill": {
          "duration": 0.088486,
          "end_time": "2020-11-08T23:00:40.849910",
          "exception": false,
          "start_time": "2020-11-08T23:00:40.761424",
          "status": "completed"
        },
        "tags": [],
        "id": "pYwgHVSk5jlz"
      },
      "source": [
        "## 6.2 AGE\n",
        "What is the age of passengers, how it relates to the chances of survival, and how it changes depending on class and gender.\n",
        "### 6.2.1 Age distribution\n",
        "We have 263 missing values:  \n",
        "* 177 missing in the training dataset \n",
        "* 86 in the test dataset\n",
        "\n",
        "Overall age distribution (seaborn distplot) and descriptive statistics:"
      ]
    },
    {
      "cell_type": "code",
      "metadata": {
        "id": "rWPDzPJQ5jl1",
        "outputId": "fa623ea9-b793-4f37-8a4e-869ebae08b66"
      },
      "source": [
        "all_data.describe()"
      ],
      "execution_count": null,
      "outputs": [
        {
          "output_type": "execute_result",
          "data": {
            "text/html": [
              "<div>\n",
              "<style scoped>\n",
              "    .dataframe tbody tr th:only-of-type {\n",
              "        vertical-align: middle;\n",
              "    }\n",
              "\n",
              "    .dataframe tbody tr th {\n",
              "        vertical-align: top;\n",
              "    }\n",
              "\n",
              "    .dataframe thead th {\n",
              "        text-align: right;\n",
              "    }\n",
              "</style>\n",
              "<table border=\"1\" class=\"dataframe\">\n",
              "  <thead>\n",
              "    <tr style=\"text-align: right;\">\n",
              "      <th></th>\n",
              "      <th>PassengerId</th>\n",
              "      <th>Survived</th>\n",
              "      <th>Pclass</th>\n",
              "      <th>Age</th>\n",
              "      <th>SibSp</th>\n",
              "      <th>Parch</th>\n",
              "      <th>Fare</th>\n",
              "    </tr>\n",
              "  </thead>\n",
              "  <tbody>\n",
              "    <tr>\n",
              "      <th>count</th>\n",
              "      <td>1309.000000</td>\n",
              "      <td>891.000000</td>\n",
              "      <td>1309.000000</td>\n",
              "      <td>1046.000000</td>\n",
              "      <td>1309.000000</td>\n",
              "      <td>1309.000000</td>\n",
              "      <td>1308.000000</td>\n",
              "    </tr>\n",
              "    <tr>\n",
              "      <th>mean</th>\n",
              "      <td>655.000000</td>\n",
              "      <td>0.383838</td>\n",
              "      <td>2.294882</td>\n",
              "      <td>29.881138</td>\n",
              "      <td>0.498854</td>\n",
              "      <td>0.385027</td>\n",
              "      <td>33.295479</td>\n",
              "    </tr>\n",
              "    <tr>\n",
              "      <th>std</th>\n",
              "      <td>378.020061</td>\n",
              "      <td>0.486592</td>\n",
              "      <td>0.837836</td>\n",
              "      <td>14.413493</td>\n",
              "      <td>1.041658</td>\n",
              "      <td>0.865560</td>\n",
              "      <td>51.758668</td>\n",
              "    </tr>\n",
              "    <tr>\n",
              "      <th>min</th>\n",
              "      <td>1.000000</td>\n",
              "      <td>0.000000</td>\n",
              "      <td>1.000000</td>\n",
              "      <td>0.170000</td>\n",
              "      <td>0.000000</td>\n",
              "      <td>0.000000</td>\n",
              "      <td>0.000000</td>\n",
              "    </tr>\n",
              "    <tr>\n",
              "      <th>25%</th>\n",
              "      <td>328.000000</td>\n",
              "      <td>0.000000</td>\n",
              "      <td>2.000000</td>\n",
              "      <td>21.000000</td>\n",
              "      <td>0.000000</td>\n",
              "      <td>0.000000</td>\n",
              "      <td>7.895800</td>\n",
              "    </tr>\n",
              "    <tr>\n",
              "      <th>50%</th>\n",
              "      <td>655.000000</td>\n",
              "      <td>0.000000</td>\n",
              "      <td>3.000000</td>\n",
              "      <td>28.000000</td>\n",
              "      <td>0.000000</td>\n",
              "      <td>0.000000</td>\n",
              "      <td>14.454200</td>\n",
              "    </tr>\n",
              "    <tr>\n",
              "      <th>75%</th>\n",
              "      <td>982.000000</td>\n",
              "      <td>1.000000</td>\n",
              "      <td>3.000000</td>\n",
              "      <td>39.000000</td>\n",
              "      <td>1.000000</td>\n",
              "      <td>0.000000</td>\n",
              "      <td>31.275000</td>\n",
              "    </tr>\n",
              "    <tr>\n",
              "      <th>max</th>\n",
              "      <td>1309.000000</td>\n",
              "      <td>1.000000</td>\n",
              "      <td>3.000000</td>\n",
              "      <td>80.000000</td>\n",
              "      <td>8.000000</td>\n",
              "      <td>9.000000</td>\n",
              "      <td>512.329200</td>\n",
              "    </tr>\n",
              "  </tbody>\n",
              "</table>\n",
              "</div>"
            ],
            "text/plain": [
              "       PassengerId    Survived       Pclass          Age        SibSp  \\\n",
              "count  1309.000000  891.000000  1309.000000  1046.000000  1309.000000   \n",
              "mean    655.000000    0.383838     2.294882    29.881138     0.498854   \n",
              "std     378.020061    0.486592     0.837836    14.413493     1.041658   \n",
              "min       1.000000    0.000000     1.000000     0.170000     0.000000   \n",
              "25%     328.000000    0.000000     2.000000    21.000000     0.000000   \n",
              "50%     655.000000    0.000000     3.000000    28.000000     0.000000   \n",
              "75%     982.000000    1.000000     3.000000    39.000000     1.000000   \n",
              "max    1309.000000    1.000000     3.000000    80.000000     8.000000   \n",
              "\n",
              "             Parch         Fare  \n",
              "count  1309.000000  1308.000000  \n",
              "mean      0.385027    33.295479  \n",
              "std       0.865560    51.758668  \n",
              "min       0.000000     0.000000  \n",
              "25%       0.000000     7.895800  \n",
              "50%       0.000000    14.454200  \n",
              "75%       0.000000    31.275000  \n",
              "max       9.000000   512.329200  "
            ]
          },
          "metadata": {
            "tags": []
          },
          "execution_count": 24
        }
      ]
    },
    {
      "cell_type": "code",
      "metadata": {
        "id": "VFSRiB2w5jl2",
        "outputId": "22e6c8a3-ba7a-4421-aba5-76f8b6e41471"
      },
      "source": [
        "100 - (1046/1309*100)"
      ],
      "execution_count": null,
      "outputs": [
        {
          "output_type": "execute_result",
          "data": {
            "text/plain": [
              "20.0916730328495"
            ]
          },
          "metadata": {
            "tags": []
          },
          "execution_count": 26
        }
      ]
    },
    {
      "cell_type": "code",
      "metadata": {
        "id": "KN-GEsGR5jl2",
        "outputId": "079a0ff2-6029-403e-a8c4-5618e60ebf4e"
      },
      "source": [
        "1309-1046"
      ],
      "execution_count": null,
      "outputs": [
        {
          "output_type": "execute_result",
          "data": {
            "text/plain": [
              "263"
            ]
          },
          "metadata": {
            "tags": []
          },
          "execution_count": 29
        }
      ]
    },
    {
      "cell_type": "code",
      "metadata": {
        "id": "e8pBPxwg5jl3",
        "outputId": "12cf3b0c-03e4-4478-a801-4d28f31b8884"
      },
      "source": [
        "all_data.isna().sum()"
      ],
      "execution_count": null,
      "outputs": [
        {
          "output_type": "execute_result",
          "data": {
            "text/plain": [
              "PassengerId       0\n",
              "Survived        418\n",
              "Pclass            0\n",
              "Name              0\n",
              "Sex               0\n",
              "Age             263\n",
              "SibSp             0\n",
              "Parch             0\n",
              "Ticket            0\n",
              "Fare              1\n",
              "Cabin          1014\n",
              "Embarked          2\n",
              "dtype: int64"
            ]
          },
          "metadata": {
            "tags": []
          },
          "execution_count": 28
        }
      ]
    },
    {
      "cell_type": "code",
      "metadata": {
        "id": "6fi9Wxdv5jl4",
        "outputId": "8ef2ec26-7699-4b24-efe4-50a94b671ad0"
      },
      "source": [
        "not_na_age = all_data[all_data['Age']>0]\n",
        "not_na_age.shape"
      ],
      "execution_count": null,
      "outputs": [
        {
          "output_type": "execute_result",
          "data": {
            "text/plain": [
              "(1046, 12)"
            ]
          },
          "metadata": {
            "tags": []
          },
          "execution_count": 33
        }
      ]
    },
    {
      "cell_type": "code",
      "metadata": {
        "id": "l3YVyJq75jl4",
        "outputId": "06cd9844-5f4d-42ae-8cf6-9e76ca58766d"
      },
      "source": [
        "not_na_age.head()"
      ],
      "execution_count": null,
      "outputs": [
        {
          "output_type": "execute_result",
          "data": {
            "text/html": [
              "<div>\n",
              "<style scoped>\n",
              "    .dataframe tbody tr th:only-of-type {\n",
              "        vertical-align: middle;\n",
              "    }\n",
              "\n",
              "    .dataframe tbody tr th {\n",
              "        vertical-align: top;\n",
              "    }\n",
              "\n",
              "    .dataframe thead th {\n",
              "        text-align: right;\n",
              "    }\n",
              "</style>\n",
              "<table border=\"1\" class=\"dataframe\">\n",
              "  <thead>\n",
              "    <tr style=\"text-align: right;\">\n",
              "      <th></th>\n",
              "      <th>PassengerId</th>\n",
              "      <th>Survived</th>\n",
              "      <th>Pclass</th>\n",
              "      <th>Name</th>\n",
              "      <th>Sex</th>\n",
              "      <th>Age</th>\n",
              "      <th>SibSp</th>\n",
              "      <th>Parch</th>\n",
              "      <th>Ticket</th>\n",
              "      <th>Fare</th>\n",
              "      <th>Cabin</th>\n",
              "      <th>Embarked</th>\n",
              "    </tr>\n",
              "  </thead>\n",
              "  <tbody>\n",
              "    <tr>\n",
              "      <th>0</th>\n",
              "      <td>1</td>\n",
              "      <td>0.0</td>\n",
              "      <td>3</td>\n",
              "      <td>Braund, Mr. Owen Harris</td>\n",
              "      <td>male</td>\n",
              "      <td>22.0</td>\n",
              "      <td>1</td>\n",
              "      <td>0</td>\n",
              "      <td>A/5 21171</td>\n",
              "      <td>7.2500</td>\n",
              "      <td>NaN</td>\n",
              "      <td>S</td>\n",
              "    </tr>\n",
              "    <tr>\n",
              "      <th>1</th>\n",
              "      <td>2</td>\n",
              "      <td>1.0</td>\n",
              "      <td>1</td>\n",
              "      <td>Cumings, Mrs. John Bradley (Florence Briggs Th...</td>\n",
              "      <td>female</td>\n",
              "      <td>38.0</td>\n",
              "      <td>1</td>\n",
              "      <td>0</td>\n",
              "      <td>PC 17599</td>\n",
              "      <td>71.2833</td>\n",
              "      <td>C85</td>\n",
              "      <td>C</td>\n",
              "    </tr>\n",
              "    <tr>\n",
              "      <th>2</th>\n",
              "      <td>3</td>\n",
              "      <td>1.0</td>\n",
              "      <td>3</td>\n",
              "      <td>Heikkinen, Miss. Laina</td>\n",
              "      <td>female</td>\n",
              "      <td>26.0</td>\n",
              "      <td>0</td>\n",
              "      <td>0</td>\n",
              "      <td>STON/O2. 3101282</td>\n",
              "      <td>7.9250</td>\n",
              "      <td>NaN</td>\n",
              "      <td>S</td>\n",
              "    </tr>\n",
              "    <tr>\n",
              "      <th>3</th>\n",
              "      <td>4</td>\n",
              "      <td>1.0</td>\n",
              "      <td>1</td>\n",
              "      <td>Futrelle, Mrs. Jacques Heath (Lily May Peel)</td>\n",
              "      <td>female</td>\n",
              "      <td>35.0</td>\n",
              "      <td>1</td>\n",
              "      <td>0</td>\n",
              "      <td>113803</td>\n",
              "      <td>53.1000</td>\n",
              "      <td>C123</td>\n",
              "      <td>S</td>\n",
              "    </tr>\n",
              "    <tr>\n",
              "      <th>4</th>\n",
              "      <td>5</td>\n",
              "      <td>0.0</td>\n",
              "      <td>3</td>\n",
              "      <td>Allen, Mr. William Henry</td>\n",
              "      <td>male</td>\n",
              "      <td>35.0</td>\n",
              "      <td>0</td>\n",
              "      <td>0</td>\n",
              "      <td>373450</td>\n",
              "      <td>8.0500</td>\n",
              "      <td>NaN</td>\n",
              "      <td>S</td>\n",
              "    </tr>\n",
              "  </tbody>\n",
              "</table>\n",
              "</div>"
            ],
            "text/plain": [
              "   PassengerId  Survived  Pclass  \\\n",
              "0            1       0.0       3   \n",
              "1            2       1.0       1   \n",
              "2            3       1.0       3   \n",
              "3            4       1.0       1   \n",
              "4            5       0.0       3   \n",
              "\n",
              "                                                Name     Sex   Age  SibSp  \\\n",
              "0                            Braund, Mr. Owen Harris    male  22.0      1   \n",
              "1  Cumings, Mrs. John Bradley (Florence Briggs Th...  female  38.0      1   \n",
              "2                             Heikkinen, Miss. Laina  female  26.0      0   \n",
              "3       Futrelle, Mrs. Jacques Heath (Lily May Peel)  female  35.0      1   \n",
              "4                           Allen, Mr. William Henry    male  35.0      0   \n",
              "\n",
              "   Parch            Ticket     Fare Cabin Embarked  \n",
              "0      0         A/5 21171   7.2500   NaN        S  \n",
              "1      0          PC 17599  71.2833   C85        C  \n",
              "2      0  STON/O2. 3101282   7.9250   NaN        S  \n",
              "3      0            113803  53.1000  C123        S  \n",
              "4      0            373450   8.0500   NaN        S  "
            ]
          },
          "metadata": {
            "tags": []
          },
          "execution_count": 34
        }
      ]
    },
    {
      "cell_type": "code",
      "metadata": {
        "_kg_hide-input": true,
        "execution": {
          "iopub.execute_input": "2020-11-08T23:00:41.042855Z",
          "iopub.status.busy": "2020-11-08T23:00:41.041869Z",
          "iopub.status.idle": "2020-11-08T23:00:41.384122Z",
          "shell.execute_reply": "2020-11-08T23:00:41.383399Z"
        },
        "papermill": {
          "duration": 0.445142,
          "end_time": "2020-11-08T23:00:41.384267",
          "exception": false,
          "start_time": "2020-11-08T23:00:40.939125",
          "status": "completed"
        },
        "tags": [],
        "id": "A-yPq09Q5jl5",
        "outputId": "16d276a4-bf7b-4ca6-d83d-36b4694c5b75"
      },
      "source": [
        "plt.figure(figsize=(15,4))\n",
        "\n",
        "# Distribution of Age\n",
        "sns.distplot(not_na_age['Age']);"
      ],
      "execution_count": null,
      "outputs": [
        {
          "output_type": "display_data",
          "data": {
            "image/png": "[encoded data removed]",
            "text/plain": [
              "<Figure size 1080x288 with 1 Axes>"
            ]
          },
          "metadata": {
            "tags": [],
            "needs_background": "light"
          }
        }
      ]
    },
    {
      "cell_type": "code",
      "metadata": {
        "id": "VAEuxVs75jl5",
        "outputId": "e6ec6c9c-c192-4d6b-ad30-e9748d22d592"
      },
      "source": [
        "plt.figure(figsize=(15,4))\n",
        "\n",
        "# Distribution of Age\n",
        "sns.distplot(not_na_age['Age'], kde_kws={'lw':4}, bins=50)\n",
        "\n",
        "plt.title(\"Distribution of Passenger's age (all_data)\", fontsize=14)\n",
        "plt.xlabel('Age')\n",
        "plt.ylabel('Frequency')\n",
        "\n",
        "plt.tight_layout();"
      ],
      "execution_count": null,
      "outputs": [
        {
          "output_type": "display_data",
          "data": {
            "image/png": "[encoded data removed]",
            "text/plain": [
              "<Figure size 1080x288 with 1 Axes>"
            ]
          },
          "metadata": {
            "tags": [],
            "needs_background": "light"
          }
        }
      ]
    },
    {
      "cell_type": "code",
      "metadata": {
        "_kg_hide-input": true,
        "execution": {
          "iopub.execute_input": "2020-11-08T23:00:41.581135Z",
          "iopub.status.busy": "2020-11-08T23:00:41.580232Z",
          "iopub.status.idle": "2020-11-08T23:00:41.599812Z",
          "shell.execute_reply": "2020-11-08T23:00:41.599008Z"
        },
        "papermill": {
          "duration": 0.121393,
          "end_time": "2020-11-08T23:00:41.599991",
          "exception": false,
          "start_time": "2020-11-08T23:00:41.478598",
          "status": "completed"
        },
        "tags": [],
        "id": "xyWiSu5A5jl5",
        "outputId": "8b9ef4ed-5102-40b0-a72e-afc42633100d"
      },
      "source": [
        "# Descriptive statistics include those that summarize the central tendency, \n",
        "# dispersion and shape of a dataset’s distribution, excluding NaN values.\n",
        "age_distr = pd.DataFrame(all_data['Age'].describe())\n",
        "# Transpose index and columns.\n",
        "age_distr.transpose()"
      ],
      "execution_count": null,
      "outputs": [
        {
          "output_type": "execute_result",
          "data": {
            "text/html": [
              "<div>\n",
              "<style scoped>\n",
              "    .dataframe tbody tr th:only-of-type {\n",
              "        vertical-align: middle;\n",
              "    }\n",
              "\n",
              "    .dataframe tbody tr th {\n",
              "        vertical-align: top;\n",
              "    }\n",
              "\n",
              "    .dataframe thead th {\n",
              "        text-align: right;\n",
              "    }\n",
              "</style>\n",
              "<table border=\"1\" class=\"dataframe\">\n",
              "  <thead>\n",
              "    <tr style=\"text-align: right;\">\n",
              "      <th></th>\n",
              "      <th>count</th>\n",
              "      <th>mean</th>\n",
              "      <th>std</th>\n",
              "      <th>min</th>\n",
              "      <th>25%</th>\n",
              "      <th>50%</th>\n",
              "      <th>75%</th>\n",
              "      <th>max</th>\n",
              "    </tr>\n",
              "  </thead>\n",
              "  <tbody>\n",
              "    <tr>\n",
              "      <th>Age</th>\n",
              "      <td>1046.0</td>\n",
              "      <td>29.881138</td>\n",
              "      <td>14.413493</td>\n",
              "      <td>0.17</td>\n",
              "      <td>21.0</td>\n",
              "      <td>28.0</td>\n",
              "      <td>39.0</td>\n",
              "      <td>80.0</td>\n",
              "    </tr>\n",
              "  </tbody>\n",
              "</table>\n",
              "</div>"
            ],
            "text/plain": [
              "      count       mean        std   min   25%   50%   75%   max\n",
              "Age  1046.0  29.881138  14.413493  0.17  21.0  28.0  39.0  80.0"
            ]
          },
          "metadata": {
            "tags": []
          },
          "execution_count": 43
        }
      ]
    },
    {
      "cell_type": "markdown",
      "metadata": {
        "id": "lcQFb8zW5jl6"
      },
      "source": [
        "The Age distribution is Right Skewed."
      ]
    },
    {
      "cell_type": "markdown",
      "metadata": {
        "papermill": {
          "duration": 0.093747,
          "end_time": "2020-11-08T23:00:41.976157",
          "exception": false,
          "start_time": "2020-11-08T23:00:41.882410",
          "status": "completed"
        },
        "tags": [],
        "id": "z_3eb-Nw5jl6"
      },
      "source": [
        "### 6.2.2 Age by surviving status\n",
        "Did age had a big influence on chances to survive?  \n",
        "To visualize two age distributions, grouped by surviving status I am using boxlot and stripplot showed together:"
      ]
    },
    {
      "cell_type": "code",
      "metadata": {
        "_kg_hide-input": true,
        "execution": {
          "iopub.execute_input": "2020-11-08T23:00:42.185244Z",
          "iopub.status.busy": "2020-11-08T23:00:42.177304Z",
          "iopub.status.idle": "2020-11-08T23:00:42.440451Z",
          "shell.execute_reply": "2020-11-08T23:00:42.439703Z"
        },
        "papermill": {
          "duration": 0.367548,
          "end_time": "2020-11-08T23:00:42.440606",
          "exception": false,
          "start_time": "2020-11-08T23:00:42.073058",
          "status": "completed"
        },
        "tags": [],
        "id": "pjHFDzS55jl6",
        "outputId": "e26be661-0bf6-4ae4-a889-7986cecec0ea"
      },
      "source": [
        "plt.figure(figsize=(15, 3))\n",
        "\n",
        "# Draw a box plot to show Age distributions with respect to survival status.\n",
        "sns.boxplot(y = 'Survived', x = 'Age', data = train_data,\n",
        "     palette=[\"#3f3e6fd1\", \"#85c6a9\"], fliersize = 0, orient = 'h')\n",
        "\n",
        "# Add a scatterplot for each category.\n",
        "sns.stripplot(y = 'Survived', x = 'Age', data = train_data,\n",
        "     linewidth = 0.6, palette=[\"#3f3e6fd1\", \"#85c6a9\"], orient = 'h')\n",
        "\n",
        "plt.yticks( np.arange(2), ['drowned', 'survived'])\n",
        "plt.title('Age distribution grouped by surviving status (train data)',fontsize= 14)\n",
        "plt.ylabel('Passenger status after the tragedy')\n",
        "plt.tight_layout();"
      ],
      "execution_count": null,
      "outputs": [
        {
          "output_type": "display_data",
          "data": {
            "image/png": "[encoded data removed]",
            "text/plain": [
              "<Figure size 1080x216 with 1 Axes>"
            ]
          },
          "metadata": {
            "tags": [],
            "needs_background": "light"
          }
        }
      ]
    },
    {
      "cell_type": "code",
      "metadata": {
        "_kg_hide-input": true,
        "execution": {
          "iopub.execute_input": "2020-11-08T23:00:42.641607Z",
          "iopub.status.busy": "2020-11-08T23:00:42.640386Z",
          "iopub.status.idle": "2020-11-08T23:00:42.665798Z",
          "shell.execute_reply": "2020-11-08T23:00:42.665007Z"
        },
        "papermill": {
          "duration": 0.129552,
          "end_time": "2020-11-08T23:00:42.665934",
          "exception": false,
          "start_time": "2020-11-08T23:00:42.536382",
          "status": "completed"
        },
        "tags": [],
        "id": "hbcSxt-K5jl7",
        "outputId": "92d45e77-45e6-4b6b-aeef-1026df74f449"
      },
      "source": [
        "# Descriptive statistics:\n",
        "pd.DataFrame(all_data.groupby('Survived')['Age'].describe())"
      ],
      "execution_count": null,
      "outputs": [
        {
          "output_type": "execute_result",
          "data": {
            "text/html": [
              "<div>\n",
              "<style scoped>\n",
              "    .dataframe tbody tr th:only-of-type {\n",
              "        vertical-align: middle;\n",
              "    }\n",
              "\n",
              "    .dataframe tbody tr th {\n",
              "        vertical-align: top;\n",
              "    }\n",
              "\n",
              "    .dataframe thead th {\n",
              "        text-align: right;\n",
              "    }\n",
              "</style>\n",
              "<table border=\"1\" class=\"dataframe\">\n",
              "  <thead>\n",
              "    <tr style=\"text-align: right;\">\n",
              "      <th></th>\n",
              "      <th>count</th>\n",
              "      <th>mean</th>\n",
              "      <th>std</th>\n",
              "      <th>min</th>\n",
              "      <th>25%</th>\n",
              "      <th>50%</th>\n",
              "      <th>75%</th>\n",
              "      <th>max</th>\n",
              "    </tr>\n",
              "    <tr>\n",
              "      <th>Survived</th>\n",
              "      <th></th>\n",
              "      <th></th>\n",
              "      <th></th>\n",
              "      <th></th>\n",
              "      <th></th>\n",
              "      <th></th>\n",
              "      <th></th>\n",
              "      <th></th>\n",
              "    </tr>\n",
              "  </thead>\n",
              "  <tbody>\n",
              "    <tr>\n",
              "      <th>0.0</th>\n",
              "      <td>424.0</td>\n",
              "      <td>30.626179</td>\n",
              "      <td>14.172110</td>\n",
              "      <td>1.00</td>\n",
              "      <td>21.0</td>\n",
              "      <td>28.0</td>\n",
              "      <td>39.0</td>\n",
              "      <td>74.0</td>\n",
              "    </tr>\n",
              "    <tr>\n",
              "      <th>1.0</th>\n",
              "      <td>290.0</td>\n",
              "      <td>28.343690</td>\n",
              "      <td>14.950952</td>\n",
              "      <td>0.42</td>\n",
              "      <td>19.0</td>\n",
              "      <td>28.0</td>\n",
              "      <td>36.0</td>\n",
              "      <td>80.0</td>\n",
              "    </tr>\n",
              "  </tbody>\n",
              "</table>\n",
              "</div>"
            ],
            "text/plain": [
              "          count       mean        std   min   25%   50%   75%   max\n",
              "Survived                                                           \n",
              "0.0       424.0  30.626179  14.172110  1.00  21.0  28.0  39.0  74.0\n",
              "1.0       290.0  28.343690  14.950952  0.42  19.0  28.0  36.0  80.0"
            ]
          },
          "metadata": {
            "tags": []
          },
          "execution_count": 45
        }
      ]
    },
    {
      "cell_type": "markdown",
      "metadata": {
        "id": "5oFnLern5jl7"
      },
      "source": [
        "The min age of passenger who drowned is 1yr which is ofcourse a baby.\n",
        "\n",
        "The max age of passenger who drowned is 74 yrs which is also sad.\n",
        "\n",
        "This also indicated that older people were not given a priority while rescue operations."
      ]
    },
    {
      "cell_type": "code",
      "metadata": {
        "_kg_hide-input": true,
        "execution": {
          "iopub.execute_input": "2020-11-08T23:00:43.069504Z",
          "iopub.status.busy": "2020-11-08T23:00:43.068370Z",
          "iopub.status.idle": "2020-11-08T23:00:43.073329Z",
          "shell.execute_reply": "2020-11-08T23:00:43.072722Z"
        },
        "papermill": {
          "duration": 0.122608,
          "end_time": "2020-11-08T23:00:43.073464",
          "exception": false,
          "start_time": "2020-11-08T23:00:42.950856",
          "status": "completed"
        },
        "tags": [],
        "id": "2EQPTFJh5jl7",
        "outputId": "8b85d83d-dcfb-4455-88a3-904356053a74"
      },
      "source": [
        "all_data[all_data['Age'] == max(all_data['Age'])]"
      ],
      "execution_count": null,
      "outputs": [
        {
          "output_type": "execute_result",
          "data": {
            "text/html": [
              "<div>\n",
              "<style scoped>\n",
              "    .dataframe tbody tr th:only-of-type {\n",
              "        vertical-align: middle;\n",
              "    }\n",
              "\n",
              "    .dataframe tbody tr th {\n",
              "        vertical-align: top;\n",
              "    }\n",
              "\n",
              "    .dataframe thead th {\n",
              "        text-align: right;\n",
              "    }\n",
              "</style>\n",
              "<table border=\"1\" class=\"dataframe\">\n",
              "  <thead>\n",
              "    <tr style=\"text-align: right;\">\n",
              "      <th></th>\n",
              "      <th>PassengerId</th>\n",
              "      <th>Survived</th>\n",
              "      <th>Pclass</th>\n",
              "      <th>Name</th>\n",
              "      <th>Sex</th>\n",
              "      <th>Age</th>\n",
              "      <th>SibSp</th>\n",
              "      <th>Parch</th>\n",
              "      <th>Ticket</th>\n",
              "      <th>Fare</th>\n",
              "      <th>Cabin</th>\n",
              "      <th>Embarked</th>\n",
              "    </tr>\n",
              "  </thead>\n",
              "  <tbody>\n",
              "    <tr>\n",
              "      <th>630</th>\n",
              "      <td>631</td>\n",
              "      <td>1.0</td>\n",
              "      <td>1</td>\n",
              "      <td>Barkworth, Mr. Algernon Henry Wilson</td>\n",
              "      <td>male</td>\n",
              "      <td>80.0</td>\n",
              "      <td>0</td>\n",
              "      <td>0</td>\n",
              "      <td>27042</td>\n",
              "      <td>30.0</td>\n",
              "      <td>A23</td>\n",
              "      <td>S</td>\n",
              "    </tr>\n",
              "  </tbody>\n",
              "</table>\n",
              "</div>"
            ],
            "text/plain": [
              "     PassengerId  Survived  Pclass                                  Name  \\\n",
              "630          631       1.0       1  Barkworth, Mr. Algernon Henry Wilson   \n",
              "\n",
              "      Sex   Age  SibSp  Parch Ticket  Fare Cabin Embarked  \n",
              "630  male  80.0      0      0  27042  30.0   A23        S  "
            ]
          },
          "metadata": {
            "tags": []
          },
          "execution_count": 48
        }
      ]
    },
    {
      "cell_type": "code",
      "metadata": {
        "id": "ATPzUpyV5jl8",
        "outputId": "d1d6d00a-b636-4873-8fee-d9de588a4523"
      },
      "source": [
        "(all_data['Age'] == 74).sum()"
      ],
      "execution_count": null,
      "outputs": [
        {
          "output_type": "execute_result",
          "data": {
            "text/plain": [
              "1"
            ]
          },
          "metadata": {
            "tags": []
          },
          "execution_count": 51
        }
      ]
    },
    {
      "cell_type": "code",
      "metadata": {
        "id": "GZIVhFfZ5jl8",
        "outputId": "d4c089f2-93d7-483f-8695-e39199624445"
      },
      "source": [
        "all_data[all_data['Age'] == 74]"
      ],
      "execution_count": null,
      "outputs": [
        {
          "output_type": "execute_result",
          "data": {
            "text/html": [
              "<div>\n",
              "<style scoped>\n",
              "    .dataframe tbody tr th:only-of-type {\n",
              "        vertical-align: middle;\n",
              "    }\n",
              "\n",
              "    .dataframe tbody tr th {\n",
              "        vertical-align: top;\n",
              "    }\n",
              "\n",
              "    .dataframe thead th {\n",
              "        text-align: right;\n",
              "    }\n",
              "</style>\n",
              "<table border=\"1\" class=\"dataframe\">\n",
              "  <thead>\n",
              "    <tr style=\"text-align: right;\">\n",
              "      <th></th>\n",
              "      <th>PassengerId</th>\n",
              "      <th>Survived</th>\n",
              "      <th>Pclass</th>\n",
              "      <th>Name</th>\n",
              "      <th>Sex</th>\n",
              "      <th>Age</th>\n",
              "      <th>SibSp</th>\n",
              "      <th>Parch</th>\n",
              "      <th>Ticket</th>\n",
              "      <th>Fare</th>\n",
              "      <th>Cabin</th>\n",
              "      <th>Embarked</th>\n",
              "    </tr>\n",
              "  </thead>\n",
              "  <tbody>\n",
              "    <tr>\n",
              "      <th>851</th>\n",
              "      <td>852</td>\n",
              "      <td>0.0</td>\n",
              "      <td>3</td>\n",
              "      <td>Svensson, Mr. Johan</td>\n",
              "      <td>male</td>\n",
              "      <td>74.0</td>\n",
              "      <td>0</td>\n",
              "      <td>0</td>\n",
              "      <td>347060</td>\n",
              "      <td>7.775</td>\n",
              "      <td>NaN</td>\n",
              "      <td>S</td>\n",
              "    </tr>\n",
              "  </tbody>\n",
              "</table>\n",
              "</div>"
            ],
            "text/plain": [
              "     PassengerId  Survived  Pclass                 Name   Sex   Age  SibSp  \\\n",
              "851          852       0.0       3  Svensson, Mr. Johan  male  74.0      0   \n",
              "\n",
              "     Parch  Ticket   Fare Cabin Embarked  \n",
              "851      0  347060  7.775   NaN        S  "
            ]
          },
          "metadata": {
            "tags": []
          },
          "execution_count": 52
        }
      ]
    },
    {
      "cell_type": "code",
      "metadata": {
        "_kg_hide-input": true,
        "execution": {
          "iopub.execute_input": "2020-11-08T23:00:43.479374Z",
          "iopub.status.busy": "2020-11-08T23:00:43.478235Z",
          "iopub.status.idle": "2020-11-08T23:00:43.481601Z",
          "shell.execute_reply": "2020-11-08T23:00:43.482163Z"
        },
        "papermill": {
          "duration": 0.11645,
          "end_time": "2020-11-08T23:00:43.482332",
          "exception": false,
          "start_time": "2020-11-08T23:00:43.365882",
          "status": "completed"
        },
        "tags": [],
        "id": "SAk9Aris5jl9"
      },
      "source": [
        "train_data.loc[train_data['PassengerId'] == 631, 'Age'] = 48\n",
        "all_data.loc[all_data['PassengerId'] == 631, 'Age'] = 48"
      ],
      "execution_count": null,
      "outputs": []
    },
    {
      "cell_type": "code",
      "metadata": {
        "_kg_hide-input": true,
        "execution": {
          "iopub.execute_input": "2020-11-08T23:00:43.741642Z",
          "iopub.status.busy": "2020-11-08T23:00:43.740413Z",
          "iopub.status.idle": "2020-11-08T23:00:43.763918Z",
          "shell.execute_reply": "2020-11-08T23:00:43.764492Z"
        },
        "papermill": {
          "duration": 0.133376,
          "end_time": "2020-11-08T23:00:43.764682",
          "exception": false,
          "start_time": "2020-11-08T23:00:43.631306",
          "status": "completed"
        },
        "tags": [],
        "id": "yuEW9ABa5jl9",
        "outputId": "04d7b5b7-c262-4014-c3bc-829bd0b31198"
      },
      "source": [
        "# Descriptive statistics:\n",
        "pd.DataFrame(all_data.groupby('Survived')['Age'].describe())"
      ],
      "execution_count": null,
      "outputs": [
        {
          "output_type": "execute_result",
          "data": {
            "text/html": [
              "<div>\n",
              "<style scoped>\n",
              "    .dataframe tbody tr th:only-of-type {\n",
              "        vertical-align: middle;\n",
              "    }\n",
              "\n",
              "    .dataframe tbody tr th {\n",
              "        vertical-align: top;\n",
              "    }\n",
              "\n",
              "    .dataframe thead th {\n",
              "        text-align: right;\n",
              "    }\n",
              "</style>\n",
              "<table border=\"1\" class=\"dataframe\">\n",
              "  <thead>\n",
              "    <tr style=\"text-align: right;\">\n",
              "      <th></th>\n",
              "      <th>count</th>\n",
              "      <th>mean</th>\n",
              "      <th>std</th>\n",
              "      <th>min</th>\n",
              "      <th>25%</th>\n",
              "      <th>50%</th>\n",
              "      <th>75%</th>\n",
              "      <th>max</th>\n",
              "    </tr>\n",
              "    <tr>\n",
              "      <th>Survived</th>\n",
              "      <th></th>\n",
              "      <th></th>\n",
              "      <th></th>\n",
              "      <th></th>\n",
              "      <th></th>\n",
              "      <th></th>\n",
              "      <th></th>\n",
              "      <th></th>\n",
              "    </tr>\n",
              "  </thead>\n",
              "  <tbody>\n",
              "    <tr>\n",
              "      <th>0.0</th>\n",
              "      <td>424.0</td>\n",
              "      <td>30.626179</td>\n",
              "      <td>14.172110</td>\n",
              "      <td>1.00</td>\n",
              "      <td>21.0</td>\n",
              "      <td>28.0</td>\n",
              "      <td>39.0</td>\n",
              "      <td>74.0</td>\n",
              "    </tr>\n",
              "    <tr>\n",
              "      <th>1.0</th>\n",
              "      <td>290.0</td>\n",
              "      <td>28.233345</td>\n",
              "      <td>14.684091</td>\n",
              "      <td>0.42</td>\n",
              "      <td>19.0</td>\n",
              "      <td>28.0</td>\n",
              "      <td>36.0</td>\n",
              "      <td>63.0</td>\n",
              "    </tr>\n",
              "  </tbody>\n",
              "</table>\n",
              "</div>"
            ],
            "text/plain": [
              "          count       mean        std   min   25%   50%   75%   max\n",
              "Survived                                                           \n",
              "0.0       424.0  30.626179  14.172110  1.00  21.0  28.0  39.0  74.0\n",
              "1.0       290.0  28.233345  14.684091  0.42  19.0  28.0  36.0  63.0"
            ]
          },
          "metadata": {
            "tags": []
          },
          "execution_count": 54
        }
      ]
    },
    {
      "cell_type": "markdown",
      "metadata": {
        "papermill": {
          "duration": 0.098045,
          "end_time": "2020-11-08T23:00:43.960241",
          "exception": false,
          "start_time": "2020-11-08T23:00:43.862196",
          "status": "completed"
        },
        "tags": [],
        "id": "UNA3_zSI5jl_"
      },
      "source": [
        "Let's update our description:  \n",
        "The mean age of survived passenger is 28.23 which on 2.39 smaller than the mean age of drowned passengers (only passengers we know survived status for).=\n",
        "The maximum age of survived passenger is 63 y.o.  \n",
        "It looks like there is a slightly bigger chance to survive for younger people."
      ]
    },
    {
      "cell_type": "markdown",
      "metadata": {
        "papermill": {
          "duration": 0.099,
          "end_time": "2020-11-08T23:00:44.159132",
          "exception": false,
          "start_time": "2020-11-08T23:00:44.060132",
          "status": "completed"
        },
        "tags": [],
        "id": "Ip2R1vF05jmA"
      },
      "source": [
        "### 6.2.3 Age by class\n",
        "There I will compare three age distributions, grouped by class of the passenger.  \n",
        "As visualisations I will use 2 gaphs:\n",
        "1. boxplot+stripplot as before\n",
        "2. kdeplot, to plot age density curves for each class. This method can't handle missing values, so I filter the data before using it."
      ]
    },
    {
      "cell_type": "code",
      "metadata": {
        "id": "fFrYBbU15jmA",
        "outputId": "f568528a-babd-461b-f572-6078bfa346fd"
      },
      "source": [
        "all_data[ (all_data['Age']>0) & (all_data['Pclass'] == 1)].shape"
      ],
      "execution_count": null,
      "outputs": [
        {
          "output_type": "execute_result",
          "data": {
            "text/plain": [
              "(284, 12)"
            ]
          },
          "metadata": {
            "tags": []
          },
          "execution_count": 56
        }
      ]
    },
    {
      "cell_type": "code",
      "metadata": {
        "id": "gnuUi6Xx5jmD",
        "outputId": "4821c868-30bc-4399-d58e-cbe4160ad64c"
      },
      "source": [
        "all_data[ (all_data['Age']>0) & (all_data['Pclass'] == 2)].shape"
      ],
      "execution_count": null,
      "outputs": [
        {
          "output_type": "execute_result",
          "data": {
            "text/plain": [
              "(261, 12)"
            ]
          },
          "metadata": {
            "tags": []
          },
          "execution_count": 57
        }
      ]
    },
    {
      "cell_type": "code",
      "metadata": {
        "id": "9tqGD8Bq5jmE",
        "outputId": "fcab43bd-cde3-40e8-f44d-d4e1f7b0a874"
      },
      "source": [
        "all_data[ (all_data['Age']>0) & (all_data['Pclass'] == 3)].shape"
      ],
      "execution_count": null,
      "outputs": [
        {
          "output_type": "execute_result",
          "data": {
            "text/plain": [
              "(501, 12)"
            ]
          },
          "metadata": {
            "tags": []
          },
          "execution_count": 58
        }
      ]
    },
    {
      "cell_type": "code",
      "metadata": {
        "id": "5Pxuqr6E5jmE",
        "outputId": "6f1fc16e-ec67-4d39-b619-88061874d1fd"
      },
      "source": [
        "284+261+501"
      ],
      "execution_count": null,
      "outputs": [
        {
          "output_type": "execute_result",
          "data": {
            "text/plain": [
              "1046"
            ]
          },
          "metadata": {
            "tags": []
          },
          "execution_count": 59
        }
      ]
    },
    {
      "cell_type": "code",
      "metadata": {
        "_kg_hide-input": true,
        "execution": {
          "iopub.execute_input": "2020-11-08T23:00:44.373445Z",
          "iopub.status.busy": "2020-11-08T23:00:44.372626Z",
          "iopub.status.idle": "2020-11-08T23:00:45.140403Z",
          "shell.execute_reply": "2020-11-08T23:00:45.141054Z"
        },
        "papermill": {
          "duration": 0.879583,
          "end_time": "2020-11-08T23:00:45.141226",
          "exception": false,
          "start_time": "2020-11-08T23:00:44.261643",
          "status": "completed"
        },
        "tags": [],
        "id": "S7EsKoLn5jmF",
        "outputId": "4d369d88-d948-442e-f1c8-1c289b114b37"
      },
      "source": [
        "# set size\n",
        "plt.figure(figsize=(20, 6))\n",
        "\n",
        "# set palette\n",
        "palette = sns.cubehelix_palette(5, start = 3)\n",
        "\n",
        "plt.subplot(1, 2, 1)\n",
        "sns.boxplot(x = 'Pclass', y = 'Age', data = all_data,\n",
        "     palette = palette, fliersize = 0)\n",
        "\n",
        "sns.stripplot(x = 'Pclass', y = 'Age', data = all_data,\n",
        "     linewidth = 0.6, palette = palette)\n",
        "plt.xticks( np.arange(3), ['1st class', '2nd class', '3rd class'])\n",
        "plt.title('Age distribution grouped by ticket class (all data)',fontsize= 16)\n",
        "plt.xlabel('Ticket class')\n",
        "\n",
        "\n",
        "plt.subplot(1,2,2)\n",
        "age_1_class = all_data[ (all_data['Age']>0) & (all_data['Pclass'] == 1)]\n",
        "age_2_class = all_data[ (all_data['Age']>0) & (all_data['Pclass'] == 2)]\n",
        "age_3_class = all_data[ (all_data['Age']>0) & (all_data['Pclass'] == 3)]\n",
        "\n",
        "\n",
        "# Ploting the 3 variables that we create\n",
        "sns.kdeplot(age_1_class[\"Age\"], shade=True, color='#eed4d0', label = '1st class')\n",
        "sns.kdeplot(age_2_class[\"Age\"], shade=True,  color='#cda0aa', label = '2nd class')\n",
        "sns.kdeplot(age_3_class[\"Age\"], shade=True,color='#a2708e', label = '3rd class')\n",
        "plt.title('Age distribution grouped by ticket class (all data)',fontsize= 16)\n",
        "plt.xlabel('Age')\n",
        "plt.xlim(0, 90)\n",
        "plt.tight_layout()\n",
        "plt.show();"
      ],
      "execution_count": null,
      "outputs": [
        {
          "output_type": "display_data",
          "data": {
            "image/png": "[encoded data removed]",
            "text/plain": [
              "<Figure size 1440x432 with 2 Axes>"
            ]
          },
          "metadata": {
            "tags": [],
            "needs_background": "light"
          }
        }
      ]
    },
    {
      "cell_type": "code",
      "metadata": {
        "_kg_hide-input": true,
        "execution": {
          "iopub.execute_input": "2020-11-08T23:00:45.370247Z",
          "iopub.status.busy": "2020-11-08T23:00:45.361936Z",
          "iopub.status.idle": "2020-11-08T23:00:45.391114Z",
          "shell.execute_reply": "2020-11-08T23:00:45.390280Z"
        },
        "papermill": {
          "duration": 0.142679,
          "end_time": "2020-11-08T23:00:45.391247",
          "exception": false,
          "start_time": "2020-11-08T23:00:45.248568",
          "status": "completed"
        },
        "tags": [],
        "id": "Q-LZL-O35jmG",
        "outputId": "3236c271-fb95-4cb0-9fa2-01df35b06635"
      },
      "source": [
        "# Descriptive statistics:\n",
        "pd.DataFrame(all_data.groupby('Pclass')['Age'].describe())"
      ],
      "execution_count": null,
      "outputs": [
        {
          "output_type": "execute_result",
          "data": {
            "text/html": [
              "<div>\n",
              "<style scoped>\n",
              "    .dataframe tbody tr th:only-of-type {\n",
              "        vertical-align: middle;\n",
              "    }\n",
              "\n",
              "    .dataframe tbody tr th {\n",
              "        vertical-align: top;\n",
              "    }\n",
              "\n",
              "    .dataframe thead th {\n",
              "        text-align: right;\n",
              "    }\n",
              "</style>\n",
              "<table border=\"1\" class=\"dataframe\">\n",
              "  <thead>\n",
              "    <tr style=\"text-align: right;\">\n",
              "      <th></th>\n",
              "      <th>count</th>\n",
              "      <th>mean</th>\n",
              "      <th>std</th>\n",
              "      <th>min</th>\n",
              "      <th>25%</th>\n",
              "      <th>50%</th>\n",
              "      <th>75%</th>\n",
              "      <th>max</th>\n",
              "    </tr>\n",
              "    <tr>\n",
              "      <th>Pclass</th>\n",
              "      <th></th>\n",
              "      <th></th>\n",
              "      <th></th>\n",
              "      <th></th>\n",
              "      <th></th>\n",
              "      <th></th>\n",
              "      <th></th>\n",
              "      <th></th>\n",
              "    </tr>\n",
              "  </thead>\n",
              "  <tbody>\n",
              "    <tr>\n",
              "      <th>1</th>\n",
              "      <td>284.0</td>\n",
              "      <td>39.047254</td>\n",
              "      <td>14.353217</td>\n",
              "      <td>0.92</td>\n",
              "      <td>28.0</td>\n",
              "      <td>39.0</td>\n",
              "      <td>49.25</td>\n",
              "      <td>76.0</td>\n",
              "    </tr>\n",
              "    <tr>\n",
              "      <th>2</th>\n",
              "      <td>261.0</td>\n",
              "      <td>29.506705</td>\n",
              "      <td>13.638627</td>\n",
              "      <td>0.67</td>\n",
              "      <td>22.0</td>\n",
              "      <td>29.0</td>\n",
              "      <td>36.00</td>\n",
              "      <td>70.0</td>\n",
              "    </tr>\n",
              "    <tr>\n",
              "      <th>3</th>\n",
              "      <td>501.0</td>\n",
              "      <td>24.816367</td>\n",
              "      <td>11.958202</td>\n",
              "      <td>0.17</td>\n",
              "      <td>18.0</td>\n",
              "      <td>24.0</td>\n",
              "      <td>32.00</td>\n",
              "      <td>74.0</td>\n",
              "    </tr>\n",
              "  </tbody>\n",
              "</table>\n",
              "</div>"
            ],
            "text/plain": [
              "        count       mean        std   min   25%   50%    75%   max\n",
              "Pclass                                                            \n",
              "1       284.0  39.047254  14.353217  0.92  28.0  39.0  49.25  76.0\n",
              "2       261.0  29.506705  13.638627  0.67  22.0  29.0  36.00  70.0\n",
              "3       501.0  24.816367  11.958202  0.17  18.0  24.0  32.00  74.0"
            ]
          },
          "metadata": {
            "tags": []
          },
          "execution_count": 61
        }
      ]
    },
    {
      "cell_type": "markdown",
      "metadata": {
        "id": "KAUnGTRs5jmG"
      },
      "source": [
        "Class 1 has a wider distribution if compared to class 2 and class 3.\n",
        "\n",
        "Class 2 and Class 3 Age distributions are Right Skewed.\n",
        "\n",
        "Class 1 average age is 39, which we guess should be because of the status quo and business and leaisure trips they may have planned on RMS titanic.\n",
        "\n",
        "Class 3 average age is 24 viz all youngsters crazy about this voyage happen to embark the ship."
      ]
    },
    {
      "cell_type": "markdown",
      "metadata": {
        "papermill": {
          "duration": 0.113336,
          "end_time": "2020-11-08T23:00:45.817421",
          "exception": false,
          "start_time": "2020-11-08T23:00:45.704085",
          "status": "completed"
        },
        "tags": [],
        "id": "vyqfFUXn5jmG"
      },
      "source": [
        "### 6.2.4 Age vs class vs gender\n",
        "Comparison of age distribution by gender I will do separately for each class since we have such a noticeable age difference between classes."
      ]
    },
    {
      "cell_type": "code",
      "metadata": {
        "_kg_hide-input": true,
        "execution": {
          "iopub.execute_input": "2020-11-08T23:00:46.084554Z",
          "iopub.status.busy": "2020-11-08T23:00:46.083067Z",
          "iopub.status.idle": "2020-11-08T23:00:46.713391Z",
          "shell.execute_reply": "2020-11-08T23:00:46.712625Z"
        },
        "papermill": {
          "duration": 0.783233,
          "end_time": "2020-11-08T23:00:46.713542",
          "exception": false,
          "start_time": "2020-11-08T23:00:45.930309",
          "status": "completed"
        },
        "tags": [],
        "id": "kGFKBuKf5jmH",
        "outputId": "766cb49e-2171-42e2-9391-6f276d04a83a"
      },
      "source": [
        "plt.figure(figsize=(20, 5))\n",
        "palette = \"Set3\"\n",
        "\n",
        "plt.subplot(1, 3, 1)\n",
        "sns.boxplot(x = 'Sex', y = 'Age', data = age_1_class,\n",
        "     palette = palette, fliersize = 0)\n",
        "sns.stripplot(x = 'Sex', y = 'Age', data = age_1_class,\n",
        "     linewidth = 0.6, palette = palette)\n",
        "plt.title('1st class Age distribution by Sex',fontsize= 14)\n",
        "plt.ylim(-5, 80)\n",
        "\n",
        "plt.subplot(1, 3, 2)\n",
        "sns.boxplot(x = 'Sex', y = 'Age', data = age_2_class,\n",
        "     palette = palette, fliersize = 0)\n",
        "sns.stripplot(x = 'Sex', y = 'Age', data = age_2_class,\n",
        "     linewidth = 0.6, palette = palette)\n",
        "plt.title('2nd class Age distribution by Sex',fontsize= 14)\n",
        "plt.ylim(-5, 80)\n",
        "\n",
        "plt.subplot(1, 3, 3)\n",
        "sns.boxplot(x = 'Sex', y = 'Age',  data = age_3_class,\n",
        "     order = ['female', 'male'], palette = palette, fliersize = 0)\n",
        "sns.stripplot(x = 'Sex', y = 'Age', data = age_3_class,\n",
        "     order = ['female', 'male'], linewidth = 0.6, palette = palette)\n",
        "plt.title('3rd class Age distribution by Sex',fontsize= 14)\n",
        "plt.ylim(-5, 80)\n",
        "\n",
        "plt.show();"
      ],
      "execution_count": null,
      "outputs": [
        {
          "output_type": "display_data",
          "data": {
            "image/png": "[encoded data removed]",
            "text/plain": [
              "<Figure size 1440x360 with 3 Axes>"
            ]
          },
          "metadata": {
            "tags": [],
            "needs_background": "light"
          }
        }
      ]
    },
    {
      "cell_type": "code",
      "metadata": {
        "id": "dU-fErtQ5jmH",
        "outputId": "4282ab6d-f0a4-4a44-f4e6-19ae52d4d009"
      },
      "source": [
        "age_1_class.groupby('Sex')['Age']"
      ],
      "execution_count": null,
      "outputs": [
        {
          "output_type": "execute_result",
          "data": {
            "text/plain": [
              "<pandas.core.groupby.generic.SeriesGroupBy object at 0x000002B4D7F22F40>"
            ]
          },
          "metadata": {
            "tags": []
          },
          "execution_count": 66
        }
      ]
    },
    {
      "cell_type": "code",
      "metadata": {
        "id": "3pfSmLAM5jmI",
        "outputId": "375cfe82-c212-4743-9b3e-e1e63012a209"
      },
      "source": [
        "age_1_class.groupby('Sex')['Age'].describe()"
      ],
      "execution_count": null,
      "outputs": [
        {
          "output_type": "execute_result",
          "data": {
            "text/html": [
              "<div>\n",
              "<style scoped>\n",
              "    .dataframe tbody tr th:only-of-type {\n",
              "        vertical-align: middle;\n",
              "    }\n",
              "\n",
              "    .dataframe tbody tr th {\n",
              "        vertical-align: top;\n",
              "    }\n",
              "\n",
              "    .dataframe thead th {\n",
              "        text-align: right;\n",
              "    }\n",
              "</style>\n",
              "<table border=\"1\" class=\"dataframe\">\n",
              "  <thead>\n",
              "    <tr style=\"text-align: right;\">\n",
              "      <th></th>\n",
              "      <th>count</th>\n",
              "      <th>mean</th>\n",
              "      <th>std</th>\n",
              "      <th>min</th>\n",
              "      <th>25%</th>\n",
              "      <th>50%</th>\n",
              "      <th>75%</th>\n",
              "      <th>max</th>\n",
              "    </tr>\n",
              "    <tr>\n",
              "      <th>Sex</th>\n",
              "      <th></th>\n",
              "      <th></th>\n",
              "      <th></th>\n",
              "      <th></th>\n",
              "      <th></th>\n",
              "      <th></th>\n",
              "      <th></th>\n",
              "      <th></th>\n",
              "    </tr>\n",
              "  </thead>\n",
              "  <tbody>\n",
              "    <tr>\n",
              "      <th>female</th>\n",
              "      <td>133.0</td>\n",
              "      <td>37.037594</td>\n",
              "      <td>14.272460</td>\n",
              "      <td>2.00</td>\n",
              "      <td>24.0</td>\n",
              "      <td>36.0</td>\n",
              "      <td>48.0</td>\n",
              "      <td>76.0</td>\n",
              "    </tr>\n",
              "    <tr>\n",
              "      <th>male</th>\n",
              "      <td>151.0</td>\n",
              "      <td>40.817351</td>\n",
              "      <td>14.236835</td>\n",
              "      <td>0.92</td>\n",
              "      <td>30.0</td>\n",
              "      <td>42.0</td>\n",
              "      <td>50.0</td>\n",
              "      <td>71.0</td>\n",
              "    </tr>\n",
              "  </tbody>\n",
              "</table>\n",
              "</div>"
            ],
            "text/plain": [
              "        count       mean        std   min   25%   50%   75%   max\n",
              "Sex                                                              \n",
              "female  133.0  37.037594  14.272460  2.00  24.0  36.0  48.0  76.0\n",
              "male    151.0  40.817351  14.236835  0.92  30.0  42.0  50.0  71.0"
            ]
          },
          "metadata": {
            "tags": []
          },
          "execution_count": 67
        }
      ]
    },
    {
      "cell_type": "code",
      "metadata": {
        "_kg_hide-input": true,
        "execution": {
          "iopub.execute_input": "2020-11-08T23:00:46.948293Z",
          "iopub.status.busy": "2020-11-08T23:00:46.947310Z",
          "iopub.status.idle": "2020-11-08T23:00:46.999238Z",
          "shell.execute_reply": "2020-11-08T23:00:46.997751Z"
        },
        "papermill": {
          "duration": 0.172143,
          "end_time": "2020-11-08T23:00:46.999443",
          "exception": false,
          "start_time": "2020-11-08T23:00:46.827300",
          "status": "completed"
        },
        "tags": [],
        "id": "kmoJibnf5jmJ",
        "outputId": "9776881c-c41f-4e47-b502-383eb0f339c0"
      },
      "source": [
        "# Descriptive Statictics\n",
        "age_1_class_stat = pd.DataFrame(age_1_class.groupby('Sex')['Age'].describe())\n",
        "age_2_class_stat = pd.DataFrame(age_2_class.groupby('Sex')['Age'].describe())\n",
        "age_3_class_stat = pd.DataFrame(age_3_class.groupby('Sex')['Age'].describe())\n",
        "\n",
        "\n",
        "pd.concat([age_1_class_stat, age_2_class_stat, age_3_class_stat], axis=0, sort = False, keys = ['1st', '2nd', '3rd'])"
      ],
      "execution_count": null,
      "outputs": [
        {
          "output_type": "execute_result",
          "data": {
            "text/html": [
              "<div>\n",
              "<style scoped>\n",
              "    .dataframe tbody tr th:only-of-type {\n",
              "        vertical-align: middle;\n",
              "    }\n",
              "\n",
              "    .dataframe tbody tr th {\n",
              "        vertical-align: top;\n",
              "    }\n",
              "\n",
              "    .dataframe thead th {\n",
              "        text-align: right;\n",
              "    }\n",
              "</style>\n",
              "<table border=\"1\" class=\"dataframe\">\n",
              "  <thead>\n",
              "    <tr style=\"text-align: right;\">\n",
              "      <th></th>\n",
              "      <th></th>\n",
              "      <th>count</th>\n",
              "      <th>mean</th>\n",
              "      <th>std</th>\n",
              "      <th>min</th>\n",
              "      <th>25%</th>\n",
              "      <th>50%</th>\n",
              "      <th>75%</th>\n",
              "      <th>max</th>\n",
              "    </tr>\n",
              "    <tr>\n",
              "      <th></th>\n",
              "      <th>Sex</th>\n",
              "      <th></th>\n",
              "      <th></th>\n",
              "      <th></th>\n",
              "      <th></th>\n",
              "      <th></th>\n",
              "      <th></th>\n",
              "      <th></th>\n",
              "      <th></th>\n",
              "    </tr>\n",
              "  </thead>\n",
              "  <tbody>\n",
              "    <tr>\n",
              "      <th rowspan=\"2\" valign=\"top\">1st</th>\n",
              "      <th>female</th>\n",
              "      <td>133.0</td>\n",
              "      <td>37.037594</td>\n",
              "      <td>14.272460</td>\n",
              "      <td>2.00</td>\n",
              "      <td>24.0</td>\n",
              "      <td>36.0</td>\n",
              "      <td>48.00</td>\n",
              "      <td>76.0</td>\n",
              "    </tr>\n",
              "    <tr>\n",
              "      <th>male</th>\n",
              "      <td>151.0</td>\n",
              "      <td>40.817351</td>\n",
              "      <td>14.236835</td>\n",
              "      <td>0.92</td>\n",
              "      <td>30.0</td>\n",
              "      <td>42.0</td>\n",
              "      <td>50.00</td>\n",
              "      <td>71.0</td>\n",
              "    </tr>\n",
              "    <tr>\n",
              "      <th rowspan=\"2\" valign=\"top\">2nd</th>\n",
              "      <th>female</th>\n",
              "      <td>103.0</td>\n",
              "      <td>27.499223</td>\n",
              "      <td>12.911747</td>\n",
              "      <td>0.92</td>\n",
              "      <td>20.0</td>\n",
              "      <td>28.0</td>\n",
              "      <td>34.00</td>\n",
              "      <td>60.0</td>\n",
              "    </tr>\n",
              "    <tr>\n",
              "      <th>male</th>\n",
              "      <td>158.0</td>\n",
              "      <td>30.815380</td>\n",
              "      <td>13.977400</td>\n",
              "      <td>0.67</td>\n",
              "      <td>23.0</td>\n",
              "      <td>29.5</td>\n",
              "      <td>38.75</td>\n",
              "      <td>70.0</td>\n",
              "    </tr>\n",
              "    <tr>\n",
              "      <th rowspan=\"2\" valign=\"top\">3rd</th>\n",
              "      <th>female</th>\n",
              "      <td>152.0</td>\n",
              "      <td>22.185329</td>\n",
              "      <td>12.205254</td>\n",
              "      <td>0.17</td>\n",
              "      <td>16.0</td>\n",
              "      <td>22.0</td>\n",
              "      <td>30.00</td>\n",
              "      <td>63.0</td>\n",
              "    </tr>\n",
              "    <tr>\n",
              "      <th>male</th>\n",
              "      <td>349.0</td>\n",
              "      <td>25.962264</td>\n",
              "      <td>11.682415</td>\n",
              "      <td>0.33</td>\n",
              "      <td>20.0</td>\n",
              "      <td>25.0</td>\n",
              "      <td>32.00</td>\n",
              "      <td>74.0</td>\n",
              "    </tr>\n",
              "  </tbody>\n",
              "</table>\n",
              "</div>"
            ],
            "text/plain": [
              "            count       mean        std   min   25%   50%    75%   max\n",
              "    Sex                                                               \n",
              "1st female  133.0  37.037594  14.272460  2.00  24.0  36.0  48.00  76.0\n",
              "    male    151.0  40.817351  14.236835  0.92  30.0  42.0  50.00  71.0\n",
              "2nd female  103.0  27.499223  12.911747  0.92  20.0  28.0  34.00  60.0\n",
              "    male    158.0  30.815380  13.977400  0.67  23.0  29.5  38.75  70.0\n",
              "3rd female  152.0  22.185329  12.205254  0.17  16.0  22.0  30.00  63.0\n",
              "    male    349.0  25.962264  11.682415  0.33  20.0  25.0  32.00  74.0"
            ]
          },
          "metadata": {
            "tags": []
          },
          "execution_count": 68
        }
      ]
    },
    {
      "cell_type": "markdown",
      "metadata": {
        "id": "bqk4Gu4w5jmJ"
      },
      "source": [
        "In each class, the average age of females is slightly less than average age of males."
      ]
    },
    {
      "cell_type": "markdown",
      "metadata": {
        "papermill": {
          "duration": 0.10679,
          "end_time": "2020-11-08T23:00:47.450291",
          "exception": false,
          "start_time": "2020-11-08T23:00:47.343501",
          "status": "completed"
        },
        "tags": [],
        "id": "f-vlTTMI5jmK"
      },
      "source": [
        "## 6.3 What is in the name? \n",
        "Each passenger Name value contains the title of the passenger which we can extract and discover.  \n",
        "To create new variable \"Title\":  \n",
        "1. I am using method 'split' by comma to divide Name in two parts and save the second part\n",
        "2. I am splitting saved part by dot and save first part of the result\n",
        "3. To remove spaces around the title I am using 'split' method\n",
        "\n",
        "To visualize, how many passengers hold each title, I chose countplot."
      ]
    },
    {
      "cell_type": "code",
      "metadata": {
        "id": "s3J-LgY-5jmK",
        "outputId": "8a8dfbf8-0602-4215-f7c6-1a894117aca4"
      },
      "source": [
        "all_data['Name'][1].iloc[0]"
      ],
      "execution_count": null,
      "outputs": [
        {
          "output_type": "execute_result",
          "data": {
            "text/plain": [
              "'Cumings, Mrs. John Bradley (Florence Briggs Thayer)'"
            ]
          },
          "metadata": {
            "tags": []
          },
          "execution_count": 82
        }
      ]
    },
    {
      "cell_type": "code",
      "metadata": {
        "id": "l_-Yr6jb5jmK",
        "outputId": "c3137a7d-c935-46b5-8ac9-f0faa1a79cb9"
      },
      "source": [
        "x = all_data['Name'][1].iloc[0].split(',')\n",
        "x"
      ],
      "execution_count": null,
      "outputs": [
        {
          "output_type": "execute_result",
          "data": {
            "text/plain": [
              "['Cumings', ' Mrs. John Bradley (Florence Briggs Thayer)']"
            ]
          },
          "metadata": {
            "tags": []
          },
          "execution_count": 88
        }
      ]
    },
    {
      "cell_type": "code",
      "metadata": {
        "id": "Al4ldgz_5jmL",
        "outputId": "0c883bfe-6d95-4312-95df-dc167521ebac"
      },
      "source": [
        "x1 = x[1].split('.')\n",
        "x1"
      ],
      "execution_count": null,
      "outputs": [
        {
          "output_type": "execute_result",
          "data": {
            "text/plain": [
              "[' Mrs', ' John Bradley (Florence Briggs Thayer)']"
            ]
          },
          "metadata": {
            "tags": []
          },
          "execution_count": 91
        }
      ]
    },
    {
      "cell_type": "code",
      "metadata": {
        "id": "LZpnlW8L5jmL",
        "outputId": "81b5e01f-21cc-43d0-ba32-31722087c885"
      },
      "source": [
        "x2 = x1[0].strip(\" \")\n",
        "x2"
      ],
      "execution_count": null,
      "outputs": [
        {
          "output_type": "execute_result",
          "data": {
            "text/plain": [
              "'Mrs'"
            ]
          },
          "metadata": {
            "tags": []
          },
          "execution_count": 93
        }
      ]
    },
    {
      "cell_type": "code",
      "metadata": {
        "id": "Kz93Y7Rw5jmL",
        "outputId": "6e6f88c4-ebac-42c6-c7d7-c26a58e5fb0f"
      },
      "source": [
        "all_data['Title'] = all_data['Name'].str.split(',', expand = True)[1].str.split('.', expand = True)[0].str.strip(' ')\n",
        "all_data['Title'].value_counts()"
      ],
      "execution_count": null,
      "outputs": [
        {
          "output_type": "execute_result",
          "data": {
            "text/plain": [
              "Mr              757\n",
              "Miss            260\n",
              "Mrs             197\n",
              "Master           61\n",
              "Dr                8\n",
              "Rev               8\n",
              "Col               4\n",
              "Ms                2\n",
              "Major             2\n",
              "Mlle              2\n",
              "Sir               1\n",
              "Don               1\n",
              "Capt              1\n",
              "Dona              1\n",
              "Lady              1\n",
              "Jonkheer          1\n",
              "Mme               1\n",
              "the Countess      1\n",
              "Name: Title, dtype: int64"
            ]
          },
          "metadata": {
            "tags": []
          },
          "execution_count": 94
        }
      ]
    },
    {
      "cell_type": "code",
      "metadata": {
        "id": "2usedn_u5jmM",
        "outputId": "e8718c00-3b0c-456a-c215-5c63f089a726"
      },
      "source": [
        "type(all_data['Title'].value_counts())"
      ],
      "execution_count": null,
      "outputs": [
        {
          "output_type": "execute_result",
          "data": {
            "text/plain": [
              "pandas.core.series.Series"
            ]
          },
          "metadata": {
            "tags": []
          },
          "execution_count": 96
        }
      ]
    },
    {
      "cell_type": "code",
      "metadata": {
        "id": "9INvoisg5jmM",
        "outputId": "e90af0d0-7d32-4cce-8ee0-f36130959a00"
      },
      "source": [
        "s = all_data['Title'].value_counts()\n",
        "s"
      ],
      "execution_count": null,
      "outputs": [
        {
          "output_type": "execute_result",
          "data": {
            "text/plain": [
              "Mr              757\n",
              "Miss            260\n",
              "Mrs             197\n",
              "Master           61\n",
              "Dr                8\n",
              "Rev               8\n",
              "Col               4\n",
              "Ms                2\n",
              "Major             2\n",
              "Mlle              2\n",
              "Sir               1\n",
              "Don               1\n",
              "Capt              1\n",
              "Dona              1\n",
              "Lady              1\n",
              "Jonkheer          1\n",
              "Mme               1\n",
              "the Countess      1\n",
              "Name: Title, dtype: int64"
            ]
          },
          "metadata": {
            "tags": []
          },
          "execution_count": 97
        }
      ]
    },
    {
      "cell_type": "code",
      "metadata": {
        "id": "zh81bKjB5jmM",
        "outputId": "73807fe9-d568-4541-aac7-7ccd3dfd87c5"
      },
      "source": [
        "s = s[:-5]\n",
        "s"
      ],
      "execution_count": null,
      "outputs": [
        {
          "output_type": "execute_result",
          "data": {
            "text/plain": [
              "Mr        757\n",
              "Miss      260\n",
              "Mrs       197\n",
              "Master     61\n",
              "Dr          8\n",
              "Rev         8\n",
              "Col         4\n",
              "Ms          2\n",
              "Major       2\n",
              "Mlle        2\n",
              "Sir         1\n",
              "Don         1\n",
              "Capt        1\n",
              "Name: Title, dtype: int64"
            ]
          },
          "metadata": {
            "tags": []
          },
          "execution_count": 100
        }
      ]
    },
    {
      "cell_type": "code",
      "metadata": {
        "id": "xtUsGw9N5jmN"
      },
      "source": [
        "s = s.drop('Mlle')"
      ],
      "execution_count": null,
      "outputs": []
    },
    {
      "cell_type": "code",
      "metadata": {
        "id": "BALrXD7Q5jmN",
        "outputId": "66591d5b-486d-42de-b265-69e1070de555"
      },
      "source": [
        "s.index"
      ],
      "execution_count": null,
      "outputs": [
        {
          "output_type": "execute_result",
          "data": {
            "text/plain": [
              "Index(['Mr', 'Miss', 'Mrs', 'Master', 'Dr', 'Rev', 'Col', 'Ms', 'Major', 'Sir',\n",
              "       'Don', 'Capt'],\n",
              "      dtype='object')"
            ]
          },
          "metadata": {
            "tags": []
          },
          "execution_count": 116
        }
      ]
    },
    {
      "cell_type": "code",
      "metadata": {
        "_kg_hide-input": true,
        "execution": {
          "iopub.execute_input": "2020-11-08T23:00:47.718852Z",
          "iopub.status.busy": "2020-11-08T23:00:47.699242Z",
          "iopub.status.idle": "2020-11-08T23:00:48.005112Z",
          "shell.execute_reply": "2020-11-08T23:00:48.004450Z"
        },
        "papermill": {
          "duration": 0.449311,
          "end_time": "2020-11-08T23:00:48.005246",
          "exception": false,
          "start_time": "2020-11-08T23:00:47.555935",
          "status": "completed"
        },
        "tags": [],
        "id": "eUpyBGVk5jmN",
        "outputId": "5f1daa78-b6dc-4fa3-8a88-f24418656215"
      },
      "source": [
        "# all_data['Title'] = all_data['Name'].str.split(',', expand = True)[1].str.split('.', expand = True)[0].str.strip(' ')\n",
        "\n",
        "plt.figure(figsize=(6, 5))\n",
        "ax = sns.countplot( x = 'Title', data = all_data, palette = \"hls\", order = s.index)\n",
        "_ = plt.xticks(\n",
        "    rotation=45, \n",
        "    horizontalalignment='right',\n",
        "    fontweight='light'  \n",
        ")\n",
        "\n",
        "plt.title('Passengers distribution by titles',fontsize= 14)\n",
        "plt.ylabel('Number of passengers')\n",
        "\n",
        "# calculate passengers for each category\n",
        "labels = (s)\n",
        "# add result numbers on barchart\n",
        "for i, v in enumerate(labels):\n",
        "    ax.text(i, v+10, str(v), horizontalalignment = 'center', size = 10, color = 'black')\n",
        "    \n",
        "\n",
        "plt.tight_layout()\n",
        "plt.show();"
      ],
      "execution_count": null,
      "outputs": [
        {
          "output_type": "display_data",
          "data": {
            "image/png": "[encoded data removed]",
            "text/plain": [
              "<Figure size 432x360 with 1 Axes>"
            ]
          },
          "metadata": {
            "tags": [],
            "needs_background": "light"
          }
        }
      ]
    },
    {
      "cell_type": "markdown",
      "metadata": {
        "papermill": {
          "duration": 0.110613,
          "end_time": "2020-11-08T23:00:48.227087",
          "exception": false,
          "start_time": "2020-11-08T23:00:48.116474",
          "status": "completed"
        },
        "tags": [],
        "id": "UmO3SAEW5jmO"
      },
      "source": [
        "The most frequent title among passangers is Mister (Mr.) - general title or respect of an adult male. The second title by its frequency is Miss (unmarried woman), the third - Mrs. (married woman).  \n",
        "Other titles are less frequent, I will discover if I can combine them into particular groups. I am going to use titles as a fiture, but if they split the data too much, leaving just a few observations in each group, it can lead to overfitting. And for a general understanding of the data, it will be more convenient to put titles in clearer groups.\n",
        "\n",
        "* Master -  By the late 19th century, etiquette dictated that men be addressed as Mister, and boys as Master.\n",
        "* Mme -  Madame. a French title of respect equivalent to “Mrs.”, used alone or prefixed to a woman's married name or title. I will add to \"Mrs\".\n",
        "* Mlle - Mademoiselle is a French courtesy title, abbreviated Mlle, traditionally given to an unmarried woman. The equivalent in English is \"Miss\". I will add to \"Miss\" group.\n",
        "* Dr. - Doctor is an academic title\n",
        "* Rev. - Reverend, is usually a courtesy title for Protestant Christian ministers or pastors.\n",
        "\n",
        "\"Military\" group of titles:\n",
        "* Capt. -Captain is a title for the commander of a military unit\n",
        "* Major is a military rank of commissioned officer status\n",
        "* Col. - The honorary title of Colonel is conferred by several states in the US and certain military units of the Commonwealth of Nations\n",
        "\n",
        "\"Honor\"  group of titles:\n",
        "* Sir -  is a formal English honorific address for men. Sir is used for men titled knights i.e. of orders of chivalry, and later also to baronets, and other offices. \n",
        "* the Countess - is a historical title of nobility\n",
        "* Lady - a formal title in the United Kingdom. A woman with a title of nobility or honorary \n",
        "* Jonkheer - is an honorific in the Low Countries denoting the lowest rank within the nobility. \n",
        "* Don - is an honorific prefix primarily used in Spain and the former Spanish Empire, Italy, Portugal, the Philippines, Latin America, Croatia, and Goa. (male)\n",
        "* Dona - Feminine form for don (honorific) a Spanish, Portuguese, southern Italian, and Filipino title, given as a mark of respect\n",
        "\n",
        "\n",
        "Not sure about the title Ms,we have only 2 passengers with this title, I will convert it to Miss.\n",
        "\n",
        "I created a dictionary of titles and I am using method \"map\" to create variable \"Title_category\"."
      ]
    },
    {
      "cell_type": "code",
      "metadata": {
        "_kg_hide-input": true,
        "execution": {
          "iopub.execute_input": "2020-11-08T23:00:48.467549Z",
          "iopub.status.busy": "2020-11-08T23:00:48.453327Z",
          "iopub.status.idle": "2020-11-08T23:00:48.473306Z",
          "shell.execute_reply": "2020-11-08T23:00:48.472273Z"
        },
        "papermill": {
          "duration": 0.135163,
          "end_time": "2020-11-08T23:00:48.473438",
          "exception": false,
          "start_time": "2020-11-08T23:00:48.338275",
          "status": "completed"
        },
        "tags": [],
        "id": "ny1fA6VI5jmO",
        "outputId": "f76e65d6-9178-4b7a-bb4c-0c14673983f7"
      },
      "source": [
        "all_data[all_data['Title']=='Ms']"
      ],
      "execution_count": null,
      "outputs": [
        {
          "output_type": "execute_result",
          "data": {
            "text/html": [
              "<div>\n",
              "<style scoped>\n",
              "    .dataframe tbody tr th:only-of-type {\n",
              "        vertical-align: middle;\n",
              "    }\n",
              "\n",
              "    .dataframe tbody tr th {\n",
              "        vertical-align: top;\n",
              "    }\n",
              "\n",
              "    .dataframe thead th {\n",
              "        text-align: right;\n",
              "    }\n",
              "</style>\n",
              "<table border=\"1\" class=\"dataframe\">\n",
              "  <thead>\n",
              "    <tr style=\"text-align: right;\">\n",
              "      <th></th>\n",
              "      <th>PassengerId</th>\n",
              "      <th>Survived</th>\n",
              "      <th>Pclass</th>\n",
              "      <th>Name</th>\n",
              "      <th>Sex</th>\n",
              "      <th>Age</th>\n",
              "      <th>SibSp</th>\n",
              "      <th>Parch</th>\n",
              "      <th>Ticket</th>\n",
              "      <th>Fare</th>\n",
              "      <th>Cabin</th>\n",
              "      <th>Embarked</th>\n",
              "      <th>Title</th>\n",
              "    </tr>\n",
              "  </thead>\n",
              "  <tbody>\n",
              "    <tr>\n",
              "      <th>443</th>\n",
              "      <td>444</td>\n",
              "      <td>1.0</td>\n",
              "      <td>2</td>\n",
              "      <td>Reynaldo, Ms. Encarnacion</td>\n",
              "      <td>female</td>\n",
              "      <td>28.0</td>\n",
              "      <td>0</td>\n",
              "      <td>0</td>\n",
              "      <td>230434</td>\n",
              "      <td>13.00</td>\n",
              "      <td>NaN</td>\n",
              "      <td>S</td>\n",
              "      <td>Ms</td>\n",
              "    </tr>\n",
              "    <tr>\n",
              "      <th>88</th>\n",
              "      <td>980</td>\n",
              "      <td>NaN</td>\n",
              "      <td>3</td>\n",
              "      <td>O'Donoghue, Ms. Bridget</td>\n",
              "      <td>female</td>\n",
              "      <td>NaN</td>\n",
              "      <td>0</td>\n",
              "      <td>0</td>\n",
              "      <td>364856</td>\n",
              "      <td>7.75</td>\n",
              "      <td>NaN</td>\n",
              "      <td>Q</td>\n",
              "      <td>Ms</td>\n",
              "    </tr>\n",
              "  </tbody>\n",
              "</table>\n",
              "</div>"
            ],
            "text/plain": [
              "     PassengerId  Survived  Pclass                       Name     Sex   Age  \\\n",
              "443          444       1.0       2  Reynaldo, Ms. Encarnacion  female  28.0   \n",
              "88           980       NaN       3    O'Donoghue, Ms. Bridget  female   NaN   \n",
              "\n",
              "     SibSp  Parch  Ticket   Fare Cabin Embarked Title  \n",
              "443      0      0  230434  13.00   NaN        S    Ms  \n",
              "88       0      0  364856   7.75   NaN        Q    Ms  "
            ]
          },
          "metadata": {
            "tags": []
          },
          "execution_count": 118
        }
      ]
    },
    {
      "cell_type": "code",
      "metadata": {
        "_kg_hide-input": true,
        "execution": {
          "iopub.execute_input": "2020-11-08T23:00:48.702185Z",
          "iopub.status.busy": "2020-11-08T23:00:48.701123Z",
          "iopub.status.idle": "2020-11-08T23:00:48.704019Z",
          "shell.execute_reply": "2020-11-08T23:00:48.704742Z"
        },
        "papermill": {
          "duration": 0.123976,
          "end_time": "2020-11-08T23:00:48.704899",
          "exception": false,
          "start_time": "2020-11-08T23:00:48.580923",
          "status": "completed"
        },
        "tags": [],
        "id": "6hJuaazg5jmP"
      },
      "source": [
        "title_dict = {  'Mr':     'Mr',\n",
        "                'Mrs':    'Mrs',\n",
        "                'Miss':   'Miss',\n",
        "                'Master': 'Master',\n",
        "              \n",
        "                'Ms':     'Miss',\n",
        "                'Mme':    'Mrs',\n",
        "                'Mlle':   'Miss',\n",
        "\n",
        "                'Capt':   'military',\n",
        "                'Col':    'military',\n",
        "                'Major':  'military',\n",
        "\n",
        "                'Dr':     'Dr',\n",
        "                'Rev':    'Rev',\n",
        "                  \n",
        "                'Sir':    'honor',\n",
        "                'the Countess': 'honor',\n",
        "                'Lady':   'honor',\n",
        "                'Jonkheer': 'honor',\n",
        "                'Don':    'honor',\n",
        "                'Dona':   'honor' }\n",
        "\n",
        "# map titles to category\n",
        "all_data['Title_category'] = all_data['Title'].map(title_dict)"
      ],
      "execution_count": null,
      "outputs": []
    },
    {
      "cell_type": "code",
      "metadata": {
        "_kg_hide-input": true,
        "execution": {
          "iopub.execute_input": "2020-11-08T23:00:48.948212Z",
          "iopub.status.busy": "2020-11-08T23:00:48.936816Z",
          "iopub.status.idle": "2020-11-08T23:00:49.425670Z",
          "shell.execute_reply": "2020-11-08T23:00:49.424822Z"
        },
        "papermill": {
          "duration": 0.613763,
          "end_time": "2020-11-08T23:00:49.425804",
          "exception": false,
          "start_time": "2020-11-08T23:00:48.812041",
          "status": "completed"
        },
        "tags": [],
        "id": "UowJbNFP5jmP",
        "outputId": "6d256b0d-7fd8-491f-84d6-27e476ee27e2"
      },
      "source": [
        "fig = plt.figure(figsize=(12, 5))\n",
        "\n",
        "\n",
        "ax1 = fig.add_subplot(121)\n",
        "ax = sns.countplot(x = 'Title_category', data = all_data, palette = \"hls\", order = \n",
        "                   all_data['Title_category'].value_counts().index)\n",
        "_ = plt.xticks(\n",
        "    rotation=45, \n",
        "    horizontalalignment='right',\n",
        "    fontweight='light'  \n",
        ")\n",
        "plt.title('Passengers distribution by titles',fontsize= 12)\n",
        "plt.ylabel('Number of passengers')\n",
        "\n",
        "# calculate passengers for each category\n",
        "labels = (all_data['Title_category'].value_counts())\n",
        "# add result numbers on barchart\n",
        "for i, v in enumerate(labels):\n",
        "    ax.text(i, v+10, str(v), horizontalalignment = 'center', size = 10, color = 'black')\n",
        "    \n",
        "\n",
        "plt.tight_layout()\n",
        "\n",
        "ax2 = fig.add_subplot(122)\n",
        "surv_by_title_cat = all_data.groupby('Title_category')['Survived'].value_counts(normalize = True).unstack()\n",
        "surv_by_title_cat = surv_by_title_cat.sort_values(by=1, ascending = False)\n",
        "surv_by_title_cat.plot(kind='bar', stacked='True', color=[\"#3f3e6fd1\", \"#85c6a9\"], ax = ax2)\n",
        "\n",
        "plt.legend( ( 'Drowned', 'Survived'), loc=(1.04,0))\n",
        "_ = plt.xticks(\n",
        "    rotation=45, \n",
        "    horizontalalignment='right',\n",
        "    fontweight='light'  \n",
        ")\n",
        "\n",
        "\n",
        "plt.title('Proportion of survived/drowned by titles (train data)',fontsize= 12)\n",
        "\n",
        "plt.tight_layout()\n",
        "plt.show()"
      ],
      "execution_count": null,
      "outputs": [
        {
          "output_type": "display_data",
          "data": {
            "image/png": "[encoded data removed]",
            "text/plain": [
              "<Figure size 864x360 with 2 Axes>"
            ]
          },
          "metadata": {
            "tags": [],
            "needs_background": "light"
          }
        }
      ]
    },
    {
      "cell_type": "code",
      "metadata": {
        "_kg_hide-input": true,
        "execution": {
          "iopub.execute_input": "2020-11-08T23:00:49.896156Z",
          "iopub.status.busy": "2020-11-08T23:00:49.890384Z",
          "iopub.status.idle": "2020-11-08T23:00:50.293269Z",
          "shell.execute_reply": "2020-11-08T23:00:50.292346Z"
        },
        "papermill": {
          "duration": 0.534633,
          "end_time": "2020-11-08T23:00:50.293489",
          "exception": false,
          "start_time": "2020-11-08T23:00:49.758856",
          "status": "completed"
        },
        "tags": [],
        "id": "Ovu4HaIz5jmP"
      },
      "source": [
        "# Your code goes here23\n",
        "\n"
      ],
      "execution_count": null,
      "outputs": []
    },
    {
      "cell_type": "code",
      "metadata": {
        "_kg_hide-input": true,
        "execution": {
          "iopub.execute_input": "2020-11-08T23:00:50.755222Z",
          "iopub.status.busy": "2020-11-08T23:00:50.754298Z",
          "iopub.status.idle": "2020-11-08T23:00:51.017194Z",
          "shell.execute_reply": "2020-11-08T23:00:51.017991Z"
        },
        "papermill": {
          "duration": 0.393172,
          "end_time": "2020-11-08T23:00:51.018230",
          "exception": false,
          "start_time": "2020-11-08T23:00:50.625058",
          "status": "completed"
        },
        "tags": [],
        "id": "8qyhaUvZ5jmQ"
      },
      "source": [
        "class_by_title_cat = all_data.groupby('Title_category')['Pclass'].value_counts(normalize = True)\n",
        "class_by_title_cat = class_by_title_cat.unstack().sort_values(by = 1, ascending = False)\n",
        "class_by_title_cat.plot(kind='bar', stacked='True', color = ['#eed4d0', '#cda0aa', '#a2708e'])\n",
        "plt.legend(loc=(1.04,0))\n",
        "_ = plt.xticks(\n",
        "    rotation = 45, \n",
        "    horizontalalignment = 'right',\n",
        "    fontweight = 'light'  \n",
        ")\n",
        "\n",
        "\n",
        "plt.title('Proportion of 1st/2nd/3rd ticket class in each title category',fontsize= 14)\n",
        "plt.xlabel('Category of the Title')\n",
        "plt.tight_layout()"
      ],
      "execution_count": null,
      "outputs": []
    },
    {
      "cell_type": "markdown",
      "metadata": {
        "papermill": {
          "duration": 0.114141,
          "end_time": "2020-11-08T23:00:51.495071",
          "exception": false,
          "start_time": "2020-11-08T23:00:51.380930",
          "status": "completed"
        },
        "tags": [],
        "id": "jXubw2N95jmQ"
      },
      "source": [
        "## 6.4 Cabin\n",
        "![Titanic_cutaway_diagram-small.png](attachment:Titanic_cutaway_diagram-small.png)\n",
        "\n",
        "From the number of the cabin we can extract first letter, which will tell us about placement of the cabin on the ship! And it seems to me as a very important knowlege:   \n",
        "* How close cabin located to the lifeboats\n",
        "* How far from the most damaged parts of the ship\n",
        "* How close to people who have information about what is happening and how to act\n",
        "* How many obstacles passenger had in the way to the lifeboat\n",
        "\n",
        "I found some description of each Titanic deck:\n",
        "\n",
        "There were 8 decks: the upperdeck - for lifeboats, other 7 were under it and had letter symbols:\n",
        "* **A**: it did not run the entire length of the vessel (i.e. it did not reach from the stern to the bow of the vessel), and was intended for passengers of the **1st class**.\n",
        "* **B**: it did not run the entire length of the ship (it was interrupted by 37 meters above the C deck, and served as a place for anchors in the front).\n",
        "* **C**: in the front part of the galley, dining room for the crew, as well as a walking area for passengers of the 3rd class.\n",
        "* **D**: a walking area for passengers .\n",
        "* **E**: cabins of the **1st and 2nd class**.\n",
        "* **F**: part of the passenger cabins of the **2nd class**, most of the cabins of the **3rd class**.\n",
        "* **G**: did not run the entire length of the ship, the boiler rooms were located in the center.\n",
        "* **T** - boat deck ?\n",
        "\n",
        "To the passengers without deck information I will imput U letter (as unknown)."
      ]
    },
    {
      "cell_type": "code",
      "metadata": {
        "_kg_hide-input": true,
        "execution": {
          "iopub.execute_input": "2020-11-08T23:00:51.744130Z",
          "iopub.status.busy": "2020-11-08T23:00:51.743118Z",
          "iopub.status.idle": "2020-11-08T23:00:51.748368Z",
          "shell.execute_reply": "2020-11-08T23:00:51.747427Z"
        },
        "papermill": {
          "duration": 0.139522,
          "end_time": "2020-11-08T23:00:51.748602",
          "exception": false,
          "start_time": "2020-11-08T23:00:51.609080",
          "status": "completed"
        },
        "tags": [],
        "id": "f6-HH0Pm5jmQ"
      },
      "source": [
        "all_data['deck'] = all_data['Cabin'].str.split('', expand = True)[1]\n",
        "all_data.loc[all_data['deck'].isna(), 'deck'] = 'U'\n",
        "print('Unique deck letters from the cabin numbers:', all_data['deck'].unique())"
      ],
      "execution_count": null,
      "outputs": []
    },
    {
      "cell_type": "code",
      "metadata": {
        "_kg_hide-input": true,
        "execution": {
          "iopub.execute_input": "2020-11-08T23:00:51.994748Z",
          "iopub.status.busy": "2020-11-08T23:00:51.989374Z",
          "iopub.status.idle": "2020-11-08T23:00:52.967165Z",
          "shell.execute_reply": "2020-11-08T23:00:52.966449Z"
        },
        "papermill": {
          "duration": 1.100833,
          "end_time": "2020-11-08T23:00:52.967303",
          "exception": false,
          "start_time": "2020-11-08T23:00:51.866470",
          "status": "completed"
        },
        "tags": [],
        "id": "C6pLzSMo5jmQ"
      },
      "source": [
        "fig = plt.figure(figsize=(20, 5))\n",
        "\n",
        "ax1 = fig.add_subplot(131)\n",
        "sns.countplot(x = 'deck', data = all_data, palette = \"hls\", order = all_data['deck'].value_counts().index, ax = ax1)\n",
        "plt.title('Passengers distribution by deck',fontsize= 16)\n",
        "plt.ylabel('Number of passengers')\n",
        "\n",
        "ax2 = fig.add_subplot(132)\n",
        "deck_by_class = all_data.groupby('deck')['Pclass'].value_counts(normalize = True).unstack()\n",
        "deck_by_class.plot(kind='bar', stacked='True',color = ['#eed4d0', '#cda0aa', '#a2708e'], ax = ax2)\n",
        "plt.legend(('1st class', '2nd class', '3rd class'), loc=(1.04,0))\n",
        "plt.title('Proportion of classes on each deck',fontsize= 16)\n",
        "plt.xticks(rotation = False)\n",
        "\n",
        "ax3 = fig.add_subplot(133)\n",
        "deck_by_survived = all_data.groupby('deck')['Survived'].value_counts(normalize = True).unstack()\n",
        "deck_by_survived = deck_by_survived.sort_values(by = 1, ascending = False)\n",
        "deck_by_survived.plot(kind='bar', stacked='True', color=[\"#3f3e6fd1\", \"#85c6a9\"], ax = ax3)\n",
        "plt.title('Proportion of survived/drowned passengers by deck',fontsize= 16)\n",
        "plt.legend(( 'Drowned', 'Survived'), loc=(1.04,0))\n",
        "plt.xticks(rotation = False)\n",
        "plt.tight_layout()\n",
        "\n",
        "plt.show()\n"
      ],
      "execution_count": null,
      "outputs": []
    },
    {
      "cell_type": "code",
      "metadata": {
        "_kg_hide-input": true,
        "execution": {
          "iopub.execute_input": "2020-11-08T23:00:53.472546Z",
          "iopub.status.busy": "2020-11-08T23:00:53.471503Z",
          "iopub.status.idle": "2020-11-08T23:00:53.476698Z",
          "shell.execute_reply": "2020-11-08T23:00:53.476041Z"
        },
        "papermill": {
          "duration": 0.14925,
          "end_time": "2020-11-08T23:00:53.476838",
          "exception": false,
          "start_time": "2020-11-08T23:00:53.327588",
          "status": "completed"
        },
        "tags": [],
        "id": "TT3-N6Wo5jmR"
      },
      "source": [
        "all_data[(all_data['deck']=='A') & (all_data['Survived']==0)]"
      ],
      "execution_count": null,
      "outputs": []
    },
    {
      "cell_type": "markdown",
      "metadata": {
        "papermill": {
          "duration": 0.116082,
          "end_time": "2020-11-08T23:00:53.711101",
          "exception": false,
          "start_time": "2020-11-08T23:00:53.595019",
          "status": "completed"
        },
        "tags": [],
        "id": "QlHlPhks5jmR"
      },
      "source": [
        "I was curious, so I read a bit about some of these passengers:  \n",
        "[John Hugo Ross](https://www.encyclopedia-titanica.org/titanic-victim/john-hugo-ross.html) When he boarded on 10 April 1912, he was so ill from dysentery he had to be carried to his cabin on a stretcher. When Ross was told the ship had struck an iceberg and that he should get dressed, Ross refused to believe the trouble serious. \"Is that all,?\" he told Peuchen. \"It will take more than an iceberg to get me off this ship.\" Presumably, Ross drowned in his bed.  \n",
        "\n",
        "[Andrews, Mr. Thomas Jr](https://en.wikipedia.org/wiki/Thomas_Andrews) was a managing director of H&W (built the Titanic) in charge of designing and was familiar with every detail of the construction of the firm's ships. He helped to evacuate people.\n",
        "\n",
        "[Roebling, Mr. Washington Augustus II ](https://www.encyclopedia-titanica.org/titanic-victim/washington-roebling.html) helped to evacuate people as well.\n",
        "\n",
        "It is obvious that there is no algorithm that can predict the survival rate by 100 percent based on the factors of the passenger's location on the ship or his age, since the human factor and the unpredicted emergensy were involved in the rescue process.\n",
        "\n",
        "For training process it will be better to include passenger from T deck to the A deck group."
      ]
    },
    {
      "cell_type": "markdown",
      "metadata": {
        "papermill": {
          "duration": 0.118615,
          "end_time": "2020-11-08T23:00:53.946534",
          "exception": false,
          "start_time": "2020-11-08T23:00:53.827919",
          "status": "completed"
        },
        "tags": [],
        "id": "fQemDFet5jmR"
      },
      "source": [
        "## 6.5 Family\n",
        "Does the size of the family on Board together affect the chances of surviving a disaster? Does having children increase the chance of getting into a boat, or is it easier to survive being single?  \n",
        "I calculate the family size, by summarizing the number of siblings with the parch number  plus 1 (passenger himself).  \n",
        "Family size = sib + parch + 1\n",
        "\n",
        "### 6.5.1 Calculate family size"
      ]
    },
    {
      "cell_type": "code",
      "metadata": {
        "_kg_hide-input": true,
        "execution": {
          "iopub.execute_input": "2020-11-08T23:00:54.195509Z",
          "iopub.status.busy": "2020-11-08T23:00:54.194332Z",
          "iopub.status.idle": "2020-11-08T23:00:54.198063Z",
          "shell.execute_reply": "2020-11-08T23:00:54.198702Z"
        },
        "papermill": {
          "duration": 0.131978,
          "end_time": "2020-11-08T23:00:54.198877",
          "exception": false,
          "start_time": "2020-11-08T23:00:54.066899",
          "status": "completed"
        },
        "tags": [],
        "id": "GQhLp3ov5jmR"
      },
      "source": [
        "# Your code goes here28\n",
        "\n"
      ],
      "execution_count": null,
      "outputs": []
    },
    {
      "cell_type": "code",
      "metadata": {
        "_kg_hide-input": true,
        "execution": {
          "iopub.execute_input": "2020-11-08T23:00:54.688283Z",
          "iopub.status.busy": "2020-11-08T23:00:54.687407Z",
          "iopub.status.idle": "2020-11-08T23:00:54.691890Z",
          "shell.execute_reply": "2020-11-08T23:00:54.691120Z"
        },
        "papermill": {
          "duration": 0.134115,
          "end_time": "2020-11-08T23:00:54.692034",
          "exception": false,
          "start_time": "2020-11-08T23:00:54.557919",
          "status": "completed"
        },
        "tags": [],
        "id": "iARxI6c25jmT"
      },
      "source": [
        "# Your code goes here29\n",
        "\n"
      ],
      "execution_count": null,
      "outputs": []
    },
    {
      "cell_type": "code",
      "metadata": {
        "_kg_hide-input": true,
        "execution": {
          "iopub.execute_input": "2020-11-08T23:00:55.183690Z",
          "iopub.status.busy": "2020-11-08T23:00:55.182739Z",
          "iopub.status.idle": "2020-11-08T23:00:55.188299Z",
          "shell.execute_reply": "2020-11-08T23:00:55.187655Z"
        },
        "papermill": {
          "duration": 0.139143,
          "end_time": "2020-11-08T23:00:55.188426",
          "exception": false,
          "start_time": "2020-11-08T23:00:55.049283",
          "status": "completed"
        },
        "tags": [],
        "id": "JDywu86J5jmU"
      },
      "source": [
        "# Your code goes here30\n",
        "\n"
      ],
      "execution_count": null,
      "outputs": []
    },
    {
      "cell_type": "code",
      "metadata": {
        "_kg_hide-input": true,
        "execution": {
          "iopub.execute_input": "2020-11-08T23:00:55.462757Z",
          "iopub.status.busy": "2020-11-08T23:00:55.461708Z",
          "iopub.status.idle": "2020-11-08T23:00:55.467292Z",
          "shell.execute_reply": "2020-11-08T23:00:55.466701Z"
        },
        "papermill": {
          "duration": 0.159275,
          "end_time": "2020-11-08T23:00:55.467443",
          "exception": false,
          "start_time": "2020-11-08T23:00:55.308168",
          "status": "completed"
        },
        "tags": [],
        "id": "QzUzH3Nf5jmU"
      },
      "source": [
        "# Your code goes here31\n",
        "\n"
      ],
      "execution_count": null,
      "outputs": []
    },
    {
      "cell_type": "markdown",
      "metadata": {
        "papermill": {
          "duration": 0.119086,
          "end_time": "2020-11-08T23:00:55.707742",
          "exception": false,
          "start_time": "2020-11-08T23:00:55.588656",
          "status": "completed"
        },
        "tags": [],
        "id": "Wodg9RBf5jmV"
      },
      "source": [
        "2. Let's group Andersons with 7-size family by ticket number.  \n",
        "There are  7 of them used the same ticket and travelled together. 5 children (each of them has 4 siblings) and 2 parents.\n",
        "To passengers used separated tickets."
      ]
    },
    {
      "cell_type": "code",
      "metadata": {
        "_kg_hide-input": true,
        "execution": {
          "iopub.execute_input": "2020-11-08T23:00:55.963641Z",
          "iopub.status.busy": "2020-11-08T23:00:55.962507Z",
          "iopub.status.idle": "2020-11-08T23:00:55.968501Z",
          "shell.execute_reply": "2020-11-08T23:00:55.967639Z"
        },
        "papermill": {
          "duration": 0.140085,
          "end_time": "2020-11-08T23:00:55.968677",
          "exception": false,
          "start_time": "2020-11-08T23:00:55.828592",
          "status": "completed"
        },
        "tags": [],
        "id": "V2l3159I5jmV"
      },
      "source": [
        "all_data[(all_data['Family_size'] == 7) & (all_data['Surname']=='Andersson')].Ticket.value_counts()"
      ],
      "execution_count": null,
      "outputs": []
    },
    {
      "cell_type": "code",
      "metadata": {
        "_kg_hide-input": true,
        "execution": {
          "iopub.execute_input": "2020-11-08T23:00:56.243593Z",
          "iopub.status.busy": "2020-11-08T23:00:56.242411Z",
          "iopub.status.idle": "2020-11-08T23:00:56.248490Z",
          "shell.execute_reply": "2020-11-08T23:00:56.247562Z"
        },
        "papermill": {
          "duration": 0.154025,
          "end_time": "2020-11-08T23:00:56.248669",
          "exception": false,
          "start_time": "2020-11-08T23:00:56.094644",
          "status": "completed"
        },
        "tags": [],
        "id": "GO7JzZ_U5jmV"
      },
      "source": [
        "all_data[(all_data['Ticket'] == '3101281') | (all_data['Ticket'] == '347091')]"
      ],
      "execution_count": null,
      "outputs": []
    },
    {
      "cell_type": "markdown",
      "metadata": {
        "papermill": {
          "duration": 0.123049,
          "end_time": "2020-11-08T23:00:56.495287",
          "exception": false,
          "start_time": "2020-11-08T23:00:56.372238",
          "status": "completed"
        },
        "tags": [],
        "id": "X851vYOc5jmV"
      },
      "source": [
        "Looks like they actually traveled alone, I will correct that data."
      ]
    },
    {
      "cell_type": "code",
      "metadata": {
        "_kg_hide-input": true,
        "execution": {
          "iopub.execute_input": "2020-11-08T23:00:56.747452Z",
          "iopub.status.busy": "2020-11-08T23:00:56.746695Z",
          "iopub.status.idle": "2020-11-08T23:00:56.774317Z",
          "shell.execute_reply": "2020-11-08T23:00:56.774901Z"
        },
        "papermill": {
          "duration": 0.159316,
          "end_time": "2020-11-08T23:00:56.775087",
          "exception": false,
          "start_time": "2020-11-08T23:00:56.615771",
          "status": "completed"
        },
        "tags": [],
        "id": "aE9VZ4c95jmb"
      },
      "source": [
        "all_data.loc[all_data['PassengerId'] == 69, ['SibSp', 'Parch', 'Family_size']] = [0,0,1]\n",
        "all_data.loc[all_data['PassengerId'] == 1106, ['SibSp', 'Parch', 'Family_size']] = [0,0,1]\n",
        "all_data[(all_data['Ticket'] == '3101281') | (all_data['Ticket'] == '347091')]"
      ],
      "execution_count": null,
      "outputs": []
    },
    {
      "cell_type": "markdown",
      "metadata": {
        "papermill": {
          "duration": 0.121246,
          "end_time": "2020-11-08T23:00:57.018742",
          "exception": false,
          "start_time": "2020-11-08T23:00:56.897496",
          "status": "completed"
        },
        "tags": [],
        "id": "sbdiKmpA5jmb"
      },
      "source": [
        "#### size 5\n",
        "There are some inconsistencies in other categories, with fewer relatives.  \n",
        "Let's check people with 5-size family and group them by Surname:"
      ]
    },
    {
      "cell_type": "code",
      "metadata": {
        "_kg_hide-input": true,
        "execution": {
          "iopub.execute_input": "2020-11-08T23:00:57.273595Z",
          "iopub.status.busy": "2020-11-08T23:00:57.272374Z",
          "iopub.status.idle": "2020-11-08T23:00:57.277964Z",
          "shell.execute_reply": "2020-11-08T23:00:57.277170Z"
        },
        "papermill": {
          "duration": 0.135925,
          "end_time": "2020-11-08T23:00:57.278099",
          "exception": false,
          "start_time": "2020-11-08T23:00:57.142174",
          "status": "completed"
        },
        "tags": [],
        "id": "aSHtdXNs5jmb"
      },
      "source": [
        "all_data[all_data['Family_size'] == 5]['Surname'].value_counts()"
      ],
      "execution_count": null,
      "outputs": []
    },
    {
      "cell_type": "code",
      "metadata": {
        "_kg_hide-input": true,
        "execution": {
          "iopub.execute_input": "2020-11-08T23:00:57.545023Z",
          "iopub.status.busy": "2020-11-08T23:00:57.544215Z",
          "iopub.status.idle": "2020-11-08T23:00:57.550219Z",
          "shell.execute_reply": "2020-11-08T23:00:57.549606Z"
        },
        "papermill": {
          "duration": 0.14938,
          "end_time": "2020-11-08T23:00:57.550366",
          "exception": false,
          "start_time": "2020-11-08T23:00:57.400986",
          "status": "completed"
        },
        "tags": [],
        "id": "_o9Y6B3a5jmc"
      },
      "source": [
        "all_data[(all_data['Surname'] == 'Kink-Heilmann')&(all_data['Family_size'] == 5)]"
      ],
      "execution_count": null,
      "outputs": []
    },
    {
      "cell_type": "markdown",
      "metadata": {
        "papermill": {
          "duration": 0.123303,
          "end_time": "2020-11-08T23:00:57.798771",
          "exception": false,
          "start_time": "2020-11-08T23:00:57.675468",
          "status": "completed"
        },
        "tags": [],
        "id": "XtYXch5L5jmc"
      },
      "source": [
        "Kink-Heilmann, Mr. Anton\t had 2 other siblings on the ship unlike his wife, for whom these relatives do not fit the description of relatives in the data set. We will assume that all other \"mismatches\" in the groups are similar to this. Since I plan to group the size of families into groups, this will eliminate possible inconsistencies."
      ]
    },
    {
      "cell_type": "markdown",
      "metadata": {
        "papermill": {
          "duration": 0.12409,
          "end_time": "2020-11-08T23:00:58.044421",
          "exception": false,
          "start_time": "2020-11-08T23:00:57.920331",
          "status": "completed"
        },
        "tags": [],
        "id": "PW7O5Gtl5jmd"
      },
      "source": [
        "### 6.5.2 Family size and chanses for surviving"
      ]
    },
    {
      "cell_type": "code",
      "metadata": {
        "_kg_hide-input": true,
        "_kg_hide-output": false,
        "execution": {
          "iopub.execute_input": "2020-11-08T23:00:58.327452Z",
          "iopub.status.busy": "2020-11-08T23:00:58.326640Z",
          "iopub.status.idle": "2020-11-08T23:00:58.788562Z",
          "shell.execute_reply": "2020-11-08T23:00:58.787763Z"
        },
        "papermill": {
          "duration": 0.616517,
          "end_time": "2020-11-08T23:00:58.788695",
          "exception": false,
          "start_time": "2020-11-08T23:00:58.172178",
          "status": "completed"
        },
        "tags": [],
        "id": "ermewFUG5jmd"
      },
      "source": [
        "fig = plt.figure(figsize = (12,4))\n",
        "\n",
        "ax1 = fig.add_subplot(121)\n",
        "ax = sns.countplot(all_data['Family_size'], ax = ax1)\n",
        "\n",
        "# calculate passengers for each category\n",
        "labels = (all_data['Family_size'].value_counts())\n",
        "# add result numbers on barchart\n",
        "for i, v in enumerate(labels):\n",
        "    ax.text(i, v+6, str(v), horizontalalignment = 'center', size = 10, color = 'black')\n",
        "    \n",
        "plt.title('Passengers distribution by family size')\n",
        "plt.ylabel('Number of passengers')\n",
        "\n",
        "ax2 = fig.add_subplot(122)\n",
        "d = all_data.groupby('Family_size')['Survived'].value_counts(normalize = True).unstack()\n",
        "d.plot(kind='bar', color=[\"#3f3e6fd1\", \"#85c6a9\"], stacked='True', ax = ax2)\n",
        "plt.title('Proportion of survived/drowned passengers by family size (train data)')\n",
        "plt.legend(( 'Drowned', 'Survived'), loc=(1.04,0))\n",
        "plt.xticks(rotation = False)\n",
        "\n",
        "plt.tight_layout()"
      ],
      "execution_count": null,
      "outputs": []
    },
    {
      "cell_type": "code",
      "metadata": {
        "_kg_hide-input": true,
        "execution": {
          "iopub.execute_input": "2020-11-08T23:00:59.303968Z",
          "iopub.status.busy": "2020-11-08T23:00:59.303015Z",
          "iopub.status.idle": "2020-11-08T23:00:59.306646Z",
          "shell.execute_reply": "2020-11-08T23:00:59.305881Z"
        },
        "papermill": {
          "duration": 0.140769,
          "end_time": "2020-11-08T23:00:59.306783",
          "exception": false,
          "start_time": "2020-11-08T23:00:59.166014",
          "status": "completed"
        },
        "tags": [],
        "id": "pgeygC6G5jme"
      },
      "source": [
        "all_data['Family_size_group'] = all_data['Family_size'].map(lambda x: 'f_single' if x == 1 \n",
        "                                                            else ('f_usual' if 5 > x >= 2 \n",
        "                                                                  else ('f_big' if 8 > x >= 5 \n",
        "                                                                       else 'f_large' )\n",
        "                                                                 ))                                                       "
      ],
      "execution_count": null,
      "outputs": []
    },
    {
      "cell_type": "code",
      "metadata": {
        "_kg_hide-input": true,
        "execution": {
          "iopub.execute_input": "2020-11-08T23:00:59.586848Z",
          "iopub.status.busy": "2020-11-08T23:00:59.585236Z",
          "iopub.status.idle": "2020-11-08T23:01:00.054224Z",
          "shell.execute_reply": "2020-11-08T23:01:00.053579Z"
        },
        "papermill": {
          "duration": 0.620967,
          "end_time": "2020-11-08T23:01:00.054385",
          "exception": false,
          "start_time": "2020-11-08T23:00:59.433418",
          "status": "completed"
        },
        "tags": [],
        "id": "osHshRWS5jmf"
      },
      "source": [
        "fig = plt.figure(figsize = (14,5))\n",
        "\n",
        "ax1 = fig.add_subplot(121)\n",
        "d = all_data.groupby('Family_size_group')['Survived'].value_counts(normalize = True).unstack()\n",
        "d = d.sort_values(by = 1, ascending = False)\n",
        "d.plot(kind='bar', stacked='True', color = [\"#3f3e6fd1\", \"#85c6a9\"], ax = ax1)\n",
        "plt.title('Proportion of survived/drowned passengers by family size (training data)')\n",
        "plt.legend(( 'Drowned', 'Survived'), loc=(1.04,0))\n",
        "_ = plt.xticks(rotation=False)\n",
        "\n",
        "\n",
        "ax2 = fig.add_subplot(122)\n",
        "d2 = all_data.groupby('Family_size_group')['Pclass'].value_counts(normalize = True).unstack()\n",
        "d2 = d2.sort_values(by = 1, ascending = False)\n",
        "d2.plot(kind='bar', stacked='True', color = ['#eed4d0', '#cda0aa', '#a2708e'], ax = ax2)\n",
        "plt.legend(('1st class', '2nd class', '3rd class'), loc=(1.04,0))\n",
        "plt.title('Proportion of 1st/2nd/3rd ticket class in family group size')\n",
        "_ = plt.xticks(rotation=False)\n",
        "\n",
        "plt.tight_layout()"
      ],
      "execution_count": null,
      "outputs": []
    },
    {
      "cell_type": "markdown",
      "metadata": {
        "papermill": {
          "duration": 0.134264,
          "end_time": "2020-11-08T23:01:00.576611",
          "exception": false,
          "start_time": "2020-11-08T23:01:00.442347",
          "status": "completed"
        },
        "tags": [],
        "id": "kHDFSC2F5jmf"
      },
      "source": [
        "## 6.6 Class\n",
        "We have made a lot of assumptions about the survival rate depending on the classes. Let's now look closely at this variable.\n",
        "\n",
        "### 6.6.1 Passengers by class"
      ]
    },
    {
      "cell_type": "code",
      "metadata": {
        "_kg_hide-input": true,
        "execution": {
          "iopub.execute_input": "2020-11-08T23:01:00.850994Z",
          "iopub.status.busy": "2020-11-08T23:01:00.850151Z",
          "iopub.status.idle": "2020-11-08T23:01:01.015941Z",
          "shell.execute_reply": "2020-11-08T23:01:01.015112Z"
        },
        "papermill": {
          "duration": 0.312623,
          "end_time": "2020-11-08T23:01:01.016078",
          "exception": false,
          "start_time": "2020-11-08T23:01:00.703455",
          "status": "completed"
        },
        "tags": [],
        "id": "4SATDOcR5jmg"
      },
      "source": [
        "ax = sns.countplot(all_data['Pclass'], palette = ['#eed4d0', '#cda0aa', '#a2708e'])\n",
        "# calculate passengers for each category\n",
        "labels = (all_data['Pclass'].value_counts(sort = False))\n",
        "# add result numbers on barchart\n",
        "for i, v in enumerate(labels):\n",
        "    ax.text(i, v+2, str(v), horizontalalignment = 'center', size = 12, color = 'black', fontweight = 'bold')\n",
        "    \n",
        "    \n",
        "plt.title('Passengers distribution by family size')\n",
        "plt.ylabel('Number of passengers')\n",
        "plt.tight_layout()"
      ],
      "execution_count": null,
      "outputs": []
    },
    {
      "cell_type": "markdown",
      "metadata": {
        "papermill": {
          "duration": 0.127187,
          "end_time": "2020-11-08T23:01:01.545030",
          "exception": false,
          "start_time": "2020-11-08T23:01:01.417843",
          "status": "completed"
        },
        "tags": [],
        "id": "hPbzV9F65jmg"
      },
      "source": [
        "### 6.6.2 Class vs surviving status"
      ]
    },
    {
      "cell_type": "code",
      "metadata": {
        "_kg_hide-input": true,
        "execution": {
          "iopub.execute_input": "2020-11-08T23:01:01.844908Z",
          "iopub.status.busy": "2020-11-08T23:01:01.843768Z",
          "iopub.status.idle": "2020-11-08T23:01:02.352794Z",
          "shell.execute_reply": "2020-11-08T23:01:02.353377Z"
        },
        "papermill": {
          "duration": 0.669963,
          "end_time": "2020-11-08T23:01:02.353586",
          "exception": false,
          "start_time": "2020-11-08T23:01:01.683623",
          "status": "completed"
        },
        "tags": [],
        "id": "vI-87hUo5jmg"
      },
      "source": [
        "fig = plt.figure(figsize=(14, 5))\n",
        "\n",
        "ax1 = fig.add_subplot(121)\n",
        "sns.countplot(x = 'Pclass', hue = 'Survived', data = all_data, palette=[\"#3f3e6fd1\", \"#85c6a9\"], ax = ax1)\n",
        "plt.title('Number of survived/drowned passengers by class (train data)')\n",
        "plt.ylabel('Number of passengers')\n",
        "plt.legend(( 'Drowned', 'Survived'), loc=(1.04,0))\n",
        "_ = plt.xticks(rotation=False)\n",
        "\n",
        "ax2 = fig.add_subplot(122)\n",
        "d = all_data.groupby('Pclass')['Survived'].value_counts(normalize = True).unstack()\n",
        "d.plot(kind='bar', stacked='True', ax = ax2, color =[\"#3f3e6fd1\", \"#85c6a9\"])\n",
        "plt.title('Proportion of survived/drowned passengers by class (train data)')\n",
        "plt.legend(( 'Drowned', 'Survived'), loc=(1.04,0))\n",
        "_ = plt.xticks(rotation=False)\n",
        "\n",
        "plt.tight_layout()"
      ],
      "execution_count": null,
      "outputs": []
    },
    {
      "cell_type": "markdown",
      "metadata": {
        "papermill": {
          "duration": 0.127439,
          "end_time": "2020-11-08T23:01:02.874687",
          "exception": false,
          "start_time": "2020-11-08T23:01:02.747248",
          "status": "completed"
        },
        "tags": [],
        "id": "5q_HAmC35jmg"
      },
      "source": [
        "### 6.6.3 Class vs surviving status vs gender"
      ]
    },
    {
      "cell_type": "code",
      "metadata": {
        "_kg_hide-input": true,
        "execution": {
          "iopub.execute_input": "2020-11-08T23:01:03.146570Z",
          "iopub.status.busy": "2020-11-08T23:01:03.145421Z",
          "iopub.status.idle": "2020-11-08T23:01:03.668605Z",
          "shell.execute_reply": "2020-11-08T23:01:03.667845Z"
        },
        "papermill": {
          "duration": 0.66554,
          "end_time": "2020-11-08T23:01:03.668737",
          "exception": false,
          "start_time": "2020-11-08T23:01:03.003197",
          "status": "completed"
        },
        "tags": [],
        "id": "ik30gxQh5jmi"
      },
      "source": [
        "sns.catplot(x = 'Pclass', hue = 'Survived', col = 'Sex', kind = 'count', data = all_data , palette=[\"#3f3e6fd1\", \"#85c6a9\"])\n",
        "\n",
        "plt.tight_layout()"
      ],
      "execution_count": null,
      "outputs": []
    },
    {
      "cell_type": "markdown",
      "metadata": {
        "papermill": {
          "duration": 0.130437,
          "end_time": "2020-11-08T23:01:04.180643",
          "exception": false,
          "start_time": "2020-11-08T23:01:04.050206",
          "status": "completed"
        },
        "tags": [],
        "id": "83XHaie_5jmi"
      },
      "source": [
        "### 6.6.4 Class vs. Gender vs. Age -> Surviving status \n",
        "For better understanding how the combination of some factors influence on chances to survive, lets break passengers into 18 imaginary groups separated by:\n",
        "* **Class** (1 / 2 / 3)\n",
        "* **Gender** (male / female)\n",
        "* **Age** ( <16 / 16-40 / 40<)  \n",
        "\n",
        "To do so I will create 6 stripplots (3 for male, 3 for female), with values grouped by Surviving status and add background color to separate age groups:"
      ]
    },
    {
      "cell_type": "code",
      "metadata": {
        "_kg_hide-input": true,
        "execution": {
          "iopub.execute_input": "2020-11-08T23:01:04.474756Z",
          "iopub.status.busy": "2020-11-08T23:01:04.457790Z",
          "iopub.status.idle": "2020-11-08T23:01:05.322798Z",
          "shell.execute_reply": "2020-11-08T23:01:05.323410Z"
        },
        "papermill": {
          "duration": 1.014149,
          "end_time": "2020-11-08T23:01:05.323583",
          "exception": false,
          "start_time": "2020-11-08T23:01:04.309434",
          "status": "completed"
        },
        "tags": [],
        "id": "vOoW12xY5jmj"
      },
      "source": [
        "plt.figure(figsize=(20, 10))\n",
        "palette=[\"#3f3e6fd1\", \"#85c6a9\"]\n",
        "\n",
        "plt.subplot(2, 3, 1)\n",
        "sns.stripplot(x = 'Survived', y = 'Age', data = age_1_class[age_1_class['Sex']=='male'],\n",
        "     linewidth = 0.9, palette = palette)\n",
        "plt.axhspan(0, 16, color = \"#e1f3f6\")\n",
        "plt.axhspan(16, 40, color = \"#bde6dd\")\n",
        "plt.axhspan(40, 80, color = \"#83ceb9\")\n",
        "plt.title('Age distribution (males, 1st class)',fontsize= 14)\n",
        "plt.xticks( np.arange(2), ['drowned', 'survived'])\n",
        "plt.ylim(0, 80)\n",
        "\n",
        "plt.subplot(2, 3, 2)\n",
        "sns.stripplot(x = 'Survived', y = 'Age', data = age_2_class[age_2_class['Sex']=='male'],\n",
        "     linewidth = 0.9, palette = palette)\n",
        "plt.axhspan(0, 16, color = \"#e1f3f6\")\n",
        "plt.axhspan(16, 40, color = \"#bde6dd\")\n",
        "plt.axhspan(40, 80, color = \"#83ceb9\")\n",
        "plt.title('Age distribution (males, 2nd class)',fontsize= 14)\n",
        "plt.xticks( np.arange(2), ['drowned', 'survived'])\n",
        "plt.ylim(0, 80)\n",
        "\n",
        "plt.subplot(2, 3, 3)\n",
        "sns.stripplot(x = 'Survived', y = 'Age', data = age_3_class[age_3_class['Sex']=='male'],\n",
        "              linewidth = 0.9, palette = palette)\n",
        "plt.axhspan(0, 16, color = \"#e1f3f6\")\n",
        "plt.axhspan(16, 40, color = \"#bde6dd\")\n",
        "plt.axhspan(40, 80, color = \"#83ceb9\")\n",
        "plt.title('Age distribution (males, 3rd class)',fontsize= 14)\n",
        "plt.xticks( np.arange(2), ['drowned', 'survived'])\n",
        "plt.ylim(0, 80)\n",
        "\n",
        "\n",
        "plt.subplot(2, 3, 4)\n",
        "sns.stripplot(x = 'Survived', y = 'Age', data = age_1_class[age_1_class['Sex']=='female'],\n",
        "     linewidth = 0.9, palette = palette)\n",
        "plt.axhspan(0, 16, color = \"#ffff9978\")\n",
        "plt.axhspan(16, 40, color = \"#ffff97bf\")\n",
        "plt.axhspan(40, 80, color = \"#ffed97bf\")\n",
        "plt.title('Age distribution (females, 1st class)',fontsize= 14)\n",
        "plt.xticks( np.arange(2), ['drowned', 'survived'])\n",
        "plt.ylim(0, 80)\n",
        "\n",
        "plt.subplot(2, 3, 5)\n",
        "sns.stripplot(x = 'Survived', y = 'Age', data = age_2_class[age_2_class['Sex']=='female'],\n",
        "     linewidth = 0.9, palette = palette)\n",
        "plt.axhspan(0, 16, color = \"#ffff9978\")\n",
        "plt.axhspan(16, 40, color = \"#ffff97bf\")\n",
        "plt.axhspan(40, 80, color = \"#ffed97bf\")\n",
        "plt.title('Age distribution (females, 2nd class)',fontsize= 14)\n",
        "plt.xticks( np.arange(2), ['drowned', 'survived'])\n",
        "plt.ylim(0, 80)\n",
        "\n",
        "plt.subplot(2, 3, 6)\n",
        "sns.stripplot(x = 'Survived', y = 'Age', data = age_3_class[age_3_class['Sex']=='female'],\n",
        "              linewidth = 0.9, palette = palette)\n",
        "plt.axhspan(0, 16, color = \"#ffff9978\")\n",
        "plt.axhspan(16, 40, color = \"#ffff97bf\")\n",
        "plt.axhspan(40, 80, color = \"#ffed97bf\")\n",
        "plt.title('Age distribution (females, 3rd class)',fontsize= 14)\n",
        "plt.xticks( np.arange(2), ['drowned', 'survived'])\n",
        "plt.ylim(0, 80)\n",
        "\n",
        "\n",
        "plt.show()"
      ],
      "execution_count": null,
      "outputs": []
    },
    {
      "cell_type": "markdown",
      "metadata": {
        "papermill": {
          "duration": 0.130395,
          "end_time": "2020-11-08T23:01:05.854211",
          "exception": false,
          "start_time": "2020-11-08T23:01:05.723816",
          "status": "completed"
        },
        "tags": [],
        "id": "JpWN0lef5jmk"
      },
      "source": [
        "## 6.7 Gender\n",
        "Let's discover gender a little bit more:"
      ]
    },
    {
      "cell_type": "code",
      "metadata": {
        "_kg_hide-input": true,
        "execution": {
          "iopub.execute_input": "2020-11-08T23:01:06.134930Z",
          "iopub.status.busy": "2020-11-08T23:01:06.133755Z",
          "iopub.status.idle": "2020-11-08T23:01:06.835372Z",
          "shell.execute_reply": "2020-11-08T23:01:06.836005Z"
        },
        "papermill": {
          "duration": 0.850894,
          "end_time": "2020-11-08T23:01:06.836160",
          "exception": false,
          "start_time": "2020-11-08T23:01:05.985266",
          "status": "completed"
        },
        "tags": [],
        "id": "RfHO3OZp5jmk"
      },
      "source": [
        "plt.figure(figsize = (15,4))\n",
        "\n",
        "plt.subplot (1,3,1)\n",
        "ax = sns.countplot(all_data['Sex'], palette=\"Set3\")\n",
        "plt.title('Number of passengers by Sex')\n",
        "plt.ylabel('Number of passengers')\n",
        "\n",
        "# calculate passengers for each category\n",
        "labels = (all_data['Sex'].value_counts())\n",
        "# add result numbers on barchart\n",
        "for i, v in enumerate(labels):\n",
        "    ax.text(i, v+10, str(v), horizontalalignment = 'center', size = 10, color = 'black')\n",
        "    \n",
        "\n",
        "plt.subplot (1,3,2)\n",
        "sns.countplot( x = 'Pclass', data = all_data, hue = 'Sex', palette=\"Set3\")\n",
        "plt.title('Number of male/female passengers by class')\n",
        "plt.ylabel('Number of passengers')\n",
        "plt.legend( loc=(1.04,0))\n",
        "\n",
        "# Your code goes here44\n",
        "\n"
      ],
      "execution_count": null,
      "outputs": []
    },
    {
      "cell_type": "markdown",
      "metadata": {
        "papermill": {
          "duration": 0.157437,
          "end_time": "2020-11-08T23:01:07.147669",
          "exception": false,
          "start_time": "2020-11-08T23:01:06.990232",
          "status": "completed"
        },
        "tags": [],
        "id": "oUB8xcG15jmk"
      },
      "source": [
        "There were overall more males than females on board, it is fair for each ticket class, but in the 3rd class number of males more than twice bigger than females.  \n",
        "Almost 600 male passengers traveled without family members and only about 200 females, but in usual and big families there were slightly more female passengers."
      ]
    },
    {
      "cell_type": "markdown",
      "metadata": {
        "papermill": {
          "duration": 0.138722,
          "end_time": "2020-11-08T23:01:07.436973",
          "exception": false,
          "start_time": "2020-11-08T23:01:07.298251",
          "status": "completed"
        },
        "tags": [],
        "id": "Y5_a0K_X5jml"
      },
      "source": [
        "## 6.8 Embarked\n",
        "Titanic had 3 embarkation points before the ship started its route to New York:\n",
        "* Southampton\n",
        "* Cherbourg\n",
        "* Queenstown  \n",
        "\n",
        "Some passengers could leave Titanic in Cherbourg or Queenstown and avoid catastrophe. Also, the point of embarkation could have an influence on ticket fare and location on the ship.  \n",
        "\n",
        "![09269a9f7d50a3f019182a11f7aa7981.jpg](attachment:09269a9f7d50a3f019182a11f7aa7981.jpg)\n",
        "\n",
        "Port of Embarkation (C = Cherbourg; Q = Queenstown; S = Southampton)\n"
      ]
    },
    {
      "cell_type": "code",
      "metadata": {
        "_kg_hide-input": true,
        "execution": {
          "iopub.execute_input": "2020-11-08T23:01:07.745840Z",
          "iopub.status.busy": "2020-11-08T23:01:07.739800Z",
          "iopub.status.idle": "2020-11-08T23:01:08.275160Z",
          "shell.execute_reply": "2020-11-08T23:01:08.274368Z"
        },
        "papermill": {
          "duration": 0.699623,
          "end_time": "2020-11-08T23:01:08.275304",
          "exception": false,
          "start_time": "2020-11-08T23:01:07.575681",
          "status": "completed"
        },
        "tags": [],
        "id": "j-fNiUME5jml"
      },
      "source": [
        "fig = plt.figure(figsize = (15,4))\n",
        "\n",
        "ax1 = fig.add_subplot(131)\n",
        "palette = sns.cubehelix_palette(5, start = 2)\n",
        "ax = sns.countplot(all_data['Embarked'], palette = palette, order = ['C', 'Q', 'S'], ax = ax1)\n",
        "plt.title('Number of passengers by Embarked')\n",
        "plt.ylabel('Number of passengers')\n",
        "\n",
        "# calculate passengers for each category\n",
        "labels = (all_data['Embarked'].value_counts())\n",
        "labels = labels.sort_index()\n",
        "# add result numbers on barchart\n",
        "for i, v in enumerate(labels):\n",
        "    ax.text(i, v+10, str(v), horizontalalignment = 'center', size = 10, color = 'black')\n",
        "    \n",
        "\n",
        "ax2 = fig.add_subplot(132)\n",
        "surv_by_emb = all_data.groupby('Embarked')['Survived'].value_counts(normalize = True)\n",
        "surv_by_emb = surv_by_emb.unstack().sort_index()\n",
        "surv_by_emb.plot(kind='bar', stacked='True', color=[\"#3f3e6fd1\", \"#85c6a9\"], ax = ax2)\n",
        "plt.title('Proportion of survived/drowned passengers by Embarked (train data)')\n",
        "plt.legend(( 'Drowned', 'Survived'), loc=(1.04,0))\n",
        "_ = plt.xticks(rotation=False)\n",
        "\n",
        "\n",
        "ax3 = fig.add_subplot(133)\n",
        "class_by_emb = all_data.groupby('Embarked')['Pclass'].value_counts(normalize = True)\n",
        "class_by_emb = class_by_emb.unstack().sort_index()\n",
        "class_by_emb.plot(kind='bar', stacked='True', color = ['#eed4d0', '#cda0aa', '#a2708e'], ax = ax3)\n",
        "plt.legend(('1st class', '2nd class', '3rd class'), loc=(1.04,0))\n",
        "plt.title('Proportion of clases by Embarked')\n",
        "_ = plt.xticks(rotation=False)\n",
        "\n",
        "plt.tight_layout()"
      ],
      "execution_count": null,
      "outputs": []
    },
    {
      "cell_type": "code",
      "metadata": {
        "execution": {
          "iopub.execute_input": "2020-11-08T23:01:08.831871Z",
          "iopub.status.busy": "2020-11-08T23:01:08.830698Z",
          "iopub.status.idle": "2020-11-08T23:01:09.063913Z",
          "shell.execute_reply": "2020-11-08T23:01:09.063128Z"
        },
        "papermill": {
          "duration": 0.377075,
          "end_time": "2020-11-08T23:01:09.064048",
          "exception": false,
          "start_time": "2020-11-08T23:01:08.686973",
          "status": "completed"
        },
        "tags": [],
        "id": "i526Wi_t5jml"
      },
      "source": [
        "\n",
        "sns.catplot(x=\"Embarked\", y=\"Fare\", kind=\"violin\", inner=None,\n",
        "            data=all_data, height = 6, palette = palette, order = ['C', 'Q', 'S'])\n",
        "plt.title('Distribution of Fare by Embarked')\n",
        "plt.tight_layout()"
      ],
      "execution_count": null,
      "outputs": []
    },
    {
      "cell_type": "code",
      "metadata": {
        "_kg_hide-input": true,
        "execution": {
          "iopub.execute_input": "2020-11-08T23:01:09.365614Z",
          "iopub.status.busy": "2020-11-08T23:01:09.361410Z",
          "iopub.status.idle": "2020-11-08T23:01:09.389017Z",
          "shell.execute_reply": "2020-11-08T23:01:09.388191Z"
        },
        "papermill": {
          "duration": 0.184682,
          "end_time": "2020-11-08T23:01:09.389155",
          "exception": false,
          "start_time": "2020-11-08T23:01:09.204473",
          "status": "completed"
        },
        "tags": [],
        "id": "O6TPA33v5jml"
      },
      "source": [
        "# Descriptive statistics:\n",
        "pd.DataFrame(all_data.groupby('Embarked')['Fare'].describe())"
      ],
      "execution_count": null,
      "outputs": []
    },
    {
      "cell_type": "code",
      "metadata": {
        "_kg_hide-input": true,
        "execution": {
          "iopub.execute_input": "2020-11-08T23:01:09.991726Z",
          "iopub.status.busy": "2020-11-08T23:01:09.990638Z",
          "iopub.status.idle": "2020-11-08T23:01:09.996001Z",
          "shell.execute_reply": "2020-11-08T23:01:09.996586Z"
        },
        "papermill": {
          "duration": 0.168329,
          "end_time": "2020-11-08T23:01:09.996759",
          "exception": false,
          "start_time": "2020-11-08T23:01:09.828430",
          "status": "completed"
        },
        "tags": [],
        "id": "YSaoALzG5jmn"
      },
      "source": [
        "train_data[train_data['Embarked'].isna()]"
      ],
      "execution_count": null,
      "outputs": []
    },
    {
      "cell_type": "markdown",
      "metadata": {
        "papermill": {
          "duration": 0.14127,
          "end_time": "2020-11-08T23:01:10.280812",
          "exception": false,
          "start_time": "2020-11-08T23:01:10.139542",
          "status": "completed"
        },
        "tags": [],
        "id": "KPpvu0cV5jmn"
      },
      "source": [
        "These two passengers traveled together (same ticket number). To impute missing values, we can use mode value for passengers with the closest fare value and Pclass."
      ]
    },
    {
      "cell_type": "markdown",
      "metadata": {
        "papermill": {
          "duration": 0.138636,
          "end_time": "2020-11-08T23:01:10.562061",
          "exception": false,
          "start_time": "2020-11-08T23:01:10.423425",
          "status": "completed"
        },
        "tags": [],
        "id": "ZMJDVNfv5jmo"
      },
      "source": [
        "## 6.9 Fare\n"
      ]
    },
    {
      "cell_type": "code",
      "metadata": {
        "_kg_hide-input": true,
        "execution": {
          "iopub.execute_input": "2020-11-08T23:01:10.859298Z",
          "iopub.status.busy": "2020-11-08T23:01:10.857487Z",
          "iopub.status.idle": "2020-11-08T23:01:22.334400Z",
          "shell.execute_reply": "2020-11-08T23:01:22.333633Z"
        },
        "papermill": {
          "duration": 11.632353,
          "end_time": "2020-11-08T23:01:22.334558",
          "exception": false,
          "start_time": "2020-11-08T23:01:10.702205",
          "status": "completed"
        },
        "tags": [],
        "id": "Og9Ast_35jmo"
      },
      "source": [
        "sns.catplot(x=\"Pclass\", y=\"Fare\", kind=\"swarm\", data=all_data, palette=sns.cubehelix_palette(5, start = 3), height = 6)\n",
        "\n",
        "plt.tight_layout()"
      ],
      "execution_count": null,
      "outputs": []
    },
    {
      "cell_type": "code",
      "metadata": {
        "_kg_hide-input": true,
        "execution": {
          "iopub.execute_input": "2020-11-08T23:01:22.914644Z",
          "iopub.status.busy": "2020-11-08T23:01:22.912583Z",
          "iopub.status.idle": "2020-11-08T23:01:28.250444Z",
          "shell.execute_reply": "2020-11-08T23:01:28.249749Z"
        },
        "papermill": {
          "duration": 5.486416,
          "end_time": "2020-11-08T23:01:28.250595",
          "exception": false,
          "start_time": "2020-11-08T23:01:22.764179",
          "status": "completed"
        },
        "tags": [],
        "id": "nJHBWtTp5jmo"
      },
      "source": [
        "# Your code goes here50\n",
        "\n"
      ],
      "execution_count": null,
      "outputs": []
    },
    {
      "cell_type": "code",
      "metadata": {
        "_kg_hide-input": true,
        "execution": {
          "iopub.execute_input": "2020-11-08T23:01:28.856043Z",
          "iopub.status.busy": "2020-11-08T23:01:28.854931Z",
          "iopub.status.idle": "2020-11-08T23:01:28.861189Z",
          "shell.execute_reply": "2020-11-08T23:01:28.860487Z"
        },
        "papermill": {
          "duration": 0.183636,
          "end_time": "2020-11-08T23:01:28.861318",
          "exception": false,
          "start_time": "2020-11-08T23:01:28.677682",
          "status": "completed"
        },
        "tags": [],
        "id": "oBqxeg5n5jmp"
      },
      "source": [
        "all_data[all_data['Fare'] == min(all_data['Fare'])]"
      ],
      "execution_count": null,
      "outputs": []
    },
    {
      "cell_type": "markdown",
      "metadata": {
        "papermill": {
          "duration": 0.143189,
          "end_time": "2020-11-08T23:01:29.434906",
          "exception": false,
          "start_time": "2020-11-08T23:01:29.291717",
          "status": "completed"
        },
        "tags": [],
        "id": "ABTaUbNR5jmp"
      },
      "source": [
        "# 7. Conclusion\n",
        "We know that there were not enough boats on Board the Titanic for all passengers to be able to evacuate. After studying the information about the passengers, we can make some assumptions about who had a better chance of survival in a shipwreck situation as well as General observations about passengers.\n",
        "\n",
        "* There are 891 passengers in the train dataset, 549 (61,6%) of them drowned and only 342 (38,4%) survived. But we know, that lifeboats (16 wooden lifeboats and four collapsible) could carry 53% of total passengers.\n",
        "* The Age of all passengers vary from about 0.17 year to 80 years with average 29.88. The mean age of survived passenger is 28.23 which on 2.39 smaller than the mean age of drowned passengers (only passengers we know survived status for). It looks like there is a slightly bigger chance to survive for younger people.\n",
        "* Exploring the title of passengers, we can see that the biggest proportion of survivors is in the \"Mrs\" group - a married woman. More than 80% drowned in the \"Mr.\" group and nobody survived among the Reverend group.\n",
        "* Most passengers don't have cabin numbers. The largest part of passengers with known cabin numbers was located on the 'C' deck and had 1st class ticket. 'C' deck is fifth by a percentage of the survivor.  \n",
        "The largest surviving rate (among passengers with known cabin numbers in training dataset) had passengers from deck 'D'. Deck A was the closest to the deck with lifeboats, but it is the last in the surviving rate.\n",
        "* The family size on board also seems to have an influence on chances for survival: there were two large families with sizes 8 and 11 and all their members from the training dataset are drowned.  We can observe that the percentage of survivors in people who have a family of 2, 3, 4 people is greater than in singles, then the percentage of survivors decreases as the family size increases.  \n",
        "* Most of the Titanic's passengers were traveling third class (709). The second class is the smallest in terms of the number of passengers. Despite the previously identified prerequisites (on average, older people are more likely to die, and in the first class, the average age is higher than in other classes. Also, passengers on deck A, which consists of 100% first class, have a large proportion of drowned passengers), the first-class has the largest number of survivors and the proportion of survivors within the class is the largest.  \n",
        "Third-class tickets had the highest number of drowned passengers, and most of the third-class passengers drowned.\n",
        "* However, most of the male passengers of the first class drowned, and the female almost all survived. In the third grade, half of the females survived.  \n",
        "There were overall more males than females on board, it is fair for each ticket class, but in the 3rd class number of males more than twice bigger than females.  \n",
        "Almost 600 male passengers traveled without family members and only about 200 females, but in usual and big families there were slightly more female passengers.  \n",
        "* Most numbers of passengers (914) were embarked in Southampton. Also, Southampton has the biggest proportion of drowned passengers. 270 passengers embarked in Cherbourg and more than 50% of them survived (in the training dataset). 123 of passengers embarked in Queenstown, the vast majority of them are 3rd class passengers.  \n",
        "\n",
        " \n",
        "If we use a naive approach and consider all the parameters separately, then young female first-class passengers with the title Mrs have a moderate number of relatives on Board, who paid a large amount for a ticket and went on Board in  Cherbourg have a better chance of survival. \n",
        "For sure, there is a relationship between variables, and survival was influenced not only by the title, or ticket, or age itself but by a combination of factors that are to some extent interrelated.   \n",
        "And It is obvious that there is no algorithm that can predict the survival rate by 100 percent based on the factors of the passenger's location on the ship or his age, since the human factor and the unpredicted emergency were involved in the rescue process."
      ]
    },
    {
      "cell_type": "markdown",
      "metadata": {
        "id": "DPN1fm8D5jmp"
      },
      "source": [
        "# 4. Handling missing values/ outliers/ mistakes\n",
        "\n",
        "\n",
        "## 4.1. Mistakes, outliers\n",
        "From my EDA we discovered some mistakes in data:\n",
        "* Two passengers with ids 69 and 1106 have wrong number of SibSp and Parch.\n",
        "* Passenger 631 has wrong age."
      ]
    },
    {
      "cell_type": "code",
      "metadata": {
        "id": "yl7o9X715jmp"
      },
      "source": [
        "# Passengers with wrong number of siblings and parch\n",
        "train_data.loc[train_data['PassengerId'] == 69, ['SibSp', 'Parch']] = [0,0]\n",
        "test_data.loc[test_data['PassengerId'] == 1106, ['SibSp', 'Parch']] = [0,0]\n",
        "\n",
        "# Age outlier \n",
        "train_data.loc[train_data['PassengerId'] == 631, 'Age'] = 48"
      ],
      "execution_count": null,
      "outputs": []
    },
    {
      "cell_type": "markdown",
      "metadata": {
        "id": "UkDGV1CY5jmq"
      },
      "source": [
        "## 4.2. Missing values\n",
        "Missing values can be caused by different reasons, there are three main [mechanisms](https://www.theanalysisfactor.com/missing-data-mechanism/):  \n",
        "* **Missing Completely at Random** (MCAR) - there is no relationship between the missingness of the data and any values, observed or missing.\n",
        "* **Missing at Random** (MAR) - there is a systematic relationship between the propensity of missing values and the observed data, but not the missing data.\n",
        "* **Missing Not at Random**(MNAR) - there is a relationship between the propensity of a value to be missing and its values. \n",
        "\n",
        "Depending on reasons, why values are missing, we should act differently with data imputation. It's not easy to say for sure, what type of missing values we have, but we can do some assumptions.\n",
        "\n",
        "For example, based on the fact that among the passengers without the specified cabin, the percentage of drowned is higher, you might think that the presence of this information tells us something (MAR). Cabin information is missing from a very large number of passengers (687 NA in training dataset and 327 in test dataset). I read about the [assumptions](https://www.encyclopedia-titanica.org/cabins.html) that this information was collected from the words of survived passengers. If this is the case, then the presence or absence of data is itself important information.  \n",
        "To preserve a possible insight, we can add a separate flag that the passenger cabin is unknown. I use the cabin to determine the passenger's deck, for those who do not have the information, I will add the 'U' flag. I don't plan to use the cabin itself.  \n",
        "\n",
        "Age can be a similar situation (there are bigger percent of passengers who survived among passengers with not NA Age), so I will add a flag that age is not specified ('Age_NA') before inserting the assumed values into the age variable.  \n",
        "\n",
        "There are table of missing values:  "
      ]
    },
    {
      "cell_type": "code",
      "metadata": {
        "id": "wNiTCecd5jmq"
      },
      "source": [
        "# check data for NA values\n",
        "train_NA = train_data.isna().sum()\n",
        "test_NA = test_data.isna().sum()\n",
        "pd.concat([train_NA, test_NA], axis=1, sort = False, keys = ['Train NA', 'Test NA'])"
      ],
      "execution_count": null,
      "outputs": []
    },
    {
      "cell_type": "markdown",
      "metadata": {
        "id": "o4EioHLr5jmq"
      },
      "source": [
        "Using sns.heatmap we can visualise missing values:"
      ]
    },
    {
      "cell_type": "code",
      "metadata": {
        "id": "8w7z031r5jmq"
      },
      "source": [
        "plt.figure(figsize = (16, 7))\n",
        "\n",
        "# Your code goes here55\n",
        "\n",
        "\n",
        "\n",
        "plt.subplot(1,2,2)\n",
        "sns.heatmap(test_data.isnull(), cbar=False)\n",
        "plt.xticks(rotation=35,     horizontalalignment='right',\n",
        "    fontweight='light'  )\n",
        "plt.title('Test dataset missing values')\n",
        "\n",
        "plt.tight_layout()"
      ],
      "execution_count": null,
      "outputs": []
    },
    {
      "cell_type": "markdown",
      "metadata": {
        "id": "B4GuDI_B5jmr"
      },
      "source": [
        "### 4.2.1 Age \n",
        "First, add Age_NA variable indicates that there is no age in the original data.  \n",
        "Second, I will imput median Age calculated inside of each Pclass + Sex + Title_category group. To do so, I extracting Title from Name variable and map it on title category dictionary.\n"
      ]
    },
    {
      "cell_type": "code",
      "metadata": {
        "id": "6iRjrRIz5jmr"
      },
      "source": [
        "# Add new variable Age_NA indicates that there is no age in the original data.\n",
        "train_data.loc[train_data['Age'].isna(), 'Age_NA'] = 1     # 1 for missing Age value\n",
        "train_data.loc[train_data['Age_NA'].isna(), 'Age_NA'] = 0  # 0 if Age value is not null\n",
        "test_data.loc[test_data['Age'].isna(), 'Age_NA'] = 1       \n",
        "test_data.loc[test_data['Age_NA'].isna(), 'Age_NA'] = 0\n",
        "\n",
        "# titles categories dict\n",
        "title_dict = {  'Mr':     'Mr',\n",
        "                'Mrs':    'Mrs',\n",
        "                'Miss':   'Miss',\n",
        "                'Master': 'Master',              \n",
        "                'Ms':     'Miss',\n",
        "                'Mme':    'Mrs',\n",
        "                'Mlle':   'Miss',\n",
        "                'Capt':   'military',\n",
        "                'Col':    'military',\n",
        "                'Major':  'military',\n",
        "                'Dr':     'Dr',\n",
        "                'Rev':    'Rev',                  \n",
        "                'Sir':    'honor',\n",
        "                'the Countess': 'honor',\n",
        "                'Lady':   'honor',\n",
        "                'Jonkheer': 'honor',\n",
        "                'Don':    'honor',\n",
        "                'Dona':   'honor' }\n",
        "\n",
        "# add title variable\n",
        "train_data['Title'] = train_data['Name'].str.split(',', expand = True)[1].str.split('.', expand = True)[0].str.strip(' ')\n",
        "test_data['Title'] = test_data['Name'].str.split(',', expand = True)[1].str.split('.', expand = True)[0].str.strip(' ')\n",
        "\n",
        "# map titles to category\n",
        "train_data['Title_category'] = train_data['Title'].map(title_dict)\n",
        "test_data['Title_category'] = test_data['Title'].map(title_dict)\n",
        "\n",
        "# delete Title variable\n",
        "del train_data['Title']\n",
        "del test_data['Title']\n",
        "\n",
        "# Filling the missing values in Age with the medians of Sex and Pclass, Title groups\n",
        "train_data['Age'] = train_data.groupby(['Pclass', 'Sex', 'Title_category'])['Age'].apply(lambda x: x.fillna(x.median()))\n",
        "test_data['Age'] = test_data.groupby(['Pclass', 'Sex', 'Title_category'])['Age'].apply(lambda x: x.fillna(x.median()))"
      ],
      "execution_count": null,
      "outputs": []
    },
    {
      "cell_type": "markdown",
      "metadata": {
        "id": "g0uDxWn75jmr"
      },
      "source": [
        "### 4.2.2 Embarked\n",
        "There are two missing Embarked values. Both of the passengers are with ticket number = 113572 (and same cabin number), so they traveled together. I will imput values with mode value for same class passengers in similar fare group (77-82), because Fare should depend on class and duration of the trip (which depends on the place of boarding)."
      ]
    },
    {
      "cell_type": "code",
      "metadata": {
        "id": "K4uxZrjW5jmr"
      },
      "source": [
        "train_data[train_data['Embarked'].isna()]"
      ],
      "execution_count": null,
      "outputs": []
    },
    {
      "cell_type": "code",
      "metadata": {
        "id": "MtoC_kek5jmr"
      },
      "source": [
        "mode_emb = train_data[(train_data['Fare'] > 77) & (train_data['Fare'] < 82)& (train_data['Pclass']==1)]['Embarked'].mode()\n",
        "train_data.loc[train_data['Embarked'].isna(), 'Embarked'] = mode_emb[0]"
      ],
      "execution_count": null,
      "outputs": []
    },
    {
      "cell_type": "markdown",
      "metadata": {
        "id": "05aw_UHm5jms"
      },
      "source": [
        "### 4.2.3 Fare\n",
        "Only one fare value is missed. I will fill NA with median Fare calculated inside of same  Pclass + Sex + Title_category + Parch group."
      ]
    },
    {
      "cell_type": "code",
      "metadata": {
        "id": "DS5mqHJU5jms"
      },
      "source": [
        "# Filling the missing values in Age with the medians of Sex and Pclass, Title groups\n",
        "test_data['Fare'] = test_data.groupby(['Pclass', 'Sex', 'Title_category', 'Parch'])['Fare'].apply(lambda x: x.fillna(x.median()))"
      ],
      "execution_count": null,
      "outputs": []
    },
    {
      "cell_type": "markdown",
      "metadata": {
        "id": "-MhY5aPc5jms"
      },
      "source": [
        "# Happy Learning"
      ]
    }
  ]
}