{
 "cells": [
  {
   "cell_type": "code",
   "execution_count": 1,
   "metadata": {},
   "outputs": [],
   "source": [
    "#Question 1"
   ]
  },
  {
   "cell_type": "code",
   "execution_count": 20,
   "metadata": {},
   "outputs": [
    {
     "name": "stdout",
     "output_type": "stream",
     "text": [
      "3 5 7 11 13 17 19 23 29 31 37 41 43 47 53 59 61 67 71 73 "
     ]
    }
   ],
   "source": [
    "lower = 1\n",
    "upper = 78\n",
    "\n",
    "for num in range(lower, upper + 1):\n",
    "   if num > 2:\n",
    "       for i in range(2, num):\n",
    "           if (num % i) == 0:\n",
    "               break\n",
    "       else:\n",
    "           print(num,end=\" \")\n",
    "            "
   ]
  },
  {
   "cell_type": "code",
   "execution_count": 21,
   "metadata": {},
   "outputs": [
    {
     "name": "stdout",
     "output_type": "stream",
     "text": [
      "Good morning\n"
     ]
    }
   ],
   "source": [
    "#Question 2\n",
    "\n",
    "txt = \"good morning\"\n",
    "\n",
    "x = txt.capitalize()\n",
    "\n",
    "print (x)"
   ]
  },
  {
   "cell_type": "code",
   "execution_count": 24,
   "metadata": {},
   "outputs": [
    {
     "name": "stdout",
     "output_type": "stream",
     "text": [
      "Hola\n",
      "Hola\n",
      "Hola\n"
     ]
    }
   ],
   "source": [
    "str1 = 'Hola'\n",
    "print(str1)\n",
    "\n",
    "str2 = \"Hola\"\n",
    "print(str2)\n",
    "\n",
    "str3 = \"Hola\"\n",
    "print(str3)\n"
   ]
  },
  {
   "cell_type": "code",
   "execution_count": 25,
   "metadata": {},
   "outputs": [
    {
     "name": "stdout",
     "output_type": "stream",
     "text": [
      "machine learning!\n"
     ]
    }
   ],
   "source": [
    "txt = \"Machine Learning!\"\n",
    "\n",
    "x = txt.casefold()\n",
    "\n",
    "print(x)"
   ]
  },
  {
   "cell_type": "code",
   "execution_count": 27,
   "metadata": {},
   "outputs": [
    {
     "name": "stdout",
     "output_type": "stream",
     "text": [
      "1\n"
     ]
    }
   ],
   "source": [
    "txt = \"Flyfishing is Amazing\"\n",
    "\n",
    "x = txt.count(\"Flyfishing\")\n",
    "\n",
    "print(x)"
   ]
  },
  {
   "cell_type": "code",
   "execution_count": 32,
   "metadata": {},
   "outputs": [
    {
     "name": "stdout",
     "output_type": "stream",
     "text": [
      "6\n"
     ]
    }
   ],
   "source": [
    "txt = \"Machine Learning.\"\n",
    "\n",
    "x = txt.find(\"e\")\n",
    "\n",
    "print(x)\n"
   ]
  },
  {
   "cell_type": "code",
   "execution_count": 34,
   "metadata": {},
   "outputs": [
    {
     "name": "stdout",
     "output_type": "stream",
     "text": [
      "My name is Borja, I'm 12\n"
     ]
    }
   ],
   "source": [
    "txt1 = \"My name is {fname}, I'm {age}\".format(fname = \"Borja\", age = 12)\n",
    "print(txt1)\n"
   ]
  },
  {
   "cell_type": "code",
   "execution_count": 36,
   "metadata": {},
   "outputs": [
    {
     "name": "stdout",
     "output_type": "stream",
     "text": [
      "machine learning\n"
     ]
    }
   ],
   "source": [
    "txt = \"Machine LEARNING\"\n",
    "\n",
    "x = txt.lower()\n",
    "\n",
    "print(x)"
   ]
  },
  {
   "cell_type": "code",
   "execution_count": 49,
   "metadata": {},
   "outputs": [
    {
     "name": "stdout",
     "output_type": "stream",
     "text": [
      "No\n"
     ]
    }
   ],
   "source": [
    "#Question 3\n",
    "\n",
    "def isPalindrome(s):\n",
    "    return s == s[::-1]\n",
    " \n",
    "\n",
    "s = \"rene\"\n",
    "ans = isPalindrome(s)\n",
    " \n",
    "if ans:\n",
    "    print(\"Yes\")\n",
    "else:\n",
    "    print(\"No\")"
   ]
  },
  {
   "cell_type": "code",
   "execution_count": 53,
   "metadata": {},
   "outputs": [
    {
     "name": "stdout",
     "output_type": "stream",
     "text": [
      "True\n",
      "True\n"
     ]
    }
   ],
   "source": [
    "def is_anagram(str1, str2):\n",
    "    list_str1 = list(str1)\n",
    "    list_str1.sort()\n",
    "    list_str2 = list(str2)\n",
    "    list_str2.sort()\n",
    "\n",
    "    return (list_str1 == list_str2)\n",
    "\n",
    "print(is_anagram('gato','toga'))\n",
    "print(is_anagram('recopila','copilare'))"
   ]
  },
  {
   "cell_type": "code",
   "execution_count": null,
   "metadata": {},
   "outputs": [],
   "source": [
    "#Question 4"
   ]
  },
  {
   "cell_type": "code",
   "execution_count": 75,
   "metadata": {},
   "outputs": [
    {
     "name": "stdout",
     "output_type": "stream",
     "text": [
      "machinelearning\n"
     ]
    }
   ],
   "source": [
    "str1 = \"MACHINE\"\n",
    "str2 = \"LEARNING\"\n",
    "print(str1.lower() + str2.lower())\n"
   ]
  },
  {
   "cell_type": "code",
   "execution_count": null,
   "metadata": {},
   "outputs": [],
   "source": []
  }
 ],
 "metadata": {
  "kernelspec": {
   "display_name": "Python 3",
   "language": "python",
   "name": "python3"
  },
  "language_info": {
   "codemirror_mode": {
    "name": "ipython",
    "version": 3
   },
   "file_extension": ".py",
   "mimetype": "text/x-python",
   "name": "python",
   "nbconvert_exporter": "python",
   "pygments_lexer": "ipython3",
   "version": "3.8.3"
  }
 },
 "nbformat": 4,
 "nbformat_minor": 4
}
